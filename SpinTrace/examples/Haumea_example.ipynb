{
 "cells": [
  {
   "cell_type": "code",
   "execution_count": 1,
   "id": "51f56530-a20e-4120-abec-7895ac8bf1df",
   "metadata": {},
   "outputs": [],
   "source": [
    "import spintrace                               # imports the library"
   ]
  },
  {
   "cell_type": "code",
   "execution_count": 2,
   "id": "00946a04-0ad1-4dee-9b18-4a63d6613a9a",
   "metadata": {},
   "outputs": [],
   "source": [
    "# # Initialize the Downloader class\n",
    "# downloader = spintrace.Downloader(\n",
    "#     csv_file='Haumea/table_Haumea-system-barycenter20136108.csv', # Path to your metadata file.\n",
    "#     path_to_save_fits='Haumea/fits_tables/',                      # Folder to save the FITS files.\n",
    "#     max_workers=5,                                                # Number of parallel downloads.\n",
    "#     # ptype='scimrefdiffing',                                     # Type of ZTF product, this one refers to difference images (science-template).\n",
    "#     verbose=False)                                                # Print potential warning messages.\n",
    "\n",
    "# downloader.download_fits()                                        # Donwloads the FITS tables containing multiple PSF photometries. \n",
    "# # downloader.download_fits(ptype='scimrefdiffing')                # Donwloads the science-template image (FITS cube)."
   ]
  },
  {
   "cell_type": "code",
   "execution_count": 3,
   "id": "314aee38-a298-41cf-94fd-f545b69c3135",
   "metadata": {},
   "outputs": [],
   "source": [
    "fits_files = spintrace.get_files('Haumea/fits_tables/') #Creates a list of FITS files.\n",
    "# Defines the targeted small body.\n",
    "body = spintrace.Body(name=\"Haumea\",                    # Small body oficial name.\n",
    "                      ephem_start_date=\"2018-03-24\",    # Ephemeris starting date.\n",
    "                      ephem_end_date=\"2025-07-01\")      # Ephemeris ending date."
   ]
  },
  {
   "cell_type": "code",
   "execution_count": 4,
   "id": "94302bf6-b28a-444e-8c61-c49babd221a3",
   "metadata": {},
   "outputs": [
    {
     "name": "stderr",
     "output_type": "stream",
     "text": [
      "2025-08-13 19:10:47,628 - INFO - Found existing Gaia stars final file: Haumea/gaia_closeby_stars.fits\t Skipping Gaia query and loading existing results...\n",
      "2025-08-13 19:10:47,696 - INFO - Removing rows where a Gaia star is ≤ 4\" from the asteroid's expected position.\n"
     ]
    },
    {
     "name": "stdout",
     "output_type": "stream",
     "text": [
      "Filtered table has 1666 rows after filtering.\n"
     ]
    }
   ],
   "source": [
    "# Haumea colors are not available, so they were set to zero\n",
    "mpa = spintrace.MultiPhotometryAnalysis(\n",
    "    fits_files=fits_files,              # List of FITS table files donwloaded before.\n",
    "    body=body,                          # Haumea body as defined above.\n",
    "    colors={'g-r': 0.0,'r-i':0.0},      # Neutral or real color terms.\n",
    "    color_errs={'g-r': 0.0,'r-i':0.0},  # Corresponding uncertainties.\n",
    "    v_tol=1.0)                          # Magnitude tolerance for PSF matching.\n",
    "mpa.run_analysis(check_close_stars=True)"
   ]
  },
  {
   "cell_type": "code",
   "execution_count": 5,
   "id": "2b400ee9-b024-436c-99a6-1f6b164eb2bb",
   "metadata": {},
   "outputs": [],
   "source": [
    "# Initiates the Plots class\n",
    "plots = spintrace.Plots(table = mpa.reduced_table, # Table obtained above.\n",
    "                    ast_name='Haumea',         # Asteroid name.\n",
    "                    fontsize=16)               # Fontsize to be used in the plots. "
   ]
  },
  {
   "cell_type": "code",
   "execution_count": 6,
   "id": "9b8b6594-ed36-4dc4-8a59-2fea54c6d5e8",
   "metadata": {},
   "outputs": [
    {
     "name": "stdout",
     "output_type": "stream",
     "text": [
      "Figure saved to Haumea/plots/Haumea_phase_curve_g_linear.jpg\n"
     ]
    }
   ],
   "source": [
    "# This method fits a phase function to a set of reduced magnitudes, returning the parameter (popt) and labels using all data and binned data as well. \n",
    "popt, fit_label, popt2, fit_label_binned = mpa.fit_phase_curve(filter_code='g', # g-SDSS filter.\n",
    "                                                               phase_bin=0.1)   # Phase angle will be binned by this number.\n",
    "\n",
    "plots.phase_curve(filter_code='g',                                              # g-SDSS filter.\n",
    "                  popt=popt,                                                    # H and beta fitted above using all points.\n",
    "                  fit_label=fit_label,                                          # Labels. \n",
    "                  popt2=popt2,                                                  # H and beta fitted above using binned points.\n",
    "                  fit_label_binned=fit_label_binned,                            # Labels.\n",
    "                  show_yerr=True,                                               # Activate individual points photometric error bars in the plot. \n",
    "                  show_color=True,                                              # \n",
    "                  save_path='Haumea/plots/Haumea_phase_curve_g_linear.jpg')     # Path to save the plot. "
   ]
  },
  {
   "cell_type": "code",
   "execution_count": 7,
   "id": "2099050b-b49c-4cb9-b532-78970418bebb",
   "metadata": {},
   "outputs": [
    {
     "name": "stdout",
     "output_type": "stream",
     "text": [
      "Figure saved to Haumea/plots/Haumea_phase_curve_i_linear.jpg\n"
     ]
    }
   ],
   "source": [
    "# This method fits a phaase function to a set of reduced magnitudes, returning the parameter (popt) and labels using all data and binned data as well. \n",
    "popt, fit_label, popt2, fit_label_binned = mpa.fit_phase_curve(filter_code='i', # i-SDSS filter.\n",
    "                                                               phase_bin=0.1)   # Phase angle will be binned by this number.\n",
    "\n",
    "plots.phase_curve(filter_code='i',                                              # i-SDSS filter.\n",
    "                  popt=popt,                                                    # H and beta fitted above using all points.\n",
    "                  fit_label=fit_label,                                          # Labels. \n",
    "                  popt2=popt2,                                                  # H and beta fitted above using binned points.\n",
    "                  fit_label_binned=fit_label_binned,                            # Labels.\n",
    "                  show_yerr=True,                                               # Activate individual points photometric error bars in the plot. \n",
    "                  show_color=True,                                              # \n",
    "                  save_path='Haumea/plots/Haumea_phase_curve_i_linear.jpg')     # Path to save the plot. "
   ]
  },
  {
   "cell_type": "code",
   "execution_count": 8,
   "id": "3c416112-cc51-4064-be17-596b037d7d73",
   "metadata": {},
   "outputs": [
    {
     "name": "stdout",
     "output_type": "stream",
     "text": [
      "Figure saved to Haumea/plots/Haumea_phase_curve_r_linear.jpg\n"
     ]
    }
   ],
   "source": [
    "# This method fits a phaase function to a set of reduced magnitudes, returning the parameter (popt) and labels using all data and binned data as well. \n",
    "popt, fit_label, popt2, fit_label_binned = mpa.fit_phase_curve(filter_code='r', # r-SDSS filter.\n",
    "                                                               phase_bin=0.1)   # Phase angle will be binned by this number.\n",
    "\n",
    "plots.phase_curve(filter_code='r',                                              # r-SDSS filter.\n",
    "                  popt=popt,                                                    # H and beta fitted above using all points.\n",
    "                  fit_label=fit_label,                                          # Labels. \n",
    "                  popt2=popt2,                                                  # H and beta fitted above using binned points.\n",
    "                  fit_label_binned=fit_label_binned,                            # Labels.\n",
    "                  show_yerr=True,                                               # Activate individual points photometric error bars in the plot. \n",
    "                  show_color=True,                                              # \n",
    "                  save_path='Haumea/plots/Haumea_phase_curve_r_linear.jpg')     # Path to save the plot. "
   ]
  },
  {
   "cell_type": "code",
   "execution_count": 9,
   "id": "8e5aa86d-17a3-40e4-8349-ccbee5fc6dd2",
   "metadata": {},
   "outputs": [
    {
     "name": "stdout",
     "output_type": "stream",
     "text": [
      "Fit result for g filter using original data and linear model:\n",
      "Original data linear fit: H = 0.54, G = 0.09\n",
      "Fit result for i filter using original data and linear model:\n",
      "Original data linear fit: H = 0.00, G = 0.13\n",
      "Fit result for r filter using original data and linear model:\n",
      "Original data linear fit: H = 0.07, G = 0.13\n"
     ]
    }
   ],
   "source": [
    "# Looking the plots user can verify the fits and get the H and beta values to correct each data set by the solar phase angle effects. \n",
    "table_g = mpa.fit_phase_curve(filter_code='g',H=0.54,G=0.09)\n",
    "table_i = mpa.fit_phase_curve(filter_code='i',H=0.00,G=0.13)\n",
    "table_r = mpa.fit_phase_curve(filter_code='r',H=0.07,G=0.13)"
   ]
  },
  {
   "cell_type": "code",
   "execution_count": 10,
   "id": "d05a736b-9e5a-4b22-9a84-8bb9f17062b1",
   "metadata": {},
   "outputs": [],
   "source": [
    "# Merge the corrected-by-phase angle data into a single data set\n",
    "from astropy.table import vstack\n",
    "merged_table = vstack ([table_g,table_r,table_i])"
   ]
  },
  {
   "cell_type": "code",
   "execution_count": 11,
   "id": "bdea4d2a-37e5-4dcd-bbb1-9495d4ce14f4",
   "metadata": {},
   "outputs": [
    {
     "name": "stdout",
     "output_type": "stream",
     "text": [
      "Figure saved to Haumea/plots/Haumea_phase_corrected_all.jpg\n"
     ]
    },
    {
     "data": {
      "application/vnd.plotly.v1+json": {
       "config": {
        "plotlyServerURL": "https://plot.ly"
       },
       "data": [
        {
         "cliponaxis": true,
         "error_y": {
          "array": {
           "bdata": "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",
           "dtype": "f8"
          },
          "color": "gray",
          "type": "data",
          "width": 1
         },
         "hovertemplate": "filter_code=g<br>jd_lt_corr=%{x}<br>phase_corrected_mag=%{y}<extra></extra>",
         "legendgroup": "g",
         "marker": {
          "color": "#636efa",
          "symbol": "circle"
         },
         "mode": "markers",
         "name": "g",
         "orientation": "v",
         "showlegend": true,
         "type": "scatter",
         "x": {
          "bdata": "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",
          "dtype": "f8"
         },
         "xaxis": "x",
         "y": {
          "bdata": "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",
          "dtype": "f8"
         },
         "yaxis": "y"
        },
        {
         "cliponaxis": true,
         "error_y": {
          "array": {
           "bdata": "AAAAAJqZmT8AAABgUI2nPwAAAGBSuJ4/AAAAAM/3oz8AAADAPQqnPwAAAMDjpas/AAAAIA8tsj8AAACgYhC4PwAAAIA3icE/AAAAYCuHlj8AAADAcmihPwAAAAB3vp8/AAAAwOOlmz8AAADgdJOYPwAAAOByaKE/AAAAoAisrD8AAAAgZTuvPwAAAABOYqA/AAAAwJmZmT8AAADgdr6fPwAAAMByaKE/AAAAQC2ynT8AAABgheuhPwAAAOB0k6g/AAAAgGDloD8AAABAheuhPwAAAGB1k6g/AAAAQCuHpj8AAADgPQqnPwAAAEArh6Y/AAAAYOOlmz8AAABAUI2XPwAAAKC8dJM/AAAAYAaBpT8AAABgBoG1PwAAACA+Cqc/AAAAICuHpj8AAADAl26iPwAAAIArh6Y/AAAAYPYorD8AAABgUriuPwAAACBQjZc/AAAAoL6fmj8AAABABoGVPwAAAOC8dJM/AAAAgIXroT8AAADgmZmZPwAAAMDjpZs/AAAAIFGNpz8AAADAvp+qPwAAAGDheqQ/AAAAIHWTmD8AAADAPQqnPwAAAAAZBKY/AAAAgOF6lD8AAACgvp+aPwAAAOB2vp8/AAAAgLx0oz8AAAAAmpmZPwAAAKC+n5o/AAAAAL+fmj8AAABgrByqPwAAAOCZmak/AAAAQJhukj8AAABgYOWgPwAAAOCZmZk/AAAAIHe+nz8AAAAAGy+tPwAAAEArh6Y/AAAAwLx0oz8AAABgYOWgPwAAAIAIrJw/AAAAYIXroT8AAAAAUI2nPwAAAOByaKE/AAAA4AisnD8AAACALbKdPwAAAGCq8aI/AAAA4Jduoj8AAADgPQqnPwAAACA+Cqc/AAAAoLx0oz8AAACgmpmZPwAAAGB1k5g/AAAAIL+fmj8AAACAmpmZPwAAAOCZmZk/AAAAoAisrD8AAADgmZmZPwAAACBTuI4/AAAAQHWTmD8AAACgvp+aPwAAAGB1k5g/AAAAQKrxoj8AAABABoGVPwAAAOCXbpI/AAAAQE5ioD8AAAAAdZOYPwAAAABANa4/AAAAAJqZmT8AAABgK4eWPwAAAEAsh5Y/AAAA4Lx0kz8AAAAgUI2XPwAAAGAIrJw/AAAAgLx0oz8AAADgdr6fPwAAACAtsp0/AAAAoL6fmj8AAACA4XqUPwAAAEArh5Y/AAAAwJduoj8AAABgVLiuPwAAAGDjpas/AAAAAHNooT8AAABAheuhPwAAAGAIrJw/AAAA4OOlmz8AAABgYOWgPwAAACBQjZc/AAAA4Ha+nz8AAADgdJOYPwAAACCF66E/AAAAgAisnD8AAADAj8K1PwAAAMCXbqI/AAAAAHe+nz8AAABAYhCoPwAAAKAYBKY/AAAAgLx0oz8AAAAAUI2XPwAAAOB0k5g/AAAAYGDloD8AAAAgLbKdPwAAACCF66E/AAAAYGQ7rz8AAAAgUI2XPwAAAEAtsp0/AAAAIIXroT8AAAAAdZOYPwAAACCF66E/AAAAwL6fmj8AAAAAd76fPwAAAOByaKE/AAAAwBgEpj8AAABgYhCoPwAAAECq8aI/AAAAoAisrD8AAADgmZmpPwAAAIAGgaU/AAAAAHNooT8AAAAgheuhPwAAAIBSuJ4/AAAAIFK4nj8AAADg+yKrPwAAAMC8dKM/AAAAQMdLtz8AAAAgc2ihPwAAACCamZk/AAAAIJqZuT8AAAAA9P2kPwAAAABh5bA/AAAAAJqZqT8AAABALbKdPwAAAECamZk/AAAAQAaBlT8AAAAALbKdPwAAAEArh5Y/AAAAIC+ynT8AAABgnZm5PwAAAECamZk/AAAAAFCNlz8AAACgvp+aPwAAACArh6Y/AAAAAFCNlz8AAABgdZOYPwAAAAAHgZU/AAAAoLx0kz8AAAAgdZOYPwAAAAB1k5g/AAAAQCuHlj8AAACA4XqUPwAAAEBTuK4/AAAAgOF6lD8AAACAYeWgPwAAAOByaKE/AAAAIL+fqj8AAAAAEVi5PwAAAEB3vp8/AAAAQL+fmj8AAAAALbKdPwAAAGDhepQ/AAAAYOOlmz8AAACABoGVPwAAAGAGgaU/AAAAIC2ynT8AAABACKycPwAAACArh5Y/AAAAoJdukj8AAADg46WbPwAAAECamZk/AAAAwJdukj8AAACABoGVPwAAACDBdLM/AAAAgOF6lD8AAABA4XqkPwAAAOB0k5g/AAAA4HSTmD8AAABgBoGVPwAAAAAJrIw/AAAAwJdukj8AAAAgUI2XPwAAAIDhepQ/AAAA4Jdukj8AAACACKycPwAAACBQjZc/AAAAwLx0kz8AAADAvHSTPwAAAGArh6Y/AAAAAJqZqT8AAADgZDu/PwAAAIDjpZs/AAAAoGDloD8AAACA4XqUPwAAAKC8dKM/AAAAoAaBlT8AAABABoGVPwAAAAB3vp8/AAAAAHWTmD8AAAAgLbKdPwAAAKCXbpI/AAAAQFCNlz8AAACgvp+aPwAAAABQjZc/AAAA4HSTmD8AAACAv5+KPwAAAABQjZc/AAAAgOF6lD8AAACA4XqUPwAAAIDjpZs/AAAA4HJooT8AAAAAUriePwAAAABOYqA/AAAAQC2ynT8AAADgl26iPwAAAABzaKE/AAAAAHNooT8AAABgheuhPwAAAKCHFqk/AAAAIE5isD8AAADAhxapPwAAAOCZmak/AAAA4BgEpj8AAAAAd76fPwAAAOB2vp8/AAAAoL6fmj8AAAAgTmKQPwAAAKCXbpI/AAAA4JmZmT8AAAAAd76fPwAAAABQjZc/AAAA4HJokT8AAAAgqvGiPwAAAGDhepQ/AAAAQAaBlT8AAAAAUriePwAAAABSuJ4/AAAAAFCNlz8AAACAl26iPwAAAMByaKE/AAAAAHe+nz8AAADAxCCwPwAAAOAYBKY/AAAA4L6fmj8AAAAAd76fPwAAAIDSIqs/AAAAAC2ynT8AAADgBoGVPwAAAGAGgZU/AAAAYCuHlj8AAABgUI2XPwAAAOB2vp8/AAAA4HSTmD8AAABAfT+1PwAAAMDhepQ/AAAAIKwcqj8AAAAg/KnBPwAAAGCembk/AAAAYFGNtz8AAACgary0PwAAAABSuJ4/AAAAYL+fmj8AAADgCaycPwAAAGCF66E/AAAAQIXroT8AAADA4XqkPwAAACBTuL4/AAAAgAisnD8AAABAK4emPwAAAMC+n5o/AAAA4PP9pD8AAAAgv5+qPwAAAODEILA/AAAAwGIQqD8AAAAA9P2kPwAAAABQjac/AAAAgFK4nj8AAADAvHSTPwAAAEDP96M/AAAAgCuHlj8AAACAl26iPwAAAKBSuJ4/AAAAgC2ynT8AAADgdJOYPwAAACArh5Y/AAAAwLx0kz8AAABgmpmZPwAAAMCXbqI/AAAAYIXroT8AAADgxCCwPwAAAGDXo7A/AAAAYCuHpj8AAACgEoPAPwAAAKAIrJw/AAAA4BgEpj8AAABABoGVPwAAAEArh5Y/AAAAQIXroT8AAABAK4eWPwAAAGBQjZc/AAAAQAaBlT8AAADgdJOYPwAAAAC/n5o/AAAA4HNooT8AAACgn5mpPwAAACArh5Y/AAAAoJdukj8AAABABoGVPwAAAOByaJE/AAAAoLx0kz8AAAAATmKgPwAAAODO96M/AAAAYFCNlz8AAADgdJOYPwAAAABQjZc/AAAAQAaBlT8AAAAgTmKQPwAAAMC8dJM/AAAA4HSTmD8AAABg4XqUPwAAAEAIrJw/AAAAoGDloD8AAAAgdZOoPwAAAIAIrJw/AAAAQJqZmT8AAAAgz/ejPwAAAGDP96M/AAAA4Lx0oz8AAACgvHSTPwAAAGBg5aA/AAAAAJqZmT8AAACA4XqUPwAAAKCXbqI/AAAAgOF6pD8AAAAgd76vPwAAAABOYqA/AAAAIHWTmD8AAAAgqvGiPwAAAGDjpZs/AAAAYOF6lD8AAAAgdZOYPwAAAAB3vp8/AAAAoJduoj8AAACAd76fPwAAACCq8aI/AAAAIM/3oz8AAACgCKycPwAAAIAkf6M/AAAA4PP9pD8AAACABoGVPwAAAMCsHKo/AAAAQPypsT8AAABAGy+tPwAAACDRIqs/AAAAQC2yrT8AAABgBoGlPwAAACD0/aQ/AAAAYKrxoj8AAAAg0SKrPwAAAIBlO68/AAAAoKwcqj8AAAAgqvGiPwAAACBSuJ4/AAAAoGIQqD8AAAAgdZOoPwAAAECq8aI/AAAAQE5ioD8AAAAgc2ihPwAAAGBQjZc/AAAAQKrxoj8AAAAAmpmpPwAAAADDdLM/AAAAgGDloD8AAACgd76fPwAAAIAIrKw/AAAAAGU7rz8AAABABoGlPwAAAODjpZs/AAAAgLx0oz8AAADgcmiRPwAAAOByaJE/AAAAoJdukj8AAABATmKQPwAAAEBOYqA/AAAAwL6fmj8AAACgvp+aPwAAAGAGgZU/AAAAICuHlj8AAAAgUI2XPwAAAOB0k5g/AAAAYL+fij8AAACgvp+aPwAAAABOYqA/AAAA4HSTmD8AAAAATmKgPwAAACArh5Y/AAAAYOOlmz8AAADAl26SPwAAAGDhepQ/AAAAoFK4jj8AAABAK4eWPwAAAGAGgZU/AAAAgOF6lD8AAADAcmihPwAAAABSuJ4/AAAAgD0Kpz8AAAAgqvGiPwAAAMC+n5o/AAAAAOSlmz8AAADAv5+qPwAAAMBSuK4/AAAAQM/3oz8AAABABoGlPwAAACBzaJE/AAAAIFK4nj8AAACgvHSTPwAAAIDEdKM/AAAAwD+4sj8AAADgmZmZPwAAAOCZmZk/AAAAoAisjD8AAAAAdZOYPwAAAEAtsp0/AAAAQM/3oz8AAABgLbKdPwAAAAB3vp8/AAAAICuHlj8AAADgdJOYPwAAAKCXbpI/AAAAQAaBlT8AAABATmKQPwAAACBSuJ4/AAAAIE5ioD8AAAAgz/ejPwAAAICXbqI/AAAA4HSTqD8AAABALbKdPwAAAKC+n5o/AAAAAE5ioD8AAABAhxapPwAAAOB2vp8/AAAAYAaBlT8AAAAAUI2nPwAAAMAaL60/AAAAQHe+nz8AAADgdJOYPwAAAMAaL60/AAAAIE5ioD8AAAAATmKgPwAAACArh6Y/AAAAgOF6lD8AAACgrByqPwAAAMCXbpI/AAAAIKrxoj8AAAAgLbKdPwAAACBQjbc/AAAA4OkmwT8AAAAALbKtPwAAAABzaKE/AAAAYGDloD8AAADAGASmPwAAAIDjpZs/AAAAAHe+nz8AAADgdr6fPwAAAIBg5aA/AAAAYNejsD8AAAAgqvGiPwAAAKC8dKM/AAAAoAaBpT8AAABAheuhPwAAAEAtsp0/AAAAYFK4nj8AAAAA9iisPwAAACDP96M/AAAAYCuHpj8AAABgYOWwPwAAAODGS7c/AAAA4JmZmT8AAACAl26iPwAAAKC+n5o/AAAAwJmZmT8AAADg9SisPwAAAABQjZc/AAAAQAaBlT8AAADAGASmPwAAAKDjpZs/AAAAYCuHlj8AAADAl26SPwAAACBQjZc/AAAAAFCNlz8AAADAGASmPwAAAEAGgZU/AAAAgLx0oz8AAAAALbKdPwAAACBQjZc/AAAA4L6fmj8AAACg46WbPwAAAGBQjac/AAAAAHe+rz8AAABgCaycPwAAAOB0k5g/AAAAANEiqz8AAAAgK4eWPwAAAMAIrJw/AAAAQHe+nz8AAACAYhCoPwAAACArh5Y/AAAAQAaBlT8AAAAgz/ejPwAAAOD1KKw/AAAAgJduoj8AAABA4nqUPwAAAOCXbpI/AAAAQFCNlz8AAADACKycPwAAAKAIrJw/AAAAIKrxoj8AAADAvHSjPwAAAGB3vp8/AAAAQE5ioD8AAADgK4eWPwAAAKC8dKM/AAAAICuHlj8AAADgdJOoPwAAAMAYBKY/AAAAQAaBlT8AAABABoGlPwAAAKDhepQ/AAAAwBgEpj8AAACABoGlPwAAAEBzaKE/AAAAYCuHpj8AAAAgK4emPwAAAIC8dKM/AAAAQIXroT8AAAAAmpmZPwAAAOB0k6g/AAAAgGDloD8AAABAyEu3PwAAAKAIrJw/AAAAAPT9pD8AAABAUriePwAAAMCXbqI/AAAAgIcWqT8AAABAz/ejPwAAACBSuJ4/AAAA4HSTmD8AAABABoGVPwAAAABPYqA/AAAAoJduoj8AAAAgK4emPwAAAMByaKE/AAAAwPP9pD8AAADgdr6fPwAAAEBiEKg/AAAAoGDloD8AAADgGASmPwAAAGDRIqs/AAAAIHe+rz8AAABAmW6iPwAAAKDjpZs/AAAAYGDloD8AAABg4XqkPwAAACCq8aI/AAAAQOF6pD8AAADgdJOYPwAAAGAIrJw/AAAAQAisrD8AAADgT42nPwAAAKC+n6o/AAAA4HSTmD8AAAAgK4emPwAAAMCXbqI/AAAAwHJooT8AAACAheuhPwAAAOBiELg/AAAAQKrxsj8AAABA/tS4PwAAAABSuJ4/AAAAQC2ynT8AAAAAdZOYPwAAAGDheqQ/AAAAoAisnD8AAAAgK4eWPwAAAGB1k5g/AAAAIHe+nz8AAABgYOWgPwAAAKDjpZs/AAAAYAisnD8AAABgYhCoPwAAACAtsp0/AAAAgAisnD8AAABALbKdPwAAACCq8aI/AAAAAE5ioD8AAAAAv5+qPwAAAKCF66E/AAAAYOOlqz8AAACgmZmpPwAAACC/n5o/AAAAgD0Kpz8AAAAgUriePwAAACArh6Y/AAAAAHNokT8AAAAAUI2XPwAAAGBiEKg/AAAAIFCNpz8AAABgheuhPwAAAGDjpas/AAAAwHJooT8AAABAK4eWPwAAAEAGgZU/AAAAYGDloD8AAADgzvejPwAAAABQjZc/AAAAoBgEpj8AAABgCKycPwAAAODO96M/AAAAwEW2sz8AAADAcmihPwAAAAAtsp0/AAAAIKrxoj8AAACAPQqnPwAAAIDheqQ/AAAAICuHpj8AAABgYOWgPwAAAOCF66E/AAAAgLx0oz8AAADAcmihPwAAACCHFqk/AAAAYOOlqz8AAAAgTmKgPwAAACCq8aI/AAAAQKwcqj8AAAAAUriuPwAAACBzaLE/AAAAAE5ioD8AAACAYOWgPwAAAKC+n6o/AAAAYIcWqT8AAADAl26iPwAAAECF66E/AAAA4PP9pD8AAABgK4emPwAAACDP96M/AAAAgISTuD8AAACgYOWgPwAAAGAhsMI/AAAA4MZLtz8AAADgYhCoPwAAACDRIqs/AAAAYL50oz8AAADgUriePwAAAMAIZMA/AAAAgKrxsj8AAACA4Xq0PwAAAECuR8E/AAAAQAaBlT8AAACgvp+aPwAAAGBg5aA/AAAAgD81rj8AAAAALbKdPwAAAOBNYqA/AAAAAFCNlz8AAABgZDuvPwAAAMC8dKM/AAAAIAaBpT8AAAAgheuhPwAAAMByaKE/AAAA4Ha+nz8AAABABoGVPwAAAIC8dKM/AAAAQAaBpT8AAADAdJOoPwAAAID8qbE/AAAAwBovrT8AAABACKycPwAAAABQjZc/AAAA4HSTmD8AAACAl26iPwAAAABOYqA/AAAAIIXroT8AAAAAUriePwAAAODO96M/AAAAgOOlqz8AAADgg7y0PwAAAIAPLbI/AAAAwPP9pD8AAAAALbKtPwAAACB1k6g/AAAAgC2yrT8AAABAYhCoPwAAAGDjpas/AAAAICuHlj8AAACgGASmPwAAAKAYBKY/AAAAgL6fqj8AAAAArByqPwAAAIA/Na4/AAAAwPP9pD8AAACAl26iPwAAAIA9Cqc/AAAAwHSTqD8AAAAgBoGlPwAAAOB0k5g/AAAAwHSTqD8AAAAAUriePwAAAGAOLbI/AAAA4E1ioD8AAADgzvejPwAAAKC+n5o/AAAAgLx0oz8AAAAgheuhPwAAAGC8dKM/AAAAACuHpj8AAADAcmihPwAAAMByaLE/AAAAIAaBpT8AAADAGi+tPwAAAGBg5aA/AAAA4Ha+nz8AAAAAUriePwAAAOBNYrA/AAAAYGDloD8AAACgvp+aPwAAAKAIrJw/AAAAQH8/tT8AAADgbOe7PwAAAAC9dLM/AAAAwEA1vj8AAADAhuuxPwAAACDP96M/AAAAYIcWqT8AAACA4XqkPwAAAKBg5aA/AAAAYOF6pD8AAABgYOWwPwAAAECsHKo/AAAAwJmZqT8AAABALbKdPwAAAKCXbqI/AAAAYPYorD8AAADAl26iPwAAAOC8dKM/AAAAYM/3oz8AAAAgPgqnPwAAAAB9P7U/AAAAoKwcqj8AAABA16OwPwAAAOBFtrM/AAAAoFg5tD8AAAAgc2iRPwAAAEDheqQ/AAAAgLx0oz8AAABAK4eWPwAAAIBg5aA/AAAAYCuHlj8AAABArByqPwAAAIAzM7M/AAAA4OkmsT8AAABgqvGiPwAAAKDheqQ/AAAAwBgEpj8AAADgGASmPwAAAECF66E/AAAAIKrxoj8AAACgCKycPwAAAODz/aQ/AAAAgOF6pD8AAAAgd76vPwAAAODjpas/AAAAQHe+rz8AAACgEFi5PwAAAKDjpZs/AAAA4OF6lD8AAAAATmKgPwAAAMCXbqI/AAAAAHe+nz8AAADAcmihPwAAAMDz/aQ/AAAAIKrxoj8AAACAvHSjPwAAAKC+n5o/AAAAoNnOtz8AAAAATmKgPwAAAGB1k5g/AAAAoGDloD8AAACACKycPwAAAKC+n5o/AAAAAFK4nj8AAADgdJOYPwAAAAArh6Y/AAAA4HSTqD8AAADgdJOYPwAAAABQjZc/AAAAwL6fmj8AAABABoGVPwAAAEAGgZU/AAAAAFCNlz8AAACgvp+aPwAAAABQjZc/AAAAwJmZmT8AAAAAqvGiPwAAAMA9Cqc/AAAAAL+fmj8AAACgCKycPwAAACCF66E/AAAAICuHlj8AAADA8/2kPwAAAMC8dJM/AAAAYOOlqz8AAADgvHSjPwAAAEBg5aA/AAAAYOOlmz8AAAAAdZOYPwAAAABQjZc/AAAAoL6fmj8AAAAg/KmxPwAAAMByaKE/AAAAYGDloD8AAAAgheuhPwAAACAGgZU/AAAAAFCNlz8AAABA4XqUPwAAAMDhepQ/AAAA4M73oz8AAACAPzWuPwAAACCF66E/AAAAYOOlmz8AAAAALbKdPwAAAGAIrJw/AAAAAC2ynT8AAACAvp+qPwAAAMB0k6g/AAAAoJdukj8AAAAALbKdPwAAAOAGgaU/AAAAQAisrD8AAAAgBoGlPwAAACCHFqk/AAAAAE5ioD8AAABg46WbPwAAAOB2vp8/AAAAAFK4nj8AAADgzvejPwAAACArh5Y/AAAAgLx0oz8AAAAAUI2XPwAAAMByaKE/AAAAwJmZmT8AAADA8/2kPwAAAODO96M/AAAAwHSTqD8AAACALbKdPwAAAECHFqk/AAAAIFK4nj8AAACgGASmPwAAAOB0k5g/AAAAIIXroT8AAADgzvejPwAAAABOYqA/AAAAgCuHlj8AAACA4XqUPwAAAEAtsp0/AAAAQIXroT8AAAAAUI2XPwAAAGBg5aA/AAAAoJdukj8AAACgGi+tPwAAAKCZmak/AAAAoBgEpj8AAAAAK4emPwAAAGDjpZs/AAAA4M73oz8AAABACKysPwAAAABSuJ4/AAAAIFK4nj8AAADgUbiuPwAAAABOYqA/AAAAAKwcqj8AAADg0CKrPwAAAEAIrKw/AAAAAKrxoj8AAACgl26SPwAAAIC8dJM/AAAAwJmZmT8AAACAvHSTPwAAAMCXbpI/AAAAwJdukj8AAABALbKdPwAAAODz/aQ/AAAAwBgEpj8AAAAAz/ejPwAAAABQjac/AAAAQOF6pD8AAABA4XqkPwAAAMB0k6g/AAAA4E+Npz8AAACgmZmpPwAAAIC+n6o/AAAAgD0Kpz8AAAAALbKdPwAAAODQIqs/AAAAIAaBlT8AAADgdJOYPwAAAABSuJ4/AAAAwPP9pD8AAACAvp+qPwAAAIA9Cqc/AAAAoBgEpj8AAABAYhC4PwAAACCF68E/AAAAYD4Kpz8AAADAxCCwPwAAAABQjac/AAAAoBgEpj8AAACgxCDAPwAAAEAIrKw/AAAAAKwcqj8AAADA8/2kPwAAAABSuJ4/AAAAwHJooT8AAABgYOWgPwAAAOB2vp8/AAAAwPP9pD8AAADgdJOYPwAAAIBqvLQ/AAAAANEiqz8AAADAxCCwPwAAACCq8aI/AAAAYOOlqz8AAACAvHSzPwAAAEArh6Y/AAAAwHJooT8AAAAgheuhPwAAACBSuJ4/AAAAIAaBpT8AAAAAc2ihPwAAAKCXbqI/AAAAoBgEpj8AAABACKysPwAAAAB1k6g/AAAAQKrxoj8AAABgYOWgPwAAAKDjpZs/AAAAAE5ioD8AAABgYOWgPwAAAGBg5aA/AAAA4PP9pD8AAADAGASmPwAAAECq8aI/AAAAoBgEpj8AAAAgqvGiPwAAAMDjpZs/AAAAIHe+nz8AAAAgTmKgPwAAACBSuJ4/AAAAgGDloD8AAAAAUI2nPwAAAOB0k6g/AAAA4M73sz8AAADgdJOoPwAAAKAYBKY/AAAAYGDloD8AAACALbKdPwAAAOCZmZk/AAAAAJqZmT8AAADgcmihPwAAAIAIrJw/AAAAIIXroT8AAACAvHSjPwAAACAGgaU/AAAAICuHpj8AAADgmZm5PwAAAOCZmak/AAAAQKwcqj8AAABAd76vPwAAAAD2/aQ/AAAAYOF6pD8AAADAGi+tPwAAACCq8aI/AAAAAHe+nz8AAACgl26yPwAAAAA+Cqc/AAAAAFCNpz8AAABAd76fPwAAAKC8dKM/AAAAQNejsD8AAAAgIbCyPwAAAMCdbqI/AAAAQJqZqT8AAAAgrxyqPwAAAID9qbE/AAAAIOalqz8AAABg9yisPwAAAMCbmak/AAAAgIcWqT8AAACABoGlPwAAAID0/aQ/AAAAAJqZqT8AAAAgqvGiPwAAAIDheqQ/AAAAwLx0oz8AAABAK4emPwAAAECq8aI/AAAAIM/3oz8AAAAgfT+1PwAAAMDb+b4/AAAAoHWTqD8AAACgMzOzPwAAAMA9Crc/AAAAoDMzsz8AAABAheuxPwAAAMDjpas/AAAAgOF6tD8AAACgLbKtPwAAAGArh7Y/AAAAgIcWqT8AAADAK4emPwAAACBjEKg/AAAAIOJ6pD8AAAAgz/ejPwAAACDP96M/AAAAQIXroT8AAACAheuhPwAAAIDheqQ/AAAAICuHpj8AAAAgUriePwAAAGCF66E/AAAAIKwcqj8AAACACKycPwAAAEBlO68/AAAAAHNosT8AAABg9P2kPwAAACCbmak/AAAAoD0Ktz8AAABA2c63PwAAAIBANa4/AAAAYKwcqj8AAAAAGQSmPwAAAACG66E/AAAAQPYorD8AAABgYOWgPwAAAOCZmZk/AAAAQAisnD8AAABACKycPwAAAIC8dKM/AAAAYOOlmz8AAACgvp+aPwAAAIDjpZs/AAAA4JmZmT8AAAAAd76fPwAAAMA/Na4/AAAAoAisrD8AAADA8/2kPwAAACArh5Y/AAAA4JmZmT8AAAAAd76fPwAAAKC8dJM/AAAAQAisnD8AAADgTWKgPwAAAMCZmZk/AAAAQAaBlT8AAADAl26SPwAAAIB1k5g/AAAA4HSTmD8AAACgvp+qPwAAAIC8dKM/AAAAAJqZmT8AAACACKycPwAAAABSuJ4/AAAAQC2yrT8AAAAgqvGiPwAAAIA9Cqc/AAAAAM/3oz8AAAAgBoGlPwAAAKDjpZs/AAAAwJmZmT8AAAAArByqPwAAAOBNYqA/AAAAIAaBlT8AAADAmZmZPwAAAIC8dJM/AAAAIAaBpT8AAADgT42nPwAAAMByaKE/AAAA4E+Nlz8AAABACKycPwAAAICXbpI/AAAAACuHpj8AAACgvp+aPwAAAEAIrJw/AAAAAC2ynT8AAACAvp+aPwAAAEBg5aA/AAAAgLx0kz8AAACAvHSTPwAAAAArh5Y/AAAAACuHlj8AAACAvHSTPwAAAKCXbpI/AAAAICuHlj8AAACA4XqUPwAAAAArh5Y/AAAAIAaBlT8AAAAAK4eWPwAAAEBSuJ4/AAAAgIXroT8AAAAAdZOYPwAAAMCZmak/AAAA4E1ioD8AAADAcmihPwAAAODO96M/AAAA4Ha+nz8AAADA8/2kPwAAAEDheqQ/AAAAgJduoj8AAADAmZmZPwAAACAGgZU/AAAAgL6fqj8AAADgTWKgPwAAAOBPjac/AAAAQGDloD8AAADgdr6fPwAAAOBPjZc/AAAAYLx0oz8AAAAgrByqPwAAACARua4/AAAAAE5ioD8AAADgzvejPwAAAOB2vp8/AAAAoAaBpT8AAADg0CKrPwAAAIBOYqA/AAAAgJqZmT8AAADg8/2kPwAAAIArh6Y/AAAAIGMQqD8AAAAgK4emPwAAAAB3vp8/AAAAIKrxoj8AAAAgqvGiPwAAAMCXbqI/AAAAQHe+nz8AAAAgUriePwAAACCq8aI/AAAAgLx0oz8AAACAheuhPwAAAECF66E/AAAAIHWTmD8AAACA46WbPwAAAABOYqA/AAAAwIcWqT8AAAAA0SKrPwAAAKCF66E/AAAAYKwcqj8AAAAAUI2nPwAAAEDP96M/AAAAgJqZqT8AAACA4XqkPwAAAEB3vq8/AAAAACGwsj8AAADAGASmPwAAAAB1k6g/AAAAQIcWqT8AAACACKysPwAAAKA9Crc/AAAAQBkEpj8AAADACKysPwAAAGD8qbE/AAAAgOF6tD8AAADAvp+qPwAAAOAYBKY/AAAAIIXroT8AAADAcmihPwAAAAB3vq8/AAAAQHWTqD8AAABgBoGVPwAAAABSuJ4/AAAAgOOlmz8AAADg8/2kPwAAAKC+n5o/AAAAIIXroT8AAAAAUI2nPwAAAMDjpZs/AAAAAC2ynT8AAACg4XqUPwAAAMDpJrE/AAAAwOkmsT8AAADgdr6fPwAAAICXbqI/AAAAYAisnD8AAAAAUriePwAAAMDa97M/AAAAYGDloD8AAADAmZmZPwAAAEAGgZU/AAAAICuHlj8AAAAAUI2XPwAAAAArh5Y/AAAA4HSTmD8AAACAvHSjPwAAAABOYpA/AAAAwJmZmT8AAABA4XqkPwAAAACq8bI/AAAAQGIQqD8AAABAYOWgPwAAAECF66E/AAAA4M73oz8AAADgdr6fPwAAAAAtsp0/AAAAAE5ioD8AAADAcmihPwAAAGDhepQ/AAAAAC2ynT8AAACgl26SPwAAAOCZmZk/AAAAYOOlmz8AAADgzvejPwAAACArh5Y/AAAAgJduoj8AAADAcmihPwAAAMDz/aQ/AAAAINejsD8AAADgT42nPwAAAIC+n6o/AAAAAC2ynT8AAABACKycPwAAACAGgaU/AAAAAM/3oz8AAABgYOWgPwAAAGAIrJw/AAAA4HSTmD8AAACAvHSjPwAAAICXbqI/AAAAYOOlmz8AAACgmZmZPwAAAICXbpI/AAAAAFCNlz8AAABAhxapPwAAAODO96M/AAAAwHJooT8AAAAALbKdPwAAACCHFqk/AAAAQAaBlT8AAAAAUriePwAAAGAIrJw/AAAAoL6fmj8AAABACKycPwAAAACsHKo/AAAA4E+Npz8AAAAgqvGiPwAAAMByaKE/AAAAIKrxoj8AAAAgheuhPwAAAAAtsp0/AAAAQAisnD8AAACgvp+aPwAAACCF66E/AAAAoBgEpj8AAAAAd76fPwAAAIC8dKM/AAAAAFK4nj8AAAAALbKdPwAAAIC8dKM/AAAAoL6fmj8AAAAgLbKdPwAAAGBg5aA/AAAAoJduoj8AAADgdr6fPwAAAOByaKE/AAAAAM/3oz8AAAAgheuhPwAAAIA9Cqc/AAAAIKrxoj8AAAAAK4emPwAAAOD1KKw/AAAAgD0Kpz8AAACAvHSjPwAAAGDjpas/AAAAwGq8tD8AAACgokW2PwAAAIAIrKw/AAAAQHe+nz8AAACAheuhPwAAAEArh6Y/AAAAAM/3oz8AAACgrByqPwAAAMC+n6o/AAAA4GIQqD8AAACACKycPwAAAAB1k5g/AAAAAHWTmD8AAADgcmihPwAAACBOYqA/AAAAAJHCtT8AAABg16OwPwAAAAD8qbE/AAAAgLx0sz8AAACAvHSzPwAAAABSuJ4/AAAAoL6fmj8AAABg46WbPwAAAKAYBKY/AAAAAFK4nj8AAABACKycPwAAAEAGgZU/AAAAYGIQqD8AAADgdr6fPwAAAICXbqI/AAAAQGDloD8AAABAL93EPwAAAMByaKE/AAAA4FAjqz8AAACgGASmPwAAAOByaLE/AAAAAFCNlz8AAAAAUI2XPwAAAICXbqI/AAAAwCCwsj8AAADg8/2kPwAAAABSuJ4/AAAAgC+yrT8AAAAgK4eWPwAAAIC8dJM/AAAAYOOlmz8AAADAcmihPwAAAABOYqA/AAAAwHJooT8AAAAghxapPwAAAOD1KKw/AAAAoBovrT8AAACgl26iPwAAAICXbqI/AAAA4E+Npz8AAADgzvejPwAAAGDjpZs/AAAA4E+Npz8AAADgzvejPwAAAOBPjZc/AAAAAFCNlz8AAADAdr6fPwAAAEBg5aA/AAAAYOOlmz8AAAAgqvGiPwAAACArh5Y/AAAAgLx0kz8AAABg46WbPwAAACCq8aI/AAAAoBgEpj8AAADAdJOoPwAAAOB0k5g/AAAAYLx0oz8AAAAgqvGiPwAAAODz/aQ/AAAAgOF6lD8AAABgvHSjPwAAACCF66E/AAAAAC2ynT8AAAAAK4emPwAAAOB0k5g/AAAAIIXroT8AAABg46WbPwAAAKCXbpI/AAAAYOOlqz8AAADgzvejPwAAAOCZmZk/AAAAgAisnD8AAABALbKdPwAAAKCXbqI/AAAAoJmZqT8AAABAheuhPwAAAMByaKE/AAAAIIXroT8AAAAgheuhPwAAAODO96M/AAAAYGDloD8AAADgzvejPwAAAMByaKE/AAAAgIcWqT8AAABAhxapPwAAAEDheqQ/AAAA4Ha+nz8AAABAdZO4PwAAAEBSuJ4/AAAAIE5ioD8AAADAGASmPwAAAMByaKE/AAAAgAisnD8AAAAAz/ejPwAAAEDIS7c/AAAAQKrxsj8AAACgv3SjPwAAACCF66E/AAAAwL6fmj8AAACAl26iPwAAAKCXbqI/AAAAgLx0oz8AAAAAUriePwAAAGBg5aA/AAAAQAaBlT8AAACA46WbPwAAACCF66E/AAAAoL6fmj8AAABg4XqkPwAAAADP96M/AAAAQIXroT8AAACg46WrPwAAAABQjac/AAAAwHa+nz8AAABAYOWgPwAAAKCZmak/AAAAIIXroT8AAAAgBoGlPwAAAMB2vp8/AAAAgJduoj8AAADgzvejPwAAAIC+n6o/AAAAoJmZmT8AAADgzvejPwAAAIA9Cqc/AAAAoBgEpj8AAAAAqvGiPwAAAMB0k7g/AAAAQOF6pD8AAACAPzWuPwAAACAGgaU/AAAAgD0Kpz8AAAAgBoGlPwAAACAGgaU/AAAA4E+Npz8AAAAghxapPwAAAMB2vp8/AAAAwHSTqD8AAAAgheuhPwAAAMByaKE/AAAAgJduoj8AAABgvHSjPwAAAKCZmZk/AAAA4E1isD8AAADA8/2kPwAAAIDpJrE/AAAAQOF6pD8AAABgZDuvPwAAACCHFqk/AAAAwPUorD8AAABgDi2yPwAAAIA9Cqc/AAAAwHSTqD8AAAAATmKwPwAAAEDhepQ/AAAAQOF6pD8AAABACKysPwAAAKAYBKY/AAAA4E1ioD8AAACAvp+aPwAAAEBg5aA/AAAAIIXroT8AAADAcmihPwAAAEDheqQ/AAAAQGDloD8AAABAYOWwPwAAACAGgaU/AAAAwHSTqD8AAAAgBoGlPwAAAOBPjac/AAAA4FG4rj8AAAAALbKdPwAAAACsHKo/AAAAIIXrsT8AAAAghxapPwAAAACsHKo/AAAAAC2ynT8AAACAvp+qPwAAAKAYBKY/AAAAANejsD8AAACAvp+qPwAAAGCPwrU/AAAAAC2yrT8AAADAcmihPwAAAGDjpZs/AAAAwHSTmD8AAACgmZmZPwAAAIA9Cqc/AAAAYOOlqz8AAACgGASmPwAAAKCZmak/AAAAACuHpj8AAAAgBoGVPwAAAOBRuJ4/AAAAgD81rj8AAABg46WbPwAAAACq8aI/AAAAACuHlj8AAACAPQqnPwAAAGDjpas/AAAAYLx0oz8AAACgGASmPwAAAOBPjac/AAAAYGQ7rz8AAACgmZmpPwAAAAArh5Y/AAAAQGDloD8AAAAgBoGlPwAAAOBRuJ4/AAAAYLx0oz8AAAAALbKtPwAAACCHFqk/AAAAwHa+rz8AAAAAqvGyPwAAAACsHKo/AAAAQGIQqD8AAAAAK4emPwAAAOBRuK4/AAAAAKrxoj8AAABACKysPwAAAAAtsp0/AAAAgJduoj8AAABACKycPwAAAABQjac/AAAAwHa+nz8AAAAALbKdPwAAAIC+n5o/AAAAwPP9pD8AAADAcmihPwAAAKAYBKY/AAAAYOOlmz8AAABgvHSTPwAAAGC8dKM/AAAAACuHpj8AAADA8/2kPwAAAGDjpZs/AAAAQGIQqD8AAAAA9iisPwAAAABOYqA/AAAAQOF6pD8AAADAcmihPwAAAIA/Na4/AAAA4FG4rj8AAACAl26iPwAAAKCZmak/AAAA4FG4nj8AAABg46WrPwAAAAArh6Y/AAAAYOOlmz8AAABA4XqkPwAAAAAtsp0/AAAAgL6fqj8AAADgTWKwPwAAAEAIrJw/AAAAAKrxsj8AAACgRbazPwAAAOBRuJ4/AAAAIIXroT8AAAAAqvGiPwAAAACsHKo/AAAAwPP9pD8AAAAgbAq3PwAAAAAtsp0/AAAAAC2ynT8AAACAl26iPwAAAAArh5Y/AAAA4NAiqz8AAABg46WrPwAAAEAIrKw/AAAAAC2ynT8AAADgUbiePwAAACCHFqk/AAAA4PupsT8AAADgUbiePwAAAIA9Cqc/AAAAAKwcqj8AAABgvHSjPwAAAAAtsp0/AAAAQGIQqD8AAADgT42nPwAAAEBiEKg/AAAAAC2ynT8AAADgUbiePwAAAODO96M/AAAAgJduoj8AAADAdJOoPwAAAOBPjac/AAAAQGDloD8AAABA4XqkPwAAAOBPjZc/AAAAQAisnD8AAABgvHSjPwAAAMByaKE/AAAAwHa+rz8AAACgmZmpPwAAACAGgaU/AAAAIIXroT8AAABACKysPwAAAKDEILA/AAAAAFCNlz8AAADgzvejPwAAAKAYBKY/AAAAoMQgsD8AAADAdr6fPw==",
           "dtype": "f8"
          },
          "color": "gray",
          "type": "data",
          "width": 1
         },
         "hovertemplate": "filter_code=r<br>jd_lt_corr=%{x}<br>phase_corrected_mag=%{y}<extra></extra>",
         "legendgroup": "r",
         "marker": {
          "color": "#EF553B",
          "symbol": "circle"
         },
         "mode": "markers",
         "name": "r",
         "orientation": "v",
         "showlegend": true,
         "type": "scatter",
         "x": {
          "bdata": "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",
          "dtype": "f8"
         },
         "xaxis": "x",
         "y": {
          "bdata": "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",
          "dtype": "f8"
         },
         "yaxis": "y"
        },
        {
         "cliponaxis": true,
         "error_y": {
          "array": {
           "bdata": "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",
           "dtype": "f8"
          },
          "color": "gray",
          "type": "data",
          "width": 1
         },
         "hovertemplate": "filter_code=i<br>jd_lt_corr=%{x}<br>phase_corrected_mag=%{y}<extra></extra>",
         "legendgroup": "i",
         "marker": {
          "color": "#00cc96",
          "symbol": "circle"
         },
         "mode": "markers",
         "name": "i",
         "orientation": "v",
         "showlegend": true,
         "type": "scatter",
         "x": {
          "bdata": "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",
          "dtype": "f8"
         },
         "xaxis": "x",
         "y": {
          "bdata": "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",
          "dtype": "f8"
         },
         "yaxis": "y"
        }
       ],
       "layout": {
        "font": {
         "color": "black",
         "family": "serif",
         "size": 16
        },
        "legend": {
         "title": {
          "text": "filter_code"
         },
         "tracegroupgap": 0
        },
        "margin": {
         "b": 70,
         "l": 80,
         "r": 30,
         "t": 70
        },
        "template": {
         "data": {
          "bar": [
           {
            "error_x": {
             "color": "#2a3f5f"
            },
            "error_y": {
             "color": "#2a3f5f"
            },
            "marker": {
             "line": {
              "color": "#E5ECF6",
              "width": 0.5
             },
             "pattern": {
              "fillmode": "overlay",
              "size": 10,
              "solidity": 0.2
             }
            },
            "type": "bar"
           }
          ],
          "barpolar": [
           {
            "marker": {
             "line": {
              "color": "#E5ECF6",
              "width": 0.5
             },
             "pattern": {
              "fillmode": "overlay",
              "size": 10,
              "solidity": 0.2
             }
            },
            "type": "barpolar"
           }
          ],
          "carpet": [
           {
            "aaxis": {
             "endlinecolor": "#2a3f5f",
             "gridcolor": "white",
             "linecolor": "white",
             "minorgridcolor": "white",
             "startlinecolor": "#2a3f5f"
            },
            "baxis": {
             "endlinecolor": "#2a3f5f",
             "gridcolor": "white",
             "linecolor": "white",
             "minorgridcolor": "white",
             "startlinecolor": "#2a3f5f"
            },
            "type": "carpet"
           }
          ],
          "choropleth": [
           {
            "colorbar": {
             "outlinewidth": 0,
             "ticks": ""
            },
            "type": "choropleth"
           }
          ],
          "contour": [
           {
            "colorbar": {
             "outlinewidth": 0,
             "ticks": ""
            },
            "colorscale": [
             [
              0,
              "#0d0887"
             ],
             [
              0.1111111111111111,
              "#46039f"
             ],
             [
              0.2222222222222222,
              "#7201a8"
             ],
             [
              0.3333333333333333,
              "#9c179e"
             ],
             [
              0.4444444444444444,
              "#bd3786"
             ],
             [
              0.5555555555555556,
              "#d8576b"
             ],
             [
              0.6666666666666666,
              "#ed7953"
             ],
             [
              0.7777777777777778,
              "#fb9f3a"
             ],
             [
              0.8888888888888888,
              "#fdca26"
             ],
             [
              1,
              "#f0f921"
             ]
            ],
            "type": "contour"
           }
          ],
          "contourcarpet": [
           {
            "colorbar": {
             "outlinewidth": 0,
             "ticks": ""
            },
            "type": "contourcarpet"
           }
          ],
          "heatmap": [
           {
            "colorbar": {
             "outlinewidth": 0,
             "ticks": ""
            },
            "colorscale": [
             [
              0,
              "#0d0887"
             ],
             [
              0.1111111111111111,
              "#46039f"
             ],
             [
              0.2222222222222222,
              "#7201a8"
             ],
             [
              0.3333333333333333,
              "#9c179e"
             ],
             [
              0.4444444444444444,
              "#bd3786"
             ],
             [
              0.5555555555555556,
              "#d8576b"
             ],
             [
              0.6666666666666666,
              "#ed7953"
             ],
             [
              0.7777777777777778,
              "#fb9f3a"
             ],
             [
              0.8888888888888888,
              "#fdca26"
             ],
             [
              1,
              "#f0f921"
             ]
            ],
            "type": "heatmap"
           }
          ],
          "histogram": [
           {
            "marker": {
             "pattern": {
              "fillmode": "overlay",
              "size": 10,
              "solidity": 0.2
             }
            },
            "type": "histogram"
           }
          ],
          "histogram2d": [
           {
            "colorbar": {
             "outlinewidth": 0,
             "ticks": ""
            },
            "colorscale": [
             [
              0,
              "#0d0887"
             ],
             [
              0.1111111111111111,
              "#46039f"
             ],
             [
              0.2222222222222222,
              "#7201a8"
             ],
             [
              0.3333333333333333,
              "#9c179e"
             ],
             [
              0.4444444444444444,
              "#bd3786"
             ],
             [
              0.5555555555555556,
              "#d8576b"
             ],
             [
              0.6666666666666666,
              "#ed7953"
             ],
             [
              0.7777777777777778,
              "#fb9f3a"
             ],
             [
              0.8888888888888888,
              "#fdca26"
             ],
             [
              1,
              "#f0f921"
             ]
            ],
            "type": "histogram2d"
           }
          ],
          "histogram2dcontour": [
           {
            "colorbar": {
             "outlinewidth": 0,
             "ticks": ""
            },
            "colorscale": [
             [
              0,
              "#0d0887"
             ],
             [
              0.1111111111111111,
              "#46039f"
             ],
             [
              0.2222222222222222,
              "#7201a8"
             ],
             [
              0.3333333333333333,
              "#9c179e"
             ],
             [
              0.4444444444444444,
              "#bd3786"
             ],
             [
              0.5555555555555556,
              "#d8576b"
             ],
             [
              0.6666666666666666,
              "#ed7953"
             ],
             [
              0.7777777777777778,
              "#fb9f3a"
             ],
             [
              0.8888888888888888,
              "#fdca26"
             ],
             [
              1,
              "#f0f921"
             ]
            ],
            "type": "histogram2dcontour"
           }
          ],
          "mesh3d": [
           {
            "colorbar": {
             "outlinewidth": 0,
             "ticks": ""
            },
            "type": "mesh3d"
           }
          ],
          "parcoords": [
           {
            "line": {
             "colorbar": {
              "outlinewidth": 0,
              "ticks": ""
             }
            },
            "type": "parcoords"
           }
          ],
          "pie": [
           {
            "automargin": true,
            "type": "pie"
           }
          ],
          "scatter": [
           {
            "fillpattern": {
             "fillmode": "overlay",
             "size": 10,
             "solidity": 0.2
            },
            "type": "scatter"
           }
          ],
          "scatter3d": [
           {
            "line": {
             "colorbar": {
              "outlinewidth": 0,
              "ticks": ""
             }
            },
            "marker": {
             "colorbar": {
              "outlinewidth": 0,
              "ticks": ""
             }
            },
            "type": "scatter3d"
           }
          ],
          "scattercarpet": [
           {
            "marker": {
             "colorbar": {
              "outlinewidth": 0,
              "ticks": ""
             }
            },
            "type": "scattercarpet"
           }
          ],
          "scattergeo": [
           {
            "marker": {
             "colorbar": {
              "outlinewidth": 0,
              "ticks": ""
             }
            },
            "type": "scattergeo"
           }
          ],
          "scattergl": [
           {
            "marker": {
             "colorbar": {
              "outlinewidth": 0,
              "ticks": ""
             }
            },
            "type": "scattergl"
           }
          ],
          "scattermap": [
           {
            "marker": {
             "colorbar": {
              "outlinewidth": 0,
              "ticks": ""
             }
            },
            "type": "scattermap"
           }
          ],
          "scattermapbox": [
           {
            "marker": {
             "colorbar": {
              "outlinewidth": 0,
              "ticks": ""
             }
            },
            "type": "scattermapbox"
           }
          ],
          "scatterpolar": [
           {
            "marker": {
             "colorbar": {
              "outlinewidth": 0,
              "ticks": ""
             }
            },
            "type": "scatterpolar"
           }
          ],
          "scatterpolargl": [
           {
            "marker": {
             "colorbar": {
              "outlinewidth": 0,
              "ticks": ""
             }
            },
            "type": "scatterpolargl"
           }
          ],
          "scatterternary": [
           {
            "marker": {
             "colorbar": {
              "outlinewidth": 0,
              "ticks": ""
             }
            },
            "type": "scatterternary"
           }
          ],
          "surface": [
           {
            "colorbar": {
             "outlinewidth": 0,
             "ticks": ""
            },
            "colorscale": [
             [
              0,
              "#0d0887"
             ],
             [
              0.1111111111111111,
              "#46039f"
             ],
             [
              0.2222222222222222,
              "#7201a8"
             ],
             [
              0.3333333333333333,
              "#9c179e"
             ],
             [
              0.4444444444444444,
              "#bd3786"
             ],
             [
              0.5555555555555556,
              "#d8576b"
             ],
             [
              0.6666666666666666,
              "#ed7953"
             ],
             [
              0.7777777777777778,
              "#fb9f3a"
             ],
             [
              0.8888888888888888,
              "#fdca26"
             ],
             [
              1,
              "#f0f921"
             ]
            ],
            "type": "surface"
           }
          ],
          "table": [
           {
            "cells": {
             "fill": {
              "color": "#EBF0F8"
             },
             "line": {
              "color": "white"
             }
            },
            "header": {
             "fill": {
              "color": "#C8D4E3"
             },
             "line": {
              "color": "white"
             }
            },
            "type": "table"
           }
          ]
         },
         "layout": {
          "annotationdefaults": {
           "arrowcolor": "#2a3f5f",
           "arrowhead": 0,
           "arrowwidth": 1
          },
          "autotypenumbers": "strict",
          "coloraxis": {
           "colorbar": {
            "outlinewidth": 0,
            "ticks": ""
           }
          },
          "colorscale": {
           "diverging": [
            [
             0,
             "#8e0152"
            ],
            [
             0.1,
             "#c51b7d"
            ],
            [
             0.2,
             "#de77ae"
            ],
            [
             0.3,
             "#f1b6da"
            ],
            [
             0.4,
             "#fde0ef"
            ],
            [
             0.5,
             "#f7f7f7"
            ],
            [
             0.6,
             "#e6f5d0"
            ],
            [
             0.7,
             "#b8e186"
            ],
            [
             0.8,
             "#7fbc41"
            ],
            [
             0.9,
             "#4d9221"
            ],
            [
             1,
             "#276419"
            ]
           ],
           "sequential": [
            [
             0,
             "#0d0887"
            ],
            [
             0.1111111111111111,
             "#46039f"
            ],
            [
             0.2222222222222222,
             "#7201a8"
            ],
            [
             0.3333333333333333,
             "#9c179e"
            ],
            [
             0.4444444444444444,
             "#bd3786"
            ],
            [
             0.5555555555555556,
             "#d8576b"
            ],
            [
             0.6666666666666666,
             "#ed7953"
            ],
            [
             0.7777777777777778,
             "#fb9f3a"
            ],
            [
             0.8888888888888888,
             "#fdca26"
            ],
            [
             1,
             "#f0f921"
            ]
           ],
           "sequentialminus": [
            [
             0,
             "#0d0887"
            ],
            [
             0.1111111111111111,
             "#46039f"
            ],
            [
             0.2222222222222222,
             "#7201a8"
            ],
            [
             0.3333333333333333,
             "#9c179e"
            ],
            [
             0.4444444444444444,
             "#bd3786"
            ],
            [
             0.5555555555555556,
             "#d8576b"
            ],
            [
             0.6666666666666666,
             "#ed7953"
            ],
            [
             0.7777777777777778,
             "#fb9f3a"
            ],
            [
             0.8888888888888888,
             "#fdca26"
            ],
            [
             1,
             "#f0f921"
            ]
           ]
          },
          "colorway": [
           "#636efa",
           "#EF553B",
           "#00cc96",
           "#ab63fa",
           "#FFA15A",
           "#19d3f3",
           "#FF6692",
           "#B6E880",
           "#FF97FF",
           "#FECB52"
          ],
          "font": {
           "color": "#2a3f5f"
          },
          "geo": {
           "bgcolor": "white",
           "lakecolor": "white",
           "landcolor": "#E5ECF6",
           "showlakes": true,
           "showland": true,
           "subunitcolor": "white"
          },
          "hoverlabel": {
           "align": "left"
          },
          "hovermode": "closest",
          "mapbox": {
           "style": "light"
          },
          "paper_bgcolor": "white",
          "plot_bgcolor": "#E5ECF6",
          "polar": {
           "angularaxis": {
            "gridcolor": "white",
            "linecolor": "white",
            "ticks": ""
           },
           "bgcolor": "#E5ECF6",
           "radialaxis": {
            "gridcolor": "white",
            "linecolor": "white",
            "ticks": ""
           }
          },
          "scene": {
           "xaxis": {
            "backgroundcolor": "#E5ECF6",
            "gridcolor": "white",
            "gridwidth": 2,
            "linecolor": "white",
            "showbackground": true,
            "ticks": "",
            "zerolinecolor": "white"
           },
           "yaxis": {
            "backgroundcolor": "#E5ECF6",
            "gridcolor": "white",
            "gridwidth": 2,
            "linecolor": "white",
            "showbackground": true,
            "ticks": "",
            "zerolinecolor": "white"
           },
           "zaxis": {
            "backgroundcolor": "#E5ECF6",
            "gridcolor": "white",
            "gridwidth": 2,
            "linecolor": "white",
            "showbackground": true,
            "ticks": "",
            "zerolinecolor": "white"
           }
          },
          "shapedefaults": {
           "line": {
            "color": "#2a3f5f"
           }
          },
          "ternary": {
           "aaxis": {
            "gridcolor": "white",
            "linecolor": "white",
            "ticks": ""
           },
           "baxis": {
            "gridcolor": "white",
            "linecolor": "white",
            "ticks": ""
           },
           "bgcolor": "#E5ECF6",
           "caxis": {
            "gridcolor": "white",
            "linecolor": "white",
            "ticks": ""
           }
          },
          "title": {
           "x": 0.05
          },
          "xaxis": {
           "automargin": true,
           "gridcolor": "white",
           "linecolor": "white",
           "ticks": "",
           "title": {
            "standoff": 15
           },
           "zerolinecolor": "white",
           "zerolinewidth": 2
          },
          "yaxis": {
           "automargin": true,
           "gridcolor": "white",
           "linecolor": "white",
           "ticks": "",
           "title": {
            "standoff": 15
           },
           "zerolinecolor": "white",
           "zerolinewidth": 2
          }
         }
        },
        "title": {
         "font": {
          "color": "black",
          "family": "serif",
          "size": 16
         },
         "text": "Haumea - all - 1631 points",
         "x": 0.5,
         "y": 0.93
        },
        "xaxis": {
         "anchor": "y",
         "domain": [
          0,
          1
         ],
         "tickfont": {
          "color": "black",
          "family": "serif",
          "size": 16
         },
         "title": {
          "font": {
           "color": "black",
           "family": "serif",
           "size": 16
          },
          "text": "Jd Lt Corr"
         }
        },
        "yaxis": {
         "anchor": "x",
         "autorange": false,
         "domain": [
          0,
          1
         ],
         "range": [
          0.4779115712155387,
          -0.49279371848591974
         ],
         "tickfont": {
          "color": "black",
          "family": "serif",
          "size": 16
         },
         "title": {
          "font": {
           "color": "black",
           "family": "serif",
           "size": 16
          },
          "text": "Phase Corrected Mag"
         }
        }
       }
      }
     },
     "metadata": {},
     "output_type": "display_data"
    }
   ],
   "source": [
    "# Plots the entire data set for visual inspection.\n",
    "plots.general(x_column='jd_lt_corr',\n",
    "              y_column='phase_corrected_mag',\n",
    "              show_yerr=True,\n",
    "              show_color=True,\n",
    "              color_column='filter_code',\n",
    "              table=merged_table,\n",
    "              save_path='Haumea/plots/Haumea_phase_corrected_all.jpg'\n",
    "             )"
   ]
  },
  {
   "cell_type": "code",
   "execution_count": 12,
   "id": "acdf3713-fca0-41b3-9bf6-c9fe9b37cf87",
   "metadata": {},
   "outputs": [
    {
     "name": "stdout",
     "output_type": "stream",
     "text": [
      "1: Period = 3.915341 hours, Power = 0.850784\n",
      "2: Period = 3.365541 hours, Power = 0.577103\n",
      "3: Period = 2.339922 hours, Power = 0.567469\n",
      "4: Period = 4.679842 hours, Power = 0.564855\n"
     ]
    }
   ],
   "source": [
    "# Initiate the rotational analysis class\n",
    "rot = spintrace.RotationalAnalysis(table=merged_table, # Merged data set.\n",
    "                                   P_ref=3.915341,     # Haumea's published rotational period.\n",
    "                                   f_min=4.0,          # Minimum frequency (cycles/day).\n",
    "                                   f_max=12.0,         # Maximum frequency (cycles/day).\n",
    "                                   n_term=2)           # Fourier terms as required by Astropy LombScargle function.\n",
    "# Search for periodicity in combined data set.\n",
    "f, p, f_win, p_win = rot.lomb_scargle_fit(asteroid=body.name,   # Asteroid name.\n",
    "                                         use_magerr=True,      # Uses error bars to weight the points during the search. \n",
    "                                         delta_t=0.00015,      # Draw vertical lines surrouing the main periodogram peak.\n",
    "                                         filter_code=None,\n",
    "                                         samples_per_peak=100, # Optional, allow user to inclease periodic search sampling.\n",
    "                                         peaks=True,           # Optional, print numbers in the 4 highest peaks and also their frequencies in the screen.\n",
    "                                         # n_shuffle=100,      # Optional, shuffle test. \n",
    "                                         use_window_function=True,# Optional, observational window test. \n",
    "                                         save_path='Haumea/plots/Haumea_periodogram_broad.jpg', # Path to save the plot. \n",
    "                                         legend=True) # Show periodogram legend. "
   ]
  },
  {
   "cell_type": "code",
   "execution_count": 13,
   "id": "bdd52da0-20ea-4a2c-88c6-b6f71b6f31c0",
   "metadata": {},
   "outputs": [],
   "source": [
    "# Computing the light curve model with a given date for rotational phase zero.\n",
    "import numpy as np\n",
    "model_params = rot.compute_phased_model(JD = np.array(rot.table['jd_lt_corr']),\n",
    "                                        mag = np.array(rot.table['phase_corrected_mag']),\n",
    "                                        best_freq = rot.best_freq,\n",
    "                                        epoch0 = 2458202.5695942747) # 2018-03-25 01:40:13-Time of the first valid data point."
   ]
  },
  {
   "cell_type": "code",
   "execution_count": 14,
   "id": "94f4b768-7dad-4894-b0d0-6a124273c5dc",
   "metadata": {},
   "outputs": [
    {
     "data": {
      "application/vnd.plotly.v1+json": {
       "config": {
        "plotlyServerURL": "https://plot.ly"
       },
       "data": [
        {
         "error_y": {
          "array": {
           "bdata": "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",
           "dtype": "f4"
          },
          "visible": true
         },
         "marker": {
          "color": "rgb(228,26,28)",
          "size": 6
         },
         "mode": "markers",
         "name": "g",
         "type": "scatter",
         "x": {
          "bdata": "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",
          "dtype": "f8"
         },
         "y": {
          "bdata": "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",
          "dtype": "f8"
         }
        },
        {
         "error_y": {
          "array": {
           "bdata": "ufN9Pcp0Ez0dL908AysHPQvXIz1RjRc9CtcjPaebxDxDYOU8QmBlPX9qPD31/VQ9p5vEPFk5ND2+dBM9lkMLPSxcDz0Xg8A9Uo2XPfKnxj2QwvU8apHtPKibxDwL1yM9RWDlPFk5tDyrm8Q8ufP9PAMrBz0dL908Q2DlPBODQD1pke08RGDlPGqR7TxRjRc9cBIDPfj9VD0tXA89Gy9dPc3MTD35/dQ87FE4PZHC9TxZOTQ9mEOLPIBqvDwTg0A9gWo8PStcDz0bL109lkMLPVo5tDwyCKw8AysHPXe+Hz2Aarw8xSAwPUNg5Tx3vh89LrKdPZZDCz1oke08UY0XPexROD0M1yM9WTk0PQMrBz0vXA895KUbPZZDCz05tEg9Gy9dPXESAz1RjRc9YuVQPZDCdT2ZQ4s9cBIDPQQrBz31/VQ9O7RIPb50Ez0qXA89n+8nPVs5ND15vh89JJzEPQUrBz0LgRU+N166PReDQD2JFlk986UbPZfC9TxGIAM+VI2XPQzXoz1yPQo+MgisPPX91DwDKwc9/KlxPWiR7TxvEgM9gGq8PCPbeT3mpRs9MQgsPSlcDz2WQws9t/P9PDIIrDzkpRs9MggsPaabRD3kT4091nhpPUJg5TyAarw8p5vEPLx0Ez1wEgM9KVwPPZDC9Tx3vh89HC9dPR/kpT18aJE9nu8nPWiRbT2pm0Q9bJFtPRKDQD0bL109WTm0PMUgMD3FIDA99P1UPWDlUD38qXE9nu8nPbx0Ez3sUTg9pptEPTEILD2nm8Q8pptEPZDC9TxzaJE9bxIDPXe+Hz31/dQ85KUbPSlcDz3jpRs9WDk0PZZDCz2WQ4s9MQgsPdZ4aT0DKwc9t/P9PJDC9TxvEoM9AysHPfX91DxFYOU8+vupPWc73z3opZs9BqrxPTZcjz15vh89O7RIPQzXIz0FKwc9C9cjPQMrhz1i5VA9zsxMPWqR7Ty9dBM9s0dhPb50Ez3npRs9e74fPfFROD3o+6k9ZeVQPboehT0vsp09xcqhPZlDizwK1yM95KUbPVo5tDwEKwc9Wzm0PGLlUD2cmZk9TzeJPVONFz0N1yM9xiAwPccgMD0qXA89UY0XPUVg5Tyf7yc9DNcjPbnzfT0fL109uvN9PYXAyj0dL908D9ejPHASAz2+dBM9uPP9PJZDCz2e7yc9UY0XPeSlGz31/dQ8zXa+PXASAz2rm8Q8BSsHPURg5Tz1/dQ8kML1PKebxDxYOTQ9p5tEPaebxDyAarw89v3UPDIIrDwyCKw8gGq8PPX91DyAarw8zszMPFCNFz3uUTg9+P3UPEVg5TwpXA89WTm0PJ7vJz3mpZs8Gy9dPeelGz0CKwc9Gy/dPKibxDyAarw89f3UPOFPjT2WQws9AysHPSlcDz0xCKw8gGq8PArXozwO16M8d74fPfypcT0pXA89Gy/dPGiR7TxDYOU8aJHtPPT9VD2mm0Q9vXSTPGiR7Tw3CCw9QmBlPTEILD05tEg9cBIDPRsv3Ty38/08kML1PHe+Hz1ZObQ85KUbPYBqvDyWQws9zszMPJ7vJz13vh89pptEPWyR7Tw6tEg9kcL1PMUgMD2nm8Q8KVwPPXe+Hz1wEgM9XDm0PAzXozxqke08KlwPPYBqvDwDKwc9vXSTPNV4aT3NzEw9xSAwPVg5ND0bL908d74fPUJgZT2QwvU8kcL1PI/CdT1wEgM9YOVQPYcWWT1CYGU9UI0XPb10kzzkpZs8zszMPOSlmzy+dJM8vnSTPGqR7Tyf7yc9xiAwPXi+Hz2Aajw9CtcjPQrXIz2mm0Q9f2o8Pc3MTD30/VQ97FE4PWiR7TyHFlk9MQisPKebxDyQwvU8nu8nPfT9VD3sUTg9xSAwPRKDwD0pXA8+81E4PSYGgT2Aajw9xSAwPSUGAT5CYGU9YOVQPZ7vJz2QwvU8lkMLPQMrBz238/08nu8nPaebxDxU46U9iBZZPSYGgT1RjRc9Gy9dPeSlmz1aOTQ9lkMLPSlcDz2RwvU8MQgsPZhDCz29dBM9xSAwPUJgZT2om0Q9Uo0XPQMrBz0dL908cBIDPQMrBz0DKwc9n+8nPcYgMD1SjRc9xSAwPVGNFz0eL908ufP9PHESAz2RwvU8BCsHPYBqPD2nm0Q9d76fPaebRD3FIDA9AysHPWyR7TzPzMw80MzMPJdDCz1EYOU8KVwPPeSlGz0xCCw9WTk0Pc/MzD3PzEw9YuVQPbrzfT2w7yc9C9cjPdZ4aT1RjRc9uPP9PL10kz3wUTg9gGo8Pbrz/TzlpRs9uh6FPQmBlT3udBM90sxMPXnlUD3sT409MS9dPbtHYT3ezEw9PLRIPTQILD2k7yc90MxMPVGNFz0M1yM95qUbPVo5ND1SjRc9eb4fPen7qT3ezvc9rZtEPZ2ZmT3uUbg9nZmZPSpcjz0eL109DNejPW2RbT1bObQ9PLRIPV45ND0Zg0A9EdcjPXm+Hz15vh89KlwPPSxcDz0M1yM9WTk0PZHC9TwrXA89YeVQPURg5Twq23k9mEOLPaPvJz3ZzEw97VG4Pcp2vj0EqnE9Y+VQPcggMD0wXA89skdhPQMrBz3PzMw8QmDlPEJg5TzkpRs9Gy/dPPX91DwcL908z8zMPLjz/Tz+qXE9RWBlPZ7vJz1ZObQ8z8zMPLjz/TzlpZs8QmDlPG8SAz3OzMw8MgisPL50kzysm8Q8p5vEPPX9VD3kpRs90MzMPERg5TyQwvU8apFtPVGNFz3sUTg9eL4fPTEILD0dL908zszMPGDlUD1vEgM9MQisPM7MzDzkpZs8MQgsPX9qPD2WQws9f2q8PEJg5Ty8dJM8WDk0PfX91DxCYOU8aJHtPPT91DwCKwc95KWbPOSlmzxYObQ8WDm0POSlmzy9dJM8WTm0PAzXozxYObQ8MQisPFg5tDySwvU8LFwPPaibxDzOzEw9bxIDPZZDCz13vh89t/P9PJ7vJz0K1yM9vHQTPc7MzDwxCKw89P1UPW8SAz1/ajw9AisHPbfz/Tx/arw846UbPWHlUD2JyHU9cBIDPXe+Hz238/08NQgsPYcWWT10EgM91MzMPJ/vJz1cOTQ9GYNAPVk5ND248/08UY0XPVGNFz2+dBM9uvP9PJHC9TxRjRc95KUbPSxcDz0qXA89qZvEPBwv3TxwEgM9PrRIPYgWWT0tXA89Y+VQPYBqPD16vh891MxMPQzXIz268309CIGVPcYgMD2om0Q9OrRIPURgZT3tUbg9yiAwPUZgZT3jT409DNejPfb9VD3HIDA9KVwPPZZDCz248309qptEPTMIrDyQwvU8HC/dPJ/vJz31/dQ8KVwPPYBqPD0eL908aJHtPA3XozxON4k9TjeJPbfz/Ty8dBM9Q2DlPJDC9TzWvp89AysHPc7MzDwyCKw8WTm0PIBqvDxYObQ8p5vEPOSlGz1wEoM8zszMPArXIz1QjZc9EoNAPQIrBz0qXA89d74fPbfz/Txoke08cBIDPZZDCz0L16M8aJHtPL10kzzPzMw8Gy/dPHe+Hz1ZObQ8vHQTPZZDCz2e7yc9uR6FPX9qPD30/VQ9aJHtPEJg5TwxCCw9eL4fPQMrBz1DYOU8p5vEPOSlGz28dBM9Gy/dPM3MzDy8dJM8gGq8PDq0SD13vh89lkMLPWiR7Tw5tEg9MgisPJDC9TxDYOU89f3UPEJg5Txg5VA9f2o8PVGNFz2WQws9UY0XPSlcDz1oke08QmDlPPX91DwpXA89xSAwPbjz/TzkpRs9kML1PGiR7TzkpRs99f3UPGmR7TwDKwc9vXQTPbfz/TyXQws9eL4fPSlcDz3sUTg9UY0XPVg5ND2vR2E97FE4PeSlGz0bL109VuOlPRUtsj1EYGU9uvP9PCxcDz1aOTQ9eL4fPWXlUD32/VQ9F4NAPURg5Tyom8Q8qJvEPJdDCz1xEgM9iBSuPbsehT3gT4095KWbPeSlmz2QwvU89f3UPBsv3TzFIDA9kML1PEJg5TwyCKw8E4NAPbfz/Ty8dBM9AisHPXrpJj6WQws9hxpZPcUgMD2XQ4s9gGq8PIBqvDy8dBM9BoGVPZ/vJz2QwvU8fJFtPVk5tDzkpZs8Gy/dPJZDCz1wEgM9lkMLPTm0SD2vR2E91XhpPb10Ez28dBM9f2o8PXe+Hz0bL908f2o8PXe+Hz1/arw8gGq8PLbz/TwCKwc9Gy/dPFGNFz1ZObQ85KWbPBsv3TxRjRc9xSAwPaabRD2nm8Q846UbPVGNFz2f7yc9DNejPOOlGz0pXA89aJHtPFg5ND2nm8Q8KVwPPRsv3Ty9dJM8Gy9dPXe+Hz3PzMw8RGDlPGqR7Ty9dBM9zcxMPSpcDz2WQws9KVwPPSlcDz13vh89AysHPXe+Hz2WQws9PLRIPTq0SD0K1yM9t/P9PKqbxD2SwvU8cRIDPcYgMD2WQws9RGDlPHi+Hz1CXro9Uo2XPf2lGz0pXA899v3UPLx0Ez29dBM95KUbPZDC9TwDKwc9MgisPBwv3TwpXA899f3UPAvXIz14vh89KlwPPR0vXT0=",
           "dtype": "f4"
          },
          "visible": true
         },
         "marker": {
          "color": "rgb(55,126,184)",
          "size": 6
         },
         "mode": "markers",
         "name": "r",
         "type": "scatter",
         "x": {
          "bdata": "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",
          "dtype": "f8"
         },
         "y": {
          "bdata": "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",
          "dtype": "f8"
         }
        },
        {
         "error_y": {
          "array": {
           "bdata": "gGo8Pbbz/TwCKwc9zcxMPSlcDz0xCCw9tvP9PLx0Ez13vh899P1UPc3MzDx3vh897FE4PcUgMD1QjRc9ppvEPQrXIz38qXE9MQgsPexROD0xCCw9MQgsPX9qPD05tEg9tvP9PKabRD0pXA89lkMLPbx0Ez3jpRs9zczMPG8Sgz2e7yc9TDeJPQrXIz0j23k9ObRIPa5HYT1zaJE97FE4PaabRD1wEoM9CtejPArXIz1CYGU9xSAwPW8SAz30/dQ8AisHPSlcDz2WQws9CtcjPQIrBz0CK4c9MQgsPaabRD0xCCw9f2o8PY/CdT1oke08YOVQPSlcjz05tEg9YOVQPWiR7Tz0/VQ9xSAwPbgehT30/VQ9exSuPWiRbT2WQws9Gy/dPKabxDzNzMw87FE4PRsvXT3FIDA9zcxMPVg5ND0xCKw8j8L1PPypcT0bL908UI0XPVg5tDzsUTg9Gy9dPeOlGz3FIDA9f2o8PSPbeT3NzEw9WDm0PAIrBz0xCCw9j8L1POOlGz1okW09ObRIPbbzfT1QjZc9YOVQPRKDQD1YOTQ9j8J1PVCNFz1CYGU9aJHtPLx0Ez1CYOU8gGo8Pbbz/Txoke089P3UPJ7vJz2WQws9xSAwPRsv3TzjpZs846UbPVg5ND2e7yc9Gy/dPBKDQD2wR2E9cBIDPQrXIz2WQws9/KlxPY/CdT28dBM9zcxMPY/C9TwbL109WDk0PRsv3TwK1yM9aJHtPPT9VD1vEoM9QmDlPFCNlz0tsp09j8L1PClcDz1QjRc9YOVQPZ7vJz1hU7g9aJHtPGiR7Ty8dBM9WDm0PIcWWT0bL109QmBlPWiR7TyPwvU8ObRIPd9PjT2PwvU87FE4PWDlUD3jpRs9aJHtPBKDQD1/ajw9EoNAPWiR7TyPwvU8d74fPbx0Ez2mm0Q9f2o8PQIrBz0K1yM9f2q8PEJg5TzjpRs9lkMLPbbzfT3NzEw9MQgsPSlcDz1CYGU9JQaBPYBqvDx3vh89xSAwPSUGgT228/08",
           "dtype": "f4"
          },
          "visible": true
         },
         "marker": {
          "color": "rgb(77,175,74)",
          "size": 6
         },
         "mode": "markers",
         "name": "i",
         "type": "scatter",
         "x": {
          "bdata": "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",
          "dtype": "f8"
         },
         "y": {
          "bdata": "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",
          "dtype": "f8"
         }
        },
        {
         "line": {
          "color": "black",
          "width": 2
         },
         "mode": "lines",
         "name": "LS best model",
         "type": "scatter",
         "x": {
          "bdata": "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",
          "dtype": "f8"
         },
         "y": {
          "bdata": "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",
          "dtype": "f8"
         }
        }
       ],
       "layout": {
        "annotations": [
         {
          "font": {
           "size": 16
          },
          "showarrow": false,
          "text": "std = 0.04 mag",
          "x": 0.7,
          "xref": "paper",
          "y": 0.1,
          "yref": "paper"
         },
         {
          "font": {
           "size": 16
          },
          "showarrow": false,
          "text": "amp = 0.26 mag",
          "x": 0.7,
          "xref": "paper",
          "y": 0.2,
          "yref": "paper"
         }
        ],
        "font": {
         "size": 18
        },
        "height": 450,
        "legend": {
         "title": {
          "text": "Filter"
         }
        },
        "template": {
         "data": {
          "bar": [
           {
            "error_x": {
             "color": "#2a3f5f"
            },
            "error_y": {
             "color": "#2a3f5f"
            },
            "marker": {
             "line": {
              "color": "#E5ECF6",
              "width": 0.5
             },
             "pattern": {
              "fillmode": "overlay",
              "size": 10,
              "solidity": 0.2
             }
            },
            "type": "bar"
           }
          ],
          "barpolar": [
           {
            "marker": {
             "line": {
              "color": "#E5ECF6",
              "width": 0.5
             },
             "pattern": {
              "fillmode": "overlay",
              "size": 10,
              "solidity": 0.2
             }
            },
            "type": "barpolar"
           }
          ],
          "carpet": [
           {
            "aaxis": {
             "endlinecolor": "#2a3f5f",
             "gridcolor": "white",
             "linecolor": "white",
             "minorgridcolor": "white",
             "startlinecolor": "#2a3f5f"
            },
            "baxis": {
             "endlinecolor": "#2a3f5f",
             "gridcolor": "white",
             "linecolor": "white",
             "minorgridcolor": "white",
             "startlinecolor": "#2a3f5f"
            },
            "type": "carpet"
           }
          ],
          "choropleth": [
           {
            "colorbar": {
             "outlinewidth": 0,
             "ticks": ""
            },
            "type": "choropleth"
           }
          ],
          "contour": [
           {
            "colorbar": {
             "outlinewidth": 0,
             "ticks": ""
            },
            "colorscale": [
             [
              0,
              "#0d0887"
             ],
             [
              0.1111111111111111,
              "#46039f"
             ],
             [
              0.2222222222222222,
              "#7201a8"
             ],
             [
              0.3333333333333333,
              "#9c179e"
             ],
             [
              0.4444444444444444,
              "#bd3786"
             ],
             [
              0.5555555555555556,
              "#d8576b"
             ],
             [
              0.6666666666666666,
              "#ed7953"
             ],
             [
              0.7777777777777778,
              "#fb9f3a"
             ],
             [
              0.8888888888888888,
              "#fdca26"
             ],
             [
              1,
              "#f0f921"
             ]
            ],
            "type": "contour"
           }
          ],
          "contourcarpet": [
           {
            "colorbar": {
             "outlinewidth": 0,
             "ticks": ""
            },
            "type": "contourcarpet"
           }
          ],
          "heatmap": [
           {
            "colorbar": {
             "outlinewidth": 0,
             "ticks": ""
            },
            "colorscale": [
             [
              0,
              "#0d0887"
             ],
             [
              0.1111111111111111,
              "#46039f"
             ],
             [
              0.2222222222222222,
              "#7201a8"
             ],
             [
              0.3333333333333333,
              "#9c179e"
             ],
             [
              0.4444444444444444,
              "#bd3786"
             ],
             [
              0.5555555555555556,
              "#d8576b"
             ],
             [
              0.6666666666666666,
              "#ed7953"
             ],
             [
              0.7777777777777778,
              "#fb9f3a"
             ],
             [
              0.8888888888888888,
              "#fdca26"
             ],
             [
              1,
              "#f0f921"
             ]
            ],
            "type": "heatmap"
           }
          ],
          "histogram": [
           {
            "marker": {
             "pattern": {
              "fillmode": "overlay",
              "size": 10,
              "solidity": 0.2
             }
            },
            "type": "histogram"
           }
          ],
          "histogram2d": [
           {
            "colorbar": {
             "outlinewidth": 0,
             "ticks": ""
            },
            "colorscale": [
             [
              0,
              "#0d0887"
             ],
             [
              0.1111111111111111,
              "#46039f"
             ],
             [
              0.2222222222222222,
              "#7201a8"
             ],
             [
              0.3333333333333333,
              "#9c179e"
             ],
             [
              0.4444444444444444,
              "#bd3786"
             ],
             [
              0.5555555555555556,
              "#d8576b"
             ],
             [
              0.6666666666666666,
              "#ed7953"
             ],
             [
              0.7777777777777778,
              "#fb9f3a"
             ],
             [
              0.8888888888888888,
              "#fdca26"
             ],
             [
              1,
              "#f0f921"
             ]
            ],
            "type": "histogram2d"
           }
          ],
          "histogram2dcontour": [
           {
            "colorbar": {
             "outlinewidth": 0,
             "ticks": ""
            },
            "colorscale": [
             [
              0,
              "#0d0887"
             ],
             [
              0.1111111111111111,
              "#46039f"
             ],
             [
              0.2222222222222222,
              "#7201a8"
             ],
             [
              0.3333333333333333,
              "#9c179e"
             ],
             [
              0.4444444444444444,
              "#bd3786"
             ],
             [
              0.5555555555555556,
              "#d8576b"
             ],
             [
              0.6666666666666666,
              "#ed7953"
             ],
             [
              0.7777777777777778,
              "#fb9f3a"
             ],
             [
              0.8888888888888888,
              "#fdca26"
             ],
             [
              1,
              "#f0f921"
             ]
            ],
            "type": "histogram2dcontour"
           }
          ],
          "mesh3d": [
           {
            "colorbar": {
             "outlinewidth": 0,
             "ticks": ""
            },
            "type": "mesh3d"
           }
          ],
          "parcoords": [
           {
            "line": {
             "colorbar": {
              "outlinewidth": 0,
              "ticks": ""
             }
            },
            "type": "parcoords"
           }
          ],
          "pie": [
           {
            "automargin": true,
            "type": "pie"
           }
          ],
          "scatter": [
           {
            "fillpattern": {
             "fillmode": "overlay",
             "size": 10,
             "solidity": 0.2
            },
            "type": "scatter"
           }
          ],
          "scatter3d": [
           {
            "line": {
             "colorbar": {
              "outlinewidth": 0,
              "ticks": ""
             }
            },
            "marker": {
             "colorbar": {
              "outlinewidth": 0,
              "ticks": ""
             }
            },
            "type": "scatter3d"
           }
          ],
          "scattercarpet": [
           {
            "marker": {
             "colorbar": {
              "outlinewidth": 0,
              "ticks": ""
             }
            },
            "type": "scattercarpet"
           }
          ],
          "scattergeo": [
           {
            "marker": {
             "colorbar": {
              "outlinewidth": 0,
              "ticks": ""
             }
            },
            "type": "scattergeo"
           }
          ],
          "scattergl": [
           {
            "marker": {
             "colorbar": {
              "outlinewidth": 0,
              "ticks": ""
             }
            },
            "type": "scattergl"
           }
          ],
          "scattermap": [
           {
            "marker": {
             "colorbar": {
              "outlinewidth": 0,
              "ticks": ""
             }
            },
            "type": "scattermap"
           }
          ],
          "scattermapbox": [
           {
            "marker": {
             "colorbar": {
              "outlinewidth": 0,
              "ticks": ""
             }
            },
            "type": "scattermapbox"
           }
          ],
          "scatterpolar": [
           {
            "marker": {
             "colorbar": {
              "outlinewidth": 0,
              "ticks": ""
             }
            },
            "type": "scatterpolar"
           }
          ],
          "scatterpolargl": [
           {
            "marker": {
             "colorbar": {
              "outlinewidth": 0,
              "ticks": ""
             }
            },
            "type": "scatterpolargl"
           }
          ],
          "scatterternary": [
           {
            "marker": {
             "colorbar": {
              "outlinewidth": 0,
              "ticks": ""
             }
            },
            "type": "scatterternary"
           }
          ],
          "surface": [
           {
            "colorbar": {
             "outlinewidth": 0,
             "ticks": ""
            },
            "colorscale": [
             [
              0,
              "#0d0887"
             ],
             [
              0.1111111111111111,
              "#46039f"
             ],
             [
              0.2222222222222222,
              "#7201a8"
             ],
             [
              0.3333333333333333,
              "#9c179e"
             ],
             [
              0.4444444444444444,
              "#bd3786"
             ],
             [
              0.5555555555555556,
              "#d8576b"
             ],
             [
              0.6666666666666666,
              "#ed7953"
             ],
             [
              0.7777777777777778,
              "#fb9f3a"
             ],
             [
              0.8888888888888888,
              "#fdca26"
             ],
             [
              1,
              "#f0f921"
             ]
            ],
            "type": "surface"
           }
          ],
          "table": [
           {
            "cells": {
             "fill": {
              "color": "#EBF0F8"
             },
             "line": {
              "color": "white"
             }
            },
            "header": {
             "fill": {
              "color": "#C8D4E3"
             },
             "line": {
              "color": "white"
             }
            },
            "type": "table"
           }
          ]
         },
         "layout": {
          "annotationdefaults": {
           "arrowcolor": "#2a3f5f",
           "arrowhead": 0,
           "arrowwidth": 1
          },
          "autotypenumbers": "strict",
          "coloraxis": {
           "colorbar": {
            "outlinewidth": 0,
            "ticks": ""
           }
          },
          "colorscale": {
           "diverging": [
            [
             0,
             "#8e0152"
            ],
            [
             0.1,
             "#c51b7d"
            ],
            [
             0.2,
             "#de77ae"
            ],
            [
             0.3,
             "#f1b6da"
            ],
            [
             0.4,
             "#fde0ef"
            ],
            [
             0.5,
             "#f7f7f7"
            ],
            [
             0.6,
             "#e6f5d0"
            ],
            [
             0.7,
             "#b8e186"
            ],
            [
             0.8,
             "#7fbc41"
            ],
            [
             0.9,
             "#4d9221"
            ],
            [
             1,
             "#276419"
            ]
           ],
           "sequential": [
            [
             0,
             "#0d0887"
            ],
            [
             0.1111111111111111,
             "#46039f"
            ],
            [
             0.2222222222222222,
             "#7201a8"
            ],
            [
             0.3333333333333333,
             "#9c179e"
            ],
            [
             0.4444444444444444,
             "#bd3786"
            ],
            [
             0.5555555555555556,
             "#d8576b"
            ],
            [
             0.6666666666666666,
             "#ed7953"
            ],
            [
             0.7777777777777778,
             "#fb9f3a"
            ],
            [
             0.8888888888888888,
             "#fdca26"
            ],
            [
             1,
             "#f0f921"
            ]
           ],
           "sequentialminus": [
            [
             0,
             "#0d0887"
            ],
            [
             0.1111111111111111,
             "#46039f"
            ],
            [
             0.2222222222222222,
             "#7201a8"
            ],
            [
             0.3333333333333333,
             "#9c179e"
            ],
            [
             0.4444444444444444,
             "#bd3786"
            ],
            [
             0.5555555555555556,
             "#d8576b"
            ],
            [
             0.6666666666666666,
             "#ed7953"
            ],
            [
             0.7777777777777778,
             "#fb9f3a"
            ],
            [
             0.8888888888888888,
             "#fdca26"
            ],
            [
             1,
             "#f0f921"
            ]
           ]
          },
          "colorway": [
           "#636efa",
           "#EF553B",
           "#00cc96",
           "#ab63fa",
           "#FFA15A",
           "#19d3f3",
           "#FF6692",
           "#B6E880",
           "#FF97FF",
           "#FECB52"
          ],
          "font": {
           "color": "#2a3f5f"
          },
          "geo": {
           "bgcolor": "white",
           "lakecolor": "white",
           "landcolor": "#E5ECF6",
           "showlakes": true,
           "showland": true,
           "subunitcolor": "white"
          },
          "hoverlabel": {
           "align": "left"
          },
          "hovermode": "closest",
          "mapbox": {
           "style": "light"
          },
          "paper_bgcolor": "white",
          "plot_bgcolor": "#E5ECF6",
          "polar": {
           "angularaxis": {
            "gridcolor": "white",
            "linecolor": "white",
            "ticks": ""
           },
           "bgcolor": "#E5ECF6",
           "radialaxis": {
            "gridcolor": "white",
            "linecolor": "white",
            "ticks": ""
           }
          },
          "scene": {
           "xaxis": {
            "backgroundcolor": "#E5ECF6",
            "gridcolor": "white",
            "gridwidth": 2,
            "linecolor": "white",
            "showbackground": true,
            "ticks": "",
            "zerolinecolor": "white"
           },
           "yaxis": {
            "backgroundcolor": "#E5ECF6",
            "gridcolor": "white",
            "gridwidth": 2,
            "linecolor": "white",
            "showbackground": true,
            "ticks": "",
            "zerolinecolor": "white"
           },
           "zaxis": {
            "backgroundcolor": "#E5ECF6",
            "gridcolor": "white",
            "gridwidth": 2,
            "linecolor": "white",
            "showbackground": true,
            "ticks": "",
            "zerolinecolor": "white"
           }
          },
          "shapedefaults": {
           "line": {
            "color": "#2a3f5f"
           }
          },
          "ternary": {
           "aaxis": {
            "gridcolor": "white",
            "linecolor": "white",
            "ticks": ""
           },
           "baxis": {
            "gridcolor": "white",
            "linecolor": "white",
            "ticks": ""
           },
           "bgcolor": "#E5ECF6",
           "caxis": {
            "gridcolor": "white",
            "linecolor": "white",
            "ticks": ""
           }
          },
          "title": {
           "x": 0.05
          },
          "xaxis": {
           "automargin": true,
           "gridcolor": "white",
           "linecolor": "white",
           "ticks": "",
           "title": {
            "standoff": 15
           },
           "zerolinecolor": "white",
           "zerolinewidth": 2
          },
          "yaxis": {
           "automargin": true,
           "gridcolor": "white",
           "linecolor": "white",
           "ticks": "",
           "title": {
            "standoff": 15
           },
           "zerolinecolor": "white",
           "zerolinewidth": 2
          }
         }
        },
        "title": {
         "text": "Haumea - 1631 points - P = 3.91534 hours"
        },
        "width": 900,
        "xaxis": {
         "title": {
          "text": "Rotational Phase"
         }
        },
        "yaxis": {
         "autorange": "reversed",
         "title": {
          "text": "Magnitude"
         }
        }
       }
      }
     },
     "metadata": {},
     "output_type": "display_data"
    }
   ],
   "source": [
    "# Plotting the rotational light curve model and folded data points\n",
    "df = plots.folded_lightcurve(asteroid=body.name,                                      # Asteroid name.\n",
    "                            table=rot.table,                                          # Table from periodicity search.\n",
    "                            filter_codes=np.array(rot.table['filter_code']),          # Filter column. \n",
    "                            JD=np.array(rot.table['jd_lt_corr']),                     # Time column.\n",
    "                            model_params=model_params,                                # Lc model build above for the same reference time instant.\n",
    "                            corrected_mag=np.array(rot.table['phase_corrected_mag']), # Magnitudes column. \n",
    "                            mag_err=np.array(rot.table['mag_cal_err']),               # Magnitude error column.\n",
    "                            best_freq=rot.best_freq,                                  # Best frequency to fold data points.\n",
    "                            save_path='Haumea/plots/Haumea_lc_folded.jpg',            # Path to save the plot. \n",
    "                            epoch_zero=2458202.5695942747,                            # 2018-03-25 01:40:13-Time of the first valid data point.\n",
    "                            show_fig=True)                                            # Show the figure in the screen as an interactive plot ?"
   ]
  },
  {
   "cell_type": "code",
   "execution_count": 15,
   "id": "4eb7d895-7001-473c-9537-0452ec023442",
   "metadata": {},
   "outputs": [
    {
     "data": {
      "image/png": "[encoded data removed]",
      "text/plain": [
       "<Figure size 1200x475 with 2 Axes>"
      ]
     },
     "metadata": {},
     "output_type": "display_data"
    }
   ],
   "source": [
    "# Optionally, user can do a plot with rotational light curve and the residuals.\n",
    "df['residuals'] = df['Magnitude']-df['model_mag']\n",
    "plots.plot_folded_lightcurve_with_residuals(df,save_path='Haumea/plots/Haumea_folded_light_curve_with_residuals.jpg',fontsize=12)"
   ]
  },
  {
   "cell_type": "code",
   "execution_count": 16,
   "id": "d6aa6fb1-1a68-418d-b522-54bc36f85254",
   "metadata": {},
   "outputs": [
    {
     "name": "stdout",
     "output_type": "stream",
     "text": [
      "0.042178077756372195\n"
     ]
    }
   ],
   "source": [
    "# Calculate the residuals standard deviation\n",
    "std = np.std(df['residuals'])\n",
    "print(std)"
   ]
  },
  {
   "cell_type": "code",
   "execution_count": 17,
   "id": "c36fe2f0-73fe-40d5-be48-4c25873b30e7",
   "metadata": {},
   "outputs": [],
   "source": [
    "# Here we want to correct the reduced magnitude for Haumea rotational modulation using the previously defined model and save them into a new table. \n",
    "final_tab = rot.get_detrended_magnitudes()"
   ]
  },
  {
   "cell_type": "code",
   "execution_count": 18,
   "id": "01df96b5-d488-4392-a324-61cee2c94df9",
   "metadata": {},
   "outputs": [
    {
     "name": "stdout",
     "output_type": "stream",
     "text": [
      "Figure saved to Haumea/plots/Haumea_phase_curve_g_linear_corr.jpg\n"
     ]
    }
   ],
   "source": [
    "# Using the corrected-by-rotational modulation data, user may want to obtain the H and beta values again\n",
    "popt, fit_label, popt2, fit_label_binned = mpa.fit_phase_curve(filter_code='g',\n",
    "                                                               phase_bin=0.1,\n",
    "                                                               table=final_tab,\n",
    "                                                               mag_col='mag_corr_by_rot')\n",
    "\n",
    "\n",
    "plots.phase_curve(filter_code='g',\n",
    "                  popt=popt, \n",
    "                  fit_label=fit_label, \n",
    "                  popt2=popt2, \n",
    "                  fit_label_binned=fit_label_binned,\n",
    "                  show_yerr=True,\n",
    "                  show_color=True,\n",
    "                  table=final_tab,\n",
    "                  y_column='mag_corr_by_rot',\n",
    "                  ylim=[1.0,0.2],\n",
    "                  bkg=False,\n",
    "                  bkg_data=True,\n",
    "                  # label=False,\n",
    "                  width = 1050,\n",
    "                  height =325,\n",
    "                  save_path='Haumea/plots/Haumea_phase_curve_g_linear_corr.jpg')"
   ]
  },
  {
   "cell_type": "code",
   "execution_count": 19,
   "id": "95739d11-62f4-47cc-8982-70c5a17433da",
   "metadata": {},
   "outputs": [
    {
     "name": "stdout",
     "output_type": "stream",
     "text": [
      "Figure saved to Haumea/plots/Haumea_phase_curve_i_linear_corr.jpg\n"
     ]
    }
   ],
   "source": [
    "popt, fit_label, popt2, fit_label_binned = mpa.fit_phase_curve(filter_code='i',\n",
    "                                                               phase_bin=0.1,\n",
    "                                                               table=final_tab,\n",
    "                                                               mag_col='mag_corr_by_rot')\n",
    "\n",
    "\n",
    "plots.phase_curve(filter_code='i',\n",
    "                  popt=popt, \n",
    "                  fit_label=fit_label, \n",
    "                  popt2=popt2, \n",
    "                  fit_label_binned=fit_label_binned,\n",
    "                  show_yerr=True,\n",
    "                  show_color=True,\n",
    "                  table=final_tab,\n",
    "                  y_column='mag_corr_by_rot',\n",
    "                  ylim=[0.4,-0.2],\n",
    "                  bkg=False,\n",
    "                  bkg_data=True,\n",
    "                  # label=False,\n",
    "                  width = 1050,\n",
    "                  height =325,\n",
    "                  save_path='Haumea/plots/Haumea_phase_curve_i_linear_corr.jpg')"
   ]
  },
  {
   "cell_type": "code",
   "execution_count": 20,
   "id": "ca24dea6-3073-4fd1-960a-fa4457bc4576",
   "metadata": {},
   "outputs": [
    {
     "name": "stdout",
     "output_type": "stream",
     "text": [
      "Figure saved to Haumea/plots/Haumea_phase_curve_r_linear_corr.jpg\n"
     ]
    }
   ],
   "source": [
    "popt, fit_label, popt2, fit_label_binned = mpa.fit_phase_curve(filter_code='r',\n",
    "                                                               phase_bin=0.1,\n",
    "                                                               table=final_tab,\n",
    "                                                               mag_col='mag_corr_by_rot')\n",
    "\n",
    "\n",
    "plots.phase_curve(filter_code='r',\n",
    "                  popt=popt, \n",
    "                  fit_label=fit_label, \n",
    "                  popt2=popt2, \n",
    "                  fit_label_binned=fit_label_binned,\n",
    "                  show_yerr=True,\n",
    "                  show_color=True,\n",
    "                  table=final_tab,\n",
    "                  y_column='mag_corr_by_rot',\n",
    "                  ylim=[0.7,-0.35],\n",
    "                  bkg=False,\n",
    "                  bkg_data=True,\n",
    "                  # label=False,\n",
    "                  width = 1050,\n",
    "                  height =325,\n",
    "                  save_path='Haumea/plots/Haumea_phase_curve_r_linear_corr.jpg')"
   ]
  },
  {
   "cell_type": "code",
   "execution_count": 21,
   "id": "2d6d32eb-272b-4f73-aa88-e69f6df636d0",
   "metadata": {},
   "outputs": [
    {
     "name": "stdout",
     "output_type": "stream",
     "text": [
      "Fit result for g filter using original data and linear model:\n",
      "Original data linear fit: H = 0.54, G = 0.10\n"
     ]
    }
   ],
   "source": [
    "table_g_corr = mpa.fit_phase_curve(filter_code='g',\n",
    "                            model='linear',\n",
    "                            H=0.54,G=0.1,\n",
    "                            table=final_tab,\n",
    "                            mag_col='mag_corr_by_rot')"
   ]
  },
  {
   "cell_type": "code",
   "execution_count": 22,
   "id": "27af04e0-61be-40df-a588-0d2a2a2d0b48",
   "metadata": {},
   "outputs": [
    {
     "name": "stdout",
     "output_type": "stream",
     "text": [
      "Fit result for i filter using original data and linear model:\n",
      "Original data linear fit: H = 0.00, G = 0.13\n"
     ]
    }
   ],
   "source": [
    "table_i_corr = mpa.fit_phase_curve(filter_code='i',\n",
    "                            model='linear',\n",
    "                            H=0.0,G=0.13,\n",
    "                            table=final_tab,\n",
    "                            mag_col='mag_corr_by_rot')"
   ]
  },
  {
   "cell_type": "code",
   "execution_count": 23,
   "id": "2da33929-7819-4698-b7b5-30737249c8ee",
   "metadata": {},
   "outputs": [
    {
     "name": "stdout",
     "output_type": "stream",
     "text": [
      "Fit result for r filter using original data and linear model:\n",
      "Original data linear fit: H = 0.10, G = 0.10\n"
     ]
    }
   ],
   "source": [
    "table_r_corr = mpa.fit_phase_curve(filter_code='r',\n",
    "                            model='linear',\n",
    "                            H=0.1,G=0.1,\n",
    "                            table=final_tab,\n",
    "                            mag_col='mag_corr_by_rot')"
   ]
  },
  {
   "cell_type": "code",
   "execution_count": 24,
   "id": "f123b5c1-8447-4ac3-88fc-f5030000121c",
   "metadata": {},
   "outputs": [
    {
     "data": {
      "text/plain": [
       "1631"
      ]
     },
     "execution_count": 24,
     "metadata": {},
     "output_type": "execute_result"
    }
   ],
   "source": [
    "merged_table_corr = vstack([table_g_corr,table_r_corr,table_i_corr]) # \n",
    "len(merged_table_corr)"
   ]
  },
  {
   "cell_type": "code",
   "execution_count": 25,
   "id": "9bea8eed-24ba-480c-92fb-b287ba21791c",
   "metadata": {},
   "outputs": [
    {
     "name": "stdout",
     "output_type": "stream",
     "text": [
      "Figure saved to Haumea/plots/Haumea_phase_corrected_all_last.jpg\n"
     ]
    },
    {
     "data": {
      "application/vnd.plotly.v1+json": {
       "config": {
        "plotlyServerURL": "https://plot.ly"
       },
       "data": [
        {
         "cliponaxis": true,
         "error_y": {
          "array": {
           "bdata": "AAAAAJqZmT8AAABgUI2nPwAAAGBSuJ4/AAAAAM/3oz8AAADAPQqnPwAAAMDjpas/AAAAIA8tsj8AAACgYhC4PwAAAIA3icE/AAAAYCuHlj8AAADAcmihPwAAAAB3vp8/AAAAwOOlmz8AAADgdJOYPwAAAOByaKE/AAAAoAisrD8AAAAgZTuvPwAAAABOYqA/AAAAwJmZmT8AAADgdr6fPwAAAMByaKE/AAAAQC2ynT8AAABgheuhPwAAAOB0k6g/AAAAgGDloD8AAABAheuhPwAAAGB1k6g/AAAAQCuHpj8AAADgPQqnPwAAAEArh6Y/AAAAYOOlmz8AAABAUI2XPwAAAKC8dJM/AAAAYAaBpT8AAABgBoG1PwAAACA+Cqc/AAAAICuHpj8AAADAl26iPwAAAIArh6Y/AAAAYPYorD8AAABgUriuPwAAACBQjZc/AAAAoL6fmj8AAABABoGVPwAAAOC8dJM/AAAAgIXroT8AAADgmZmZPwAAAMDjpZs/AAAAIFGNpz8AAADAvp+qPwAAAGDheqQ/AAAAIHWTmD8AAADAPQqnPwAAAAAZBKY/AAAAgOF6lD8AAACgvp+aPwAAAOB2vp8/AAAAgLx0oz8AAAAAmpmZPwAAAKC+n5o/AAAAAL+fmj8AAABgrByqPwAAAOCZmak/AAAAQJhukj8AAABgYOWgPwAAAOCZmZk/AAAAIHe+nz8AAAAAGy+tPwAAAEArh6Y/AAAAwLx0oz8AAABgYOWgPwAAAIAIrJw/AAAAYIXroT8AAAAAUI2nPwAAAOByaKE/AAAA4AisnD8AAACALbKdPwAAAGCq8aI/AAAA4Jduoj8AAADgPQqnPwAAACA+Cqc/AAAAoLx0oz8AAACgmpmZPwAAAGB1k5g/AAAAIL+fmj8AAACAmpmZPwAAAOCZmZk/AAAAoAisrD8AAADgmZmZPwAAACBTuI4/AAAAQHWTmD8AAACgvp+aPwAAAGB1k5g/AAAAQKrxoj8AAABABoGVPwAAAOCXbpI/AAAAQE5ioD8AAAAAdZOYPwAAAABANa4/AAAAAJqZmT8AAABgK4eWPwAAAEAsh5Y/AAAA4Lx0kz8AAAAgUI2XPwAAAGAIrJw/AAAAgLx0oz8AAADgdr6fPwAAACAtsp0/AAAAoL6fmj8AAACA4XqUPwAAAEArh5Y/AAAAwJduoj8AAABgVLiuPwAAAGDjpas/AAAAAHNooT8AAABAheuhPwAAAGAIrJw/AAAA4OOlmz8AAABgYOWgPwAAACBQjZc/AAAA4Ha+nz8AAADgdJOYPwAAACCF66E/AAAAgAisnD8AAADAj8K1PwAAAMCXbqI/AAAAAHe+nz8AAABAYhCoPwAAAKAYBKY/AAAAgLx0oz8AAAAAUI2XPwAAAOB0k5g/AAAAYGDloD8AAAAgLbKdPwAAACCF66E/AAAAYGQ7rz8AAAAgUI2XPwAAAEAtsp0/AAAAIIXroT8AAAAAdZOYPwAAACCF66E/AAAAwL6fmj8AAAAAd76fPwAAAOByaKE/AAAAwBgEpj8AAABgYhCoPwAAAECq8aI/AAAAoAisrD8AAADgmZmpPwAAAIAGgaU/AAAAAHNooT8AAAAgheuhPwAAAIBSuJ4/AAAAIFK4nj8AAADg+yKrPwAAAMC8dKM/AAAAQMdLtz8AAAAgc2ihPwAAACCamZk/AAAAIJqZuT8AAAAA9P2kPwAAAABh5bA/AAAAAJqZqT8AAABALbKdPwAAAECamZk/AAAAQAaBlT8AAAAALbKdPwAAAEArh5Y/AAAAIC+ynT8AAABgnZm5PwAAAECamZk/AAAAAFCNlz8AAACgvp+aPwAAACArh6Y/AAAAAFCNlz8AAABgdZOYPwAAAAAHgZU/AAAAoLx0kz8AAAAgdZOYPwAAAAB1k5g/AAAAQCuHlj8AAACA4XqUPwAAAEBTuK4/AAAAgOF6lD8AAACAYeWgPwAAAOByaKE/AAAAIL+fqj8AAAAAEVi5PwAAAEB3vp8/AAAAQL+fmj8AAAAALbKdPwAAAGDhepQ/AAAAYOOlmz8AAACABoGVPwAAAGAGgaU/AAAAIC2ynT8AAABACKycPwAAACArh5Y/AAAAoJdukj8AAADg46WbPwAAAECamZk/AAAAwJdukj8AAACABoGVPwAAACDBdLM/AAAAgOF6lD8AAABA4XqkPwAAAOB0k5g/AAAA4HSTmD8AAABgBoGVPwAAAAAJrIw/AAAAwJdukj8AAAAgUI2XPwAAAIDhepQ/AAAA4Jdukj8AAACACKycPwAAACBQjZc/AAAAwLx0kz8AAADAvHSTPwAAAGArh6Y/AAAAAJqZqT8AAADgZDu/PwAAAIDjpZs/AAAAoGDloD8AAACA4XqUPwAAAKC8dKM/AAAAoAaBlT8AAABABoGVPwAAAAB3vp8/AAAAAHWTmD8AAAAgLbKdPwAAAKCXbpI/AAAAQFCNlz8AAACgvp+aPwAAAABQjZc/AAAA4HSTmD8AAACAv5+KPwAAAABQjZc/AAAAgOF6lD8AAACA4XqUPwAAAIDjpZs/AAAA4HJooT8AAAAAUriePwAAAABOYqA/AAAAQC2ynT8AAADgl26iPwAAAABzaKE/AAAAAHNooT8AAABgheuhPwAAAKCHFqk/AAAAIE5isD8AAADAhxapPwAAAOCZmak/AAAA4BgEpj8AAAAAd76fPwAAAOB2vp8/AAAAoL6fmj8AAAAgTmKQPwAAAKCXbpI/AAAA4JmZmT8AAAAAd76fPwAAAABQjZc/AAAA4HJokT8AAAAgqvGiPwAAAGDhepQ/AAAAQAaBlT8AAAAAUriePwAAAABSuJ4/AAAAAFCNlz8AAACAl26iPwAAAMByaKE/AAAAAHe+nz8AAADAxCCwPwAAAOAYBKY/AAAA4L6fmj8AAAAAd76fPwAAAIDSIqs/AAAAAC2ynT8AAADgBoGVPwAAAGAGgZU/AAAAYCuHlj8AAABgUI2XPwAAAOB2vp8/AAAA4HSTmD8AAABAfT+1PwAAAMDhepQ/AAAAIKwcqj8AAAAg/KnBPwAAAGCembk/AAAAYFGNtz8AAACgary0PwAAAABSuJ4/AAAAYL+fmj8AAADgCaycPwAAAGCF66E/AAAAQIXroT8AAADA4XqkPwAAACBTuL4/AAAAgAisnD8AAABAK4emPwAAAMC+n5o/AAAA4PP9pD8AAAAgv5+qPwAAAODEILA/AAAAwGIQqD8AAAAA9P2kPwAAAABQjac/AAAAgFK4nj8AAADAvHSTPwAAAEDP96M/AAAAgCuHlj8AAACAl26iPwAAAKBSuJ4/AAAAgC2ynT8AAADgdJOYPwAAACArh5Y/AAAAwLx0kz8AAABgmpmZPwAAAMCXbqI/AAAAYIXroT8AAADgxCCwPwAAAGDXo7A/AAAAYCuHpj8AAACgEoPAPwAAAKAIrJw/AAAA4BgEpj8AAABABoGVPwAAAEArh5Y/AAAAQIXroT8AAABAK4eWPwAAAGBQjZc/AAAAQAaBlT8AAADgdJOYPwAAAAC/n5o/AAAA4HNooT8AAACgn5mpPwAAACArh5Y/AAAAoJdukj8AAABABoGVPwAAAOByaJE/AAAAoLx0kz8AAAAATmKgPwAAAODO96M/AAAAYFCNlz8AAADgdJOYPwAAAABQjZc/AAAAQAaBlT8AAAAgTmKQPwAAAMC8dJM/AAAA4HSTmD8AAABg4XqUPwAAAEAIrJw/AAAAoGDloD8AAAAgdZOoPwAAAIAIrJw/AAAAQJqZmT8AAAAgz/ejPwAAAGDP96M/AAAA4Lx0oz8AAACgvHSTPwAAAGBg5aA/AAAAAJqZmT8AAACA4XqUPwAAAKCXbqI/AAAAgOF6pD8AAAAgd76vPwAAAABOYqA/AAAAIHWTmD8AAAAgqvGiPwAAAGDjpZs/AAAAYOF6lD8AAAAgdZOYPwAAAAB3vp8/AAAAoJduoj8AAACAd76fPwAAACCq8aI/AAAAIM/3oz8AAACgCKycPwAAAIAkf6M/AAAA4PP9pD8AAACABoGVPwAAAMCsHKo/AAAAQPypsT8AAABAGy+tPwAAACDRIqs/AAAAQC2yrT8AAABgBoGlPwAAACD0/aQ/AAAAYKrxoj8AAAAg0SKrPwAAAIBlO68/AAAAoKwcqj8AAAAgqvGiPwAAACBSuJ4/AAAAoGIQqD8AAAAgdZOoPwAAAECq8aI/AAAAQE5ioD8AAAAgc2ihPwAAAGBQjZc/AAAAQKrxoj8AAAAAmpmpPwAAAADDdLM/AAAAgGDloD8AAACgd76fPwAAAIAIrKw/AAAAAGU7rz8AAABABoGlPwAAAODjpZs/AAAAgLx0oz8AAADgcmiRPwAAAOByaJE/AAAAoJdukj8AAABATmKQPwAAAEBOYqA/AAAAwL6fmj8AAACgvp+aPwAAAGAGgZU/AAAAICuHlj8AAAAgUI2XPwAAAOB0k5g/AAAAYL+fij8AAACgvp+aPwAAAABOYqA/AAAA4HSTmD8AAAAATmKgPwAAACArh5Y/AAAAYOOlmz8AAADAl26SPwAAAGDhepQ/AAAAoFK4jj8AAABAK4eWPwAAAGAGgZU/AAAAgOF6lD8AAADAcmihPwAAAABSuJ4/AAAAgD0Kpz8AAAAgqvGiPwAAAMC+n5o/AAAAAOSlmz8AAADAv5+qPwAAAMBSuK4/AAAAQM/3oz8AAABABoGlPwAAACBzaJE/AAAAIFK4nj8AAACgvHSTPwAAAIDEdKM/AAAAwD+4sj8AAADgmZmZPwAAAOCZmZk/AAAAoAisjD8AAAAAdZOYPwAAAEAtsp0/AAAAQM/3oz8AAABgLbKdPwAAAAB3vp8/AAAAICuHlj8AAADgdJOYPwAAAKCXbpI/AAAAQAaBlT8AAABATmKQPwAAACBSuJ4/AAAAIE5ioD8AAAAgz/ejPwAAAICXbqI/AAAA4HSTqD8AAABALbKdPwAAAKC+n5o/AAAAAE5ioD8AAABAhxapPwAAAOB2vp8/AAAAYAaBlT8AAAAAUI2nPwAAAMAaL60/AAAAQHe+nz8AAADgdJOYPwAAAMAaL60/AAAAIE5ioD8AAAAATmKgPwAAACArh6Y/AAAAgOF6lD8AAACgrByqPwAAAMCXbpI/AAAAIKrxoj8AAAAgLbKdPwAAACBQjbc/AAAA4OkmwT8AAAAALbKtPwAAAABzaKE/AAAAYGDloD8AAADAGASmPwAAAIDjpZs/AAAAAHe+nz8AAADgdr6fPwAAAIBg5aA/AAAAYNejsD8AAAAgqvGiPwAAAKC8dKM/AAAAoAaBpT8AAABAheuhPwAAAEAtsp0/AAAAYFK4nj8AAAAA9iisPwAAACDP96M/AAAAYCuHpj8AAABgYOWwPwAAAODGS7c/AAAA4JmZmT8AAACAl26iPwAAAKC+n5o/AAAAwJmZmT8AAADg9SisPwAAAABQjZc/AAAAQAaBlT8AAADAGASmPwAAAKDjpZs/AAAAYCuHlj8AAADAl26SPwAAACBQjZc/AAAAAFCNlz8AAADAGASmPwAAAEAGgZU/AAAAgLx0oz8AAAAALbKdPwAAACBQjZc/AAAA4L6fmj8AAACg46WbPwAAAGBQjac/AAAAAHe+rz8AAABgCaycPwAAAOB0k5g/AAAAANEiqz8AAAAgK4eWPwAAAMAIrJw/AAAAQHe+nz8AAACAYhCoPwAAACArh5Y/AAAAQAaBlT8AAAAgz/ejPwAAAOD1KKw/AAAAgJduoj8AAABA4nqUPwAAAOCXbpI/AAAAQFCNlz8AAADACKycPwAAAKAIrJw/AAAAIKrxoj8AAADAvHSjPwAAAGB3vp8/AAAAQE5ioD8AAADgK4eWPwAAAKC8dKM/AAAAICuHlj8AAADgdJOoPwAAAMAYBKY/AAAAQAaBlT8AAABABoGlPwAAAKDhepQ/AAAAwBgEpj8AAACABoGlPwAAAEBzaKE/AAAAYCuHpj8AAAAgK4emPwAAAIC8dKM/AAAAQIXroT8AAAAAmpmZPwAAAOB0k6g/AAAAgGDloD8AAABAyEu3PwAAAKAIrJw/AAAAAPT9pD8AAABAUriePwAAAMCXbqI/AAAAgIcWqT8AAABAz/ejPwAAACBSuJ4/AAAA4HSTmD8AAABABoGVPwAAAABPYqA/AAAAoJduoj8AAAAgK4emPwAAAMByaKE/AAAAwPP9pD8AAADgdr6fPwAAAEBiEKg/AAAAoGDloD8AAADgGASmPwAAAGDRIqs/AAAAIHe+rz8AAABAmW6iPwAAAKDjpZs/AAAAYGDloD8AAABg4XqkPwAAACCq8aI/AAAAQOF6pD8AAADgdJOYPwAAAGAIrJw/AAAAQAisrD8AAADgT42nPwAAAKC+n6o/AAAA4HSTmD8AAAAgK4emPwAAAMCXbqI/AAAAwHJooT8AAACAheuhPwAAAOBiELg/AAAAQKrxsj8AAABA/tS4PwAAAABSuJ4/AAAAQC2ynT8AAAAAdZOYPwAAAGDheqQ/AAAAoAisnD8AAAAgK4eWPwAAAGB1k5g/AAAAIHe+nz8AAABgYOWgPwAAAKDjpZs/AAAAYAisnD8AAABgYhCoPwAAACAtsp0/AAAAgAisnD8AAABALbKdPwAAACCq8aI/AAAAAE5ioD8AAAAAv5+qPwAAAKCF66E/AAAAYOOlqz8AAACgmZmpPwAAACC/n5o/AAAAgD0Kpz8AAAAgUriePwAAACArh6Y/AAAAAHNokT8AAAAAUI2XPwAAAGBiEKg/AAAAIFCNpz8AAABgheuhPwAAAGDjpas/AAAAwHJooT8AAABAK4eWPwAAAEAGgZU/AAAAYGDloD8AAADgzvejPwAAAABQjZc/AAAAoBgEpj8AAABgCKycPwAAAODO96M/AAAAwEW2sz8AAADAcmihPwAAAAAtsp0/AAAAIKrxoj8AAACAPQqnPwAAAIDheqQ/AAAAICuHpj8AAABgYOWgPwAAAOCF66E/AAAAgLx0oz8AAADAcmihPwAAACCHFqk/AAAAYOOlqz8AAAAgTmKgPwAAACCq8aI/AAAAQKwcqj8AAAAAUriuPwAAACBzaLE/AAAAAE5ioD8AAACAYOWgPwAAAKC+n6o/AAAAYIcWqT8AAADAl26iPwAAAECF66E/AAAA4PP9pD8AAABgK4emPwAAACDP96M/AAAAgISTuD8AAACgYOWgPwAAAGAhsMI/AAAA4MZLtz8AAADgYhCoPwAAACDRIqs/AAAAYL50oz8AAADgUriePwAAAMAIZMA/AAAAgKrxsj8AAACA4Xq0PwAAAECuR8E/AAAAQAaBlT8AAACgvp+aPwAAAGBg5aA/AAAAgD81rj8AAAAALbKdPwAAAOBNYqA/AAAAAFCNlz8AAABgZDuvPwAAAMC8dKM/AAAAIAaBpT8AAAAgheuhPwAAAMByaKE/AAAA4Ha+nz8AAABABoGVPwAAAIC8dKM/AAAAQAaBpT8AAADAdJOoPwAAAID8qbE/AAAAwBovrT8AAABACKycPwAAAABQjZc/AAAA4HSTmD8AAACAl26iPwAAAABOYqA/AAAAIIXroT8AAAAAUriePwAAAODO96M/AAAAgOOlqz8AAADgg7y0PwAAAIAPLbI/AAAAwPP9pD8AAAAALbKtPwAAACB1k6g/AAAAgC2yrT8AAABAYhCoPwAAAGDjpas/AAAAICuHlj8AAACgGASmPwAAAKAYBKY/AAAAgL6fqj8AAAAArByqPwAAAIA/Na4/AAAAwPP9pD8AAACAl26iPwAAAIA9Cqc/AAAAwHSTqD8AAAAgBoGlPwAAAOB0k5g/AAAAwHSTqD8AAAAAUriePwAAAGAOLbI/AAAA4E1ioD8AAADgzvejPwAAAKC+n5o/AAAAgLx0oz8AAAAgheuhPwAAAGC8dKM/AAAAACuHpj8AAADAcmihPwAAAMByaLE/AAAAIAaBpT8AAADAGi+tPwAAAGBg5aA/AAAA4Ha+nz8AAAAAUriePwAAAOBNYrA/AAAAYGDloD8AAACgvp+aPwAAAKAIrJw/AAAAQH8/tT8AAADgbOe7PwAAAAC9dLM/AAAAwEA1vj8AAADAhuuxPwAAACDP96M/AAAAYIcWqT8AAACA4XqkPwAAAKBg5aA/AAAAYOF6pD8AAABgYOWwPwAAAECsHKo/AAAAwJmZqT8AAABALbKdPwAAAKCXbqI/AAAAYPYorD8AAADAl26iPwAAAOC8dKM/AAAAYM/3oz8AAAAgPgqnPwAAAAB9P7U/AAAAoKwcqj8AAABA16OwPwAAAOBFtrM/AAAAoFg5tD8AAAAgc2iRPwAAAEDheqQ/AAAAgLx0oz8AAABAK4eWPwAAAIBg5aA/AAAAYCuHlj8AAABArByqPwAAAIAzM7M/AAAA4OkmsT8AAABgqvGiPwAAAKDheqQ/AAAAwBgEpj8AAADgGASmPwAAAECF66E/AAAAIKrxoj8AAACgCKycPwAAAODz/aQ/AAAAgOF6pD8AAAAgd76vPwAAAODjpas/AAAAQHe+rz8AAACgEFi5PwAAAKDjpZs/AAAA4OF6lD8AAAAATmKgPwAAAMCXbqI/AAAAAHe+nz8AAADAcmihPwAAAMDz/aQ/AAAAIKrxoj8AAACAvHSjPwAAAKC+n5o/AAAAoNnOtz8AAAAATmKgPwAAAGB1k5g/AAAAoGDloD8AAACACKycPwAAAKC+n5o/AAAAAFK4nj8AAADgdJOYPwAAAAArh6Y/AAAA4HSTqD8AAADgdJOYPwAAAABQjZc/AAAAwL6fmj8AAABABoGVPwAAAEAGgZU/AAAAAFCNlz8AAACgvp+aPwAAAABQjZc/AAAAwJmZmT8AAAAAqvGiPwAAAMA9Cqc/AAAAAL+fmj8AAACgCKycPwAAACCF66E/AAAAICuHlj8AAADA8/2kPwAAAMC8dJM/AAAAYOOlqz8AAADgvHSjPwAAAEBg5aA/AAAAYOOlmz8AAAAAdZOYPwAAAABQjZc/AAAAoL6fmj8AAAAg/KmxPwAAAMByaKE/AAAAYGDloD8AAAAgheuhPwAAACAGgZU/AAAAAFCNlz8AAABA4XqUPwAAAMDhepQ/AAAA4M73oz8AAACAPzWuPwAAACCF66E/AAAAYOOlmz8AAAAALbKdPwAAAGAIrJw/AAAAAC2ynT8AAACAvp+qPwAAAMB0k6g/AAAAoJdukj8AAAAALbKdPwAAAOAGgaU/AAAAQAisrD8AAAAgBoGlPwAAACCHFqk/AAAAAE5ioD8AAABg46WbPwAAAOB2vp8/AAAAAFK4nj8AAADgzvejPwAAACArh5Y/AAAAgLx0oz8AAAAAUI2XPwAAAMByaKE/AAAAwJmZmT8AAADA8/2kPwAAAODO96M/AAAAwHSTqD8AAACALbKdPwAAAECHFqk/AAAAIFK4nj8AAACgGASmPwAAAOB0k5g/AAAAIIXroT8AAADgzvejPwAAAABOYqA/AAAAgCuHlj8AAACA4XqUPwAAAEAtsp0/AAAAQIXroT8AAAAAUI2XPwAAAGBg5aA/AAAAoJdukj8AAACgGi+tPwAAAKCZmak/AAAAoBgEpj8AAAAAK4emPwAAAGDjpZs/AAAA4M73oz8AAABACKysPwAAAABSuJ4/AAAAIFK4nj8AAADgUbiuPwAAAABOYqA/AAAAAKwcqj8AAADg0CKrPwAAAEAIrKw/AAAAAKrxoj8AAACgl26SPwAAAIC8dJM/AAAAwJmZmT8AAACAvHSTPwAAAMCXbpI/AAAAwJdukj8AAABALbKdPwAAAODz/aQ/AAAAwBgEpj8AAAAAz/ejPwAAAABQjac/AAAAQOF6pD8AAABA4XqkPwAAAMB0k6g/AAAA4E+Npz8AAACgmZmpPwAAAIC+n6o/AAAAgD0Kpz8AAAAALbKdPwAAAODQIqs/AAAAIAaBlT8AAADgdJOYPwAAAABSuJ4/AAAAwPP9pD8AAACAvp+qPwAAAIA9Cqc/AAAAoBgEpj8AAABAYhC4PwAAACCF68E/AAAAYD4Kpz8AAADAxCCwPwAAAABQjac/AAAAoBgEpj8AAACgxCDAPwAAAEAIrKw/AAAAAKwcqj8AAADA8/2kPwAAAABSuJ4/AAAAwHJooT8AAABgYOWgPwAAAOB2vp8/AAAAwPP9pD8AAADgdJOYPwAAAIBqvLQ/AAAAANEiqz8AAADAxCCwPwAAACCq8aI/AAAAYOOlqz8AAACAvHSzPwAAAEArh6Y/AAAAwHJooT8AAAAgheuhPwAAACBSuJ4/AAAAIAaBpT8AAAAAc2ihPwAAAKCXbqI/AAAAoBgEpj8AAABACKysPwAAAAB1k6g/AAAAQKrxoj8AAABgYOWgPwAAAKDjpZs/AAAAAE5ioD8AAABgYOWgPwAAAGBg5aA/AAAA4PP9pD8AAADAGASmPwAAAECq8aI/AAAAoBgEpj8AAAAgqvGiPwAAAMDjpZs/AAAAIHe+nz8AAAAgTmKgPwAAACBSuJ4/AAAAgGDloD8AAAAAUI2nPwAAAOB0k6g/AAAA4M73sz8AAADgdJOoPwAAAKAYBKY/AAAAYGDloD8AAACALbKdPwAAAOCZmZk/AAAAAJqZmT8AAADgcmihPwAAAIAIrJw/AAAAIIXroT8AAACAvHSjPwAAACAGgaU/AAAAICuHpj8AAADgmZm5PwAAAOCZmak/AAAAQKwcqj8AAABAd76vPwAAAAD2/aQ/AAAAYOF6pD8AAADAGi+tPwAAACCq8aI/AAAAAHe+nz8AAACgl26yPwAAAAA+Cqc/AAAAAFCNpz8AAABAd76fPwAAAKC8dKM/AAAAQNejsD8AAAAgIbCyPwAAAMCdbqI/AAAAQJqZqT8AAAAgrxyqPwAAAID9qbE/AAAAIOalqz8AAABg9yisPwAAAMCbmak/AAAAgIcWqT8AAACABoGlPwAAAID0/aQ/AAAAAJqZqT8AAAAgqvGiPwAAAIDheqQ/AAAAwLx0oz8AAABAK4emPwAAAECq8aI/AAAAIM/3oz8AAAAgfT+1PwAAAMDb+b4/AAAAoHWTqD8AAACgMzOzPwAAAMA9Crc/AAAAoDMzsz8AAABAheuxPwAAAMDjpas/AAAAgOF6tD8AAACgLbKtPwAAAGArh7Y/AAAAgIcWqT8AAADAK4emPwAAACBjEKg/AAAAIOJ6pD8AAAAgz/ejPwAAACDP96M/AAAAQIXroT8AAACAheuhPwAAAIDheqQ/AAAAICuHpj8AAAAgUriePwAAAGCF66E/AAAAIKwcqj8AAACACKycPwAAAEBlO68/AAAAAHNosT8AAABg9P2kPwAAACCbmak/AAAAoD0Ktz8AAABA2c63PwAAAIBANa4/AAAAYKwcqj8AAAAAGQSmPwAAAACG66E/AAAAQPYorD8AAABgYOWgPwAAAOCZmZk/AAAAQAisnD8AAABACKycPwAAAIC8dKM/AAAAYOOlmz8AAACgvp+aPwAAAIDjpZs/AAAA4JmZmT8AAAAAd76fPwAAAMA/Na4/AAAAoAisrD8AAADA8/2kPwAAACArh5Y/AAAA4JmZmT8AAAAAd76fPwAAAKC8dJM/AAAAQAisnD8AAADgTWKgPwAAAMCZmZk/AAAAQAaBlT8AAADAl26SPwAAAIB1k5g/AAAA4HSTmD8AAACgvp+qPwAAAIC8dKM/AAAAAJqZmT8AAACACKycPwAAAABSuJ4/AAAAQC2yrT8AAAAgqvGiPwAAAIA9Cqc/AAAAAM/3oz8AAAAgBoGlPwAAAKDjpZs/AAAAwJmZmT8AAAAArByqPwAAAOBNYqA/AAAAIAaBlT8AAADAmZmZPwAAAIC8dJM/AAAAIAaBpT8AAADgT42nPwAAAMByaKE/AAAA4E+Nlz8AAABACKycPwAAAICXbpI/AAAAACuHpj8AAACgvp+aPwAAAEAIrJw/AAAAAC2ynT8AAACAvp+aPwAAAEBg5aA/AAAAgLx0kz8AAACAvHSTPwAAAAArh5Y/AAAAACuHlj8AAACAvHSTPwAAAKCXbpI/AAAAICuHlj8AAACA4XqUPwAAAAArh5Y/AAAAIAaBlT8AAAAAK4eWPwAAAEBSuJ4/AAAAgIXroT8AAAAAdZOYPwAAAMCZmak/AAAA4E1ioD8AAADAcmihPwAAAODO96M/AAAA4Ha+nz8AAADA8/2kPwAAAEDheqQ/AAAAgJduoj8AAADAmZmZPwAAACAGgZU/AAAAgL6fqj8AAADgTWKgPwAAAOBPjac/AAAAQGDloD8AAADgdr6fPwAAAOBPjZc/AAAAYLx0oz8AAAAgrByqPwAAACARua4/AAAAAE5ioD8AAADgzvejPwAAAOB2vp8/AAAAoAaBpT8AAADg0CKrPwAAAIBOYqA/AAAAgJqZmT8AAADg8/2kPwAAAIArh6Y/AAAAIGMQqD8AAAAgK4emPwAAAAB3vp8/AAAAIKrxoj8AAAAgqvGiPwAAAMCXbqI/AAAAQHe+nz8AAAAgUriePwAAACCq8aI/AAAAgLx0oz8AAACAheuhPwAAAECF66E/AAAAIHWTmD8AAACA46WbPwAAAABOYqA/AAAAwIcWqT8AAAAA0SKrPwAAAKCF66E/AAAAYKwcqj8AAAAAUI2nPwAAAEDP96M/AAAAgJqZqT8AAACA4XqkPwAAAEB3vq8/AAAAACGwsj8AAADAGASmPwAAAAB1k6g/AAAAQIcWqT8AAACACKysPwAAAKA9Crc/AAAAQBkEpj8AAADACKysPwAAAGD8qbE/AAAAgOF6tD8AAADAvp+qPwAAAOAYBKY/AAAAIIXroT8AAADAcmihPwAAAAB3vq8/AAAAQHWTqD8AAABgBoGVPwAAAABSuJ4/AAAAgOOlmz8AAADg8/2kPwAAAKC+n5o/AAAAIIXroT8AAAAAUI2nPwAAAMDjpZs/AAAAAC2ynT8AAACg4XqUPwAAAMDpJrE/AAAAwOkmsT8AAADgdr6fPwAAAICXbqI/AAAAYAisnD8AAAAAUriePwAAAMDa97M/AAAAYGDloD8AAADAmZmZPwAAAEAGgZU/AAAAICuHlj8AAAAAUI2XPwAAAAArh5Y/AAAA4HSTmD8AAACAvHSjPwAAAABOYpA/AAAAwJmZmT8AAABA4XqkPwAAAACq8bI/AAAAQGIQqD8AAABAYOWgPwAAAECF66E/AAAA4M73oz8AAADgdr6fPwAAAAAtsp0/AAAAAE5ioD8AAADAcmihPwAAAGDhepQ/AAAAAC2ynT8AAACgl26SPwAAAOCZmZk/AAAAYOOlmz8AAADgzvejPwAAACArh5Y/AAAAgJduoj8AAADAcmihPwAAAMDz/aQ/AAAAINejsD8AAADgT42nPwAAAIC+n6o/AAAAAC2ynT8AAABACKycPwAAACAGgaU/AAAAAM/3oz8AAABgYOWgPwAAAGAIrJw/AAAA4HSTmD8AAACAvHSjPwAAAICXbqI/AAAAYOOlmz8AAACgmZmZPwAAAICXbpI/AAAAAFCNlz8AAABAhxapPwAAAODO96M/AAAAwHJooT8AAAAALbKdPwAAACCHFqk/AAAAQAaBlT8AAAAAUriePwAAAGAIrJw/AAAAoL6fmj8AAABACKycPwAAAACsHKo/AAAA4E+Npz8AAAAgqvGiPwAAAMByaKE/AAAAIKrxoj8AAAAgheuhPwAAAAAtsp0/AAAAQAisnD8AAACgvp+aPwAAACCF66E/AAAAoBgEpj8AAAAAd76fPwAAAIC8dKM/AAAAAFK4nj8AAAAALbKdPwAAAIC8dKM/AAAAoL6fmj8AAAAgLbKdPwAAAGBg5aA/AAAAoJduoj8AAADgdr6fPwAAAOByaKE/AAAAAM/3oz8AAAAgheuhPwAAAIA9Cqc/AAAAIKrxoj8AAAAAK4emPwAAAOD1KKw/AAAAgD0Kpz8AAACAvHSjPwAAAGDjpas/AAAAwGq8tD8AAACgokW2PwAAAIAIrKw/AAAAQHe+nz8AAACAheuhPwAAAEArh6Y/AAAAAM/3oz8AAACgrByqPwAAAMC+n6o/AAAA4GIQqD8AAACACKycPwAAAAB1k5g/AAAAAHWTmD8AAADgcmihPwAAACBOYqA/AAAAAJHCtT8AAABg16OwPwAAAAD8qbE/AAAAgLx0sz8AAACAvHSzPwAAAABSuJ4/AAAAoL6fmj8AAABg46WbPwAAAKAYBKY/AAAAAFK4nj8AAABACKycPwAAAEAGgZU/AAAAYGIQqD8AAADgdr6fPwAAAICXbqI/AAAAQGDloD8AAABAL93EPwAAAMByaKE/AAAA4FAjqz8AAACgGASmPwAAAOByaLE/AAAAAFCNlz8AAAAAUI2XPwAAAICXbqI/AAAAwCCwsj8AAADg8/2kPwAAAABSuJ4/AAAAgC+yrT8AAAAgK4eWPwAAAIC8dJM/AAAAYOOlmz8AAADAcmihPwAAAABOYqA/AAAAwHJooT8AAAAghxapPwAAAOD1KKw/AAAAoBovrT8AAACgl26iPwAAAICXbqI/AAAA4E+Npz8AAADgzvejPwAAAGDjpZs/AAAA4E+Npz8AAADgzvejPwAAAOBPjZc/AAAAAFCNlz8AAADAdr6fPwAAAEBg5aA/AAAAYOOlmz8AAAAgqvGiPwAAACArh5Y/AAAAgLx0kz8AAABg46WbPwAAACCq8aI/AAAAoBgEpj8AAADAdJOoPwAAAOB0k5g/AAAAYLx0oz8AAAAgqvGiPwAAAODz/aQ/AAAAgOF6lD8AAABgvHSjPwAAACCF66E/AAAAAC2ynT8AAAAAK4emPwAAAOB0k5g/AAAAIIXroT8AAABg46WbPwAAAKCXbpI/AAAAYOOlqz8AAADgzvejPwAAAOCZmZk/AAAAgAisnD8AAABALbKdPwAAAKCXbqI/AAAAoJmZqT8AAABAheuhPwAAAMByaKE/AAAAIIXroT8AAAAgheuhPwAAAODO96M/AAAAYGDloD8AAADgzvejPwAAAMByaKE/AAAAgIcWqT8AAABAhxapPwAAAEDheqQ/AAAA4Ha+nz8AAABAdZO4PwAAAEBSuJ4/AAAAIE5ioD8AAADAGASmPwAAAMByaKE/AAAAgAisnD8AAAAAz/ejPwAAAEDIS7c/AAAAQKrxsj8AAACgv3SjPwAAACCF66E/AAAAwL6fmj8AAACAl26iPwAAAKCXbqI/AAAAgLx0oz8AAAAAUriePwAAAGBg5aA/AAAAQAaBlT8AAACA46WbPwAAACCF66E/AAAAoL6fmj8AAABg4XqkPwAAAADP96M/AAAAQIXroT8AAACg46WrPwAAAABQjac/AAAAwHa+nz8AAABAYOWgPwAAAKCZmak/AAAAIIXroT8AAAAgBoGlPwAAAMB2vp8/AAAAgJduoj8AAADgzvejPwAAAIC+n6o/AAAAoJmZmT8AAADgzvejPwAAAIA9Cqc/AAAAoBgEpj8AAAAAqvGiPwAAAMB0k7g/AAAAQOF6pD8AAACAPzWuPwAAACAGgaU/AAAAgD0Kpz8AAAAgBoGlPwAAACAGgaU/AAAA4E+Npz8AAAAghxapPwAAAMB2vp8/AAAAwHSTqD8AAAAgheuhPwAAAMByaKE/AAAAgJduoj8AAABgvHSjPwAAAKCZmZk/AAAA4E1isD8AAADA8/2kPwAAAIDpJrE/AAAAQOF6pD8AAABgZDuvPwAAACCHFqk/AAAAwPUorD8AAABgDi2yPwAAAIA9Cqc/AAAAwHSTqD8AAAAATmKwPwAAAEDhepQ/AAAAQOF6pD8AAABACKysPwAAAKAYBKY/AAAA4E1ioD8AAACAvp+aPwAAAEBg5aA/AAAAIIXroT8AAADAcmihPwAAAEDheqQ/AAAAQGDloD8AAABAYOWwPwAAACAGgaU/AAAAwHSTqD8AAAAgBoGlPwAAAOBPjac/AAAA4FG4rj8AAAAALbKdPwAAAACsHKo/AAAAIIXrsT8AAAAghxapPwAAAACsHKo/AAAAAC2ynT8AAACAvp+qPwAAAKAYBKY/AAAAANejsD8AAACAvp+qPwAAAGCPwrU/AAAAAC2yrT8AAADAcmihPwAAAGDjpZs/AAAAwHSTmD8AAACgmZmZPwAAAIA9Cqc/AAAAYOOlqz8AAACgGASmPwAAAKCZmak/AAAAACuHpj8AAAAgBoGVPwAAAOBRuJ4/AAAAgD81rj8AAABg46WbPwAAAACq8aI/AAAAACuHlj8AAACAPQqnPwAAAGDjpas/AAAAYLx0oz8AAACgGASmPwAAAOBPjac/AAAAYGQ7rz8AAACgmZmpPwAAAAArh5Y/AAAAQGDloD8AAAAgBoGlPwAAAOBRuJ4/AAAAYLx0oz8AAAAALbKtPwAAACCHFqk/AAAAwHa+rz8AAAAAqvGyPwAAAACsHKo/AAAAQGIQqD8AAAAAK4emPwAAAOBRuK4/AAAAAKrxoj8AAABACKysPwAAAAAtsp0/AAAAgJduoj8AAABACKycPwAAAABQjac/AAAAwHa+nz8AAAAALbKdPwAAAIC+n5o/AAAAwPP9pD8AAADAcmihPwAAAKAYBKY/AAAAYOOlmz8AAABgvHSTPwAAAGC8dKM/AAAAACuHpj8AAADA8/2kPwAAAGDjpZs/AAAAQGIQqD8AAAAA9iisPwAAAABOYqA/AAAAQOF6pD8AAADAcmihPwAAAIA/Na4/AAAA4FG4rj8AAACAl26iPwAAAKCZmak/AAAA4FG4nj8AAABg46WrPwAAAAArh6Y/AAAAYOOlmz8AAABA4XqkPwAAAAAtsp0/AAAAgL6fqj8AAADgTWKwPwAAAEAIrJw/AAAAAKrxsj8AAACgRbazPwAAAOBRuJ4/AAAAIIXroT8AAAAAqvGiPwAAAACsHKo/AAAAwPP9pD8AAAAgbAq3PwAAAAAtsp0/AAAAAC2ynT8AAACAl26iPwAAAAArh5Y/AAAA4NAiqz8AAABg46WrPwAAAEAIrKw/AAAAAC2ynT8AAADgUbiePwAAACCHFqk/AAAA4PupsT8AAADgUbiePwAAAIA9Cqc/AAAAAKwcqj8AAABgvHSjPwAAAAAtsp0/AAAAQGIQqD8AAADgT42nPwAAAEBiEKg/AAAAAC2ynT8AAADgUbiePwAAAODO96M/AAAAgJduoj8AAADAdJOoPwAAAOBPjac/AAAAQGDloD8AAABA4XqkPwAAAOBPjZc/AAAAQAisnD8AAABgvHSjPwAAAMByaKE/AAAAwHa+rz8AAACgmZmpPwAAACAGgaU/AAAAIIXroT8AAABACKysPwAAAKDEILA/AAAAAFCNlz8AAADgzvejPwAAAKAYBKY/AAAAoMQgsD8AAADAdr6fPw==",
           "dtype": "f8"
          },
          "color": "gray",
          "type": "data",
          "width": 1
         },
         "hovertemplate": "filter_code=g<br>phase_angle=%{x}<br>phase_corrected_mag=%{y}<extra></extra>",
         "legendgroup": "g",
         "marker": {
          "color": "#636efa",
          "symbol": "circle"
         },
         "mode": "markers",
         "name": "g",
         "orientation": "v",
         "showlegend": true,
         "type": "scatter",
         "x": {
          "bdata": "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",
          "dtype": "f8"
         },
         "xaxis": "x",
         "y": {
          "bdata": "oJUwyoMmlb+AeANTe7yZP4CkjcZocJO/ELvqBma+rT9whgqVUwyrP2CPi1oNR6Q/YEyQlszgkT+I4q/vUHa8P8DwS/t7fas/AH6EljqgXr+A2/+srE+CvzA1VYd5G6c/AE0cmLU4a7+wnq05QWOlP5CXPYJyW6M/SMdg/fVXsT+A+FxXi42xPwDO38XOIK8/EL8x+cnwqD9go2/L7OaYP2D6nmPO+pA/gNsGs/wXkT8gRayNMjqSP4DRNJ9mMIE/gN04DIbudT+gkSDlzQSfP8Cl83oysY2/YExMN7Djkb/gPZLL+oCpv0B5ER2+Po6/8Np+gRAroT+Q7rB4XzSmP8BGYxfiV4w/4FQ+fSTakD/AoJuXjcqdv4BXEZI4v50/MBz9SM0orb9QT2k8+Iqjv8BGb0NPoIi/MLaMWf9Woj+wEydayDSpP4BSsWPiOnc/ABipp/06dj8AAujmiXNaPyAqkwRfzZ+/wFHy95cikD8A0L6UVLt5v2AaVQoXVpC/CJaEVBkdtD+gEmR2jvGcP4Dm+2a6P4s/+LFQY9XPuD8o9e7MQUi7P+BKadNy4Z8/wDkhK+Dsgz+AzYnLEdeHv4DwQpJsApU/gMy/21Q1gD+AxZg9kdaTv+BU6sUFJK0/AMoFD3I9cb9go7pt09uQP/DJpWhbiqU/aAgnLlfnsz/ArPw7XcWqP0Cpn1X82Zk/gCkaERi+iz9g8rAZFrOuP4DfP/FKn6K/oL2PTrtIkT9AjX8ly8awPwARMAHB0JM/QKDqU6SIkD8AwGl9Wftmv7AQTuf+uKq/gEGx5mEng7/oHP+SkGq1P3DLDEDqQ6Y/AJeOLUBieL+QzXbsTsOhP0CKk+ZZI60/AF9gqRg2dr8AouCzibJ7v6BoOm2+iZY/gGHd7ScEe79AnlJYqJSGvwDQ6K/gHKI/aFy+lqG4tD+Afy9p/8x/P4BGCjW65pc/oGhThPCilD/AnMEyDOKNP+D4369zRaC/AL2lrOwMa7/gFLVqfp6iPwANSXpZAmM/ALBCZRs6UT9glKzikzCfP2BAVadGmrw/ICCDv9Ggnj+ATfveQGuDPwAaYP/zZYq/APPT41n9rD/gbj7LbhyyPwBLG+7zQnE/gJnSur+McD8AO5rsC85mP8B406HGvYq/AN+K02U8fL9gpVv2yHWXv6Anp91Cwpw/YKTMzNAxmT9sHN5WX6bBP1Ar4+Wle6Q/0GFU7fCStT8Ajjd6ReeKP+BK8tCU45c/AHhB7SoUhz8A8D/YNeVcvwB8rw6zmUY/YCf4G6iLkz8AvTOihAx0v6Dzu8IZb6E/oOFZcYxWkz8Al7dxwBiNv+AmU+qyIJ4/wHnGj5HimD/AufagrwaZv8CHJBt90JQ/gGqFrOAchz9gMXtrLxyQP4DasVmLDn8/AP0BJ+1HfT/gpvZQdUGUv4CzByEPyqI/AMnFF8/bcz8A0cb9NVCaP7BnBN/Ev6s/QD2RNscIlT/Auudac9emv1CcZCMwg6k/ANADztzifL8Ata2/lk5vv4Af3CZ1n3q/IDZbtauPkL9A3AJuSvqhvwAmn8bCsae/MK0tCAH0t79gHVfcgUScP4C4NviOCnK/kO8sNF1eoL/AKbxZZEeWP4AAQ9EAt6c/QKAxVELVgz/YP3rLkvW8P0BaaURPvZa/WJmUS0Lusr/AfArcHeKPv0DzFuYW6Ki/EE6SbqrFrL8At/5A8zKovwA0c3p1LGG/OAC0La6Fu7+gvxSQW8KSPwD3YLzjjYy/cGJ0G51uob8gRrO7lUulv0DxRhsEEZi/+NWRFMESsL+wxF2XCxCvv7AOI1Boc6W/IFQEqvC8lr+Aumg/dcWCPwBTY+CD44O/wC1gxpHhgL9wra5tZumiP0B0lEJaG5q/AHXpHKJNfD+A0s6EWcaRP2CXfvZoRJO/AEB7XfKabD8AGCYsE7p7v2AaTHd8vK2/ANIOhbORUz+g74wxRmafPwDYKFFt+0s/MG19yxwGp79Yt16c4ua2P8B/jh9nDYO/gKNvMz0Bij+AevC6scN0P8AIRSbNeYy/gLgg2twAjj+Azj6upuSzP4D1GvCS06e/AA6U5URFXz9A0oSSuSSJv4CK6kxFw3I/AIpy/RPrW79AOtxjZeiBP7AjEjK4BKi/AN/uwHDcgz9AL9j8kKyDP6z0bUx9tsQ/AJ162iilc7/AtvMDUjmOPyAQ5T0JdqE/gOHCy7khhz8A5A5KZwNUvwDglsZHHRa/wPgubIkHkr8AQLHE/RRIv6A7hXmawZc/QA5pAiQVnL8AUFpONFGPv2B54J4WOJc/gJ4sSmksg7+AiRME/1OJv4ACmFotBIa/APlcBRnOkz8Alq8+v2x5P0BEUNib+pG/gByYw+2MdL/ATedro7SHv4As/+6+36a/AGMTc7Tear+ApCgCxm+GP0CNIMaJYI+/QBMWXzAynL/g8dPgONqgv8BzNCusSoQ/gN63bA+GcD8Axc4z/9V8vwD7sjjunq2/ADUc+qyKcL+A7HixHcF8PyBo3sFjUJQ/wMjNtadwoD+ASMhK9UOHP7BIFiSneKA/ANXxp2BomL/gHxqe63+iP+CPqXx7qJI/8Ki4gy3opb/gKzP2aRWjvwAC9RIVa5u/gMunM2LvpL/gwkCmJXiXvwAUQUnPWZG/AHQJRZCldD+gmDyhODycP/B40S0aBqK/gD37CGXFcz/A5tLczlGYP+DuRg6/mKY/wIHenpo8mj/Q2N1M8S+hP+DDWAwbvbI/YFLW6CnOnT8Adry8vAq0P6DrHCayZKQ/wL4pSlVJpT+AH+Kw2JuFP+AFgK/mV6o/wNrVhJ4llj9wbRRFtkylP8Aew5R1vYU/AILOco3BYT8AbG3hinNdPwA2AYc/gFK/AFqn18MYb7/wl0XVgsKiv1BPxP6ZZaa/UJpHvwWHsT/g3HQnVruWP3Byd7h6wqQ/AK6f7Yg4gj+wBGwu+PyjvwAN1lqiWGc/UOYVfaIDob8AiepqkxZtP8BPqOoik4G/AONxJi2xbD94PiU/PV63v4DkVrEUf5K/oLcKQMuXmL+oyiPPKZC3vyAqSOTKg74/8EYGD5Y2uz9QWEKMK/27P4BvmXicgHY/ABZKFMLYjj9AN5YDNJGYv2CYumAjz5k/AMPXRDb7eT+AMbsY3oZ0v5DC1JcG1Ku/4J9T2Yogn79Q53hMsRemv7hVXM/tUbG/ACjdNPWZj78gVCaWIiOgv5Bt1tbGQ7c/AP53dhrSrb/AhmR/Cw+FPwCsUS8U82W/oEa3VHUWlL8ADdIuTC2Rv0DeHN0ysrM/AF7oxcF+aL9A0MlZYwOCv+AUv4yPHKM/gH19kd9nhb/gXViqZ9env8BVhmgSWYy/QP6DP1pohz+AKGWcpux5PyADD20Ue5w/QIJlD+4urr+gIKvyCi2iv8Dr0CmI9IK/gL7WVTICiz8A81d5Tmd8v6Cuf2IbTp4/QEm1pEn4q78AlPmpYZd1PwDGLjgLxoY/AHhKSLJHOT9w6cuEOYuvv6DokxNuE52/8BLDTqonor/gurA+Zo+dv4Biou90aKq/AKx3R1FGir+AMZjOrnqMv0DMGoFcFp6/4OW7BjiPmL/AHpR7j2aYv/AZ8Tq6HaS/QGVNJEm5jr+gZVU4D3+Qv6AYu4iVaZy/oF2mtiw3pr+Qw+A7NOqjv6CgdG5a+5W/IHH5eLx4o7/wapRkwPinv4DOptHznJ6/oPmUqHOalr/A39gdfCeUvwCiD0zquFy/gLAMM+hjib+w+nEA+sKtP8DN5UwHoY4/QHlrXySQsT8g+QnfmjitP4gKxvJBo7U/wMifzRhpqT/gZmcQfYCaPwh9X0QTFrM/uHpGROh1sD9Q9YX7s+OvP3BmTQ8si6g/ABCqmlsXbj8AIAJEuah4v0AKc1X5kZE/wO29mBtogj9gBl4hr2+lv2AXxm95XJY/AM1QQhP7gj9AyI/RwnCXPwAB1iEnl4Q/YBfw5vPKoD9A4PdGVmiLvzARCWBiLqA/4DJV+ugUor/A09cV0waXP+RvAs9SgMy/8GN5Ir4DpT+A8tAXXQWQvxCT0/5mP7G/ABMNS8abmj8Ac8HNY46TP9DMIMehKqA/wGqf56dNj7/AefBsvtiOP3CLtENdUau/APhcQCZUSb+g1O9yrOakv4Bs2HpLOKM/AGhD81UeWz+wWGoCYjujv/BgT1/xJLG/gBs7ZBjLfb+QMaEw2fWkv4AyDEMwAqe/UFMLMUSWoL8QQkdYRciiv8B9j6p7dZS/wIxGJrC9hr/gN2RdUbCmv1CLX3UuA7K/4AJd3lYhkr/wcxbRTTyzvyAIbHErHp+/AFq3N8i6X7+oM8KMKYC6vwBxmKf66YS/wPqaYN3cqb/A3IHrIkuqvwDRsSWmEIy/QFn3Upgkm7+AQe79d02gv8Bw3K7BHpu/gCTvGJKEcr8gGKf5eAiev0CCdNAYf4e/wDRVa5ywgL+Akf9WY/Fxv4AX/oNqLn6/AKPdEnfIcD8A0ZdKsvR+PwDL+W/ZxnA/AEqfX+3odb8ATYO4oYmVvwCsNRlxk04/MEQ/g56+o7+AZU6EeT9/v0BLMQpkYa2/wK2YXyHZkr+Aaea4o96av4BeAZV4zou/AGBJoKRbhL8gsdHh1f6jv/De4GbySK6/oKuK9b1Npb+AtZBzw3ibvxCFm6Q6K6O/wKXr7ha5or9ocFVn/3S3v+ABMKhYU6a/YOtiusctlr+g8qRdmwyWvwAQoaN6FmC/oNd4DiaPkz8AOsgiDclbv8juu/cGFMg/8A0PlhWj1L8A+xLszb6bv+AFTRdksZC/QIkTwLcdjr9ADr9TIdCev5A6MpEzdaG/AEnseqHEaz8Ap5Pt1sNiP0AbXkpoioQ/gM6QYxXwcz/AROB3Sx6cvwDTPb16Ioq/QChy2SBAgb/gpxcaCLehvyAioI0T8Zm/AB3UATIFaj/AYmDV/cqUv0AFcUClcYG/IPU96LGIt7/wxssDVpCmv2AF36RU0aK/wM+Xogzzn78gm7S8te2vv+AIHHMZqqu/AGED2F11gz8A+bt6S5GRPwCiPH/CTaW/wJgdKpnxr7+ggYODIrqUv4CjXhinyoW/MMka5gfopL8oW5B7JfSwv6DvELEDm5+/0AbgSbg5ob9goXjjlZetv0D5qj1qPJm/4E12umQUn7+gIVioP7eXv8D9MIhwloQ/AMaazxFEVb9Q4WBDTIKuv6Ae1+3Fc6W/AMlemRJCob/AHIQrsqeWv8CuPvjoEJ6/APIjPaYHib8INa9XIJKzv6CYxnprGKO/uBBGLGrys7/AagfSBP6gvwAx8objime/IJkPTB+At78QWzxBEE6xvwDubfZ49Je/gHanUvseor9QxbNuiMWyvwBI3uPfJlq/AAz5hu4lUr+AsuNCxMp+PwCFispBAYo/oKxEsd9Up79wc8bVNTOrv4APtmIFTHA/oJUTGaf2mr+A8/GHq0J3vwASoJVyNmw/gEZDNnJqeL8Atd+w15ajvwBss0FEYkU/yIyfJteDsL9w67DSxnuwv9DN8PRfPqK/oPCAoKRHn7+A2tDSf6N8v8CG6AGCM46/QN1oXDFdjL+AR+GISkqLPwD0ZzRNd2G/wCuo5UjXhL8AY2AaGIBoP+CuPqI87bO/QA5RCQppqr/APGGwNgudPwAdhL/WJ5C/wOG3NKQDqb/Q6Yhl5mqhv5CEKBmXOK2/ABagI/lblL+4hWbJMo21v4DpbcU6k56/4JsoI7csnL/gFKQ3feqdv6BTROzHYKS/QBfF31pFiL+gPVj1M8yqv2B6pX5BBJK/AO3Yqv4wbr9AwV4ZQAW2v6Aqqe4X05k/AAM8uNJjq7/QHyNMKAmsvwDob72PaqK/gJ16VJKoeb+g3s+SgouavxgSMTYDI7a/IDZUlO3Dob9QOwd+HMupv4DxsaMd86m/APf1QWUadD+AU2GUDkqqv0ApeWQ5k6G/8MkmEUirrb+gwRQFr8irv+D76YLvSbi/AAmXWInBkb+Qz7JC9pukvwDNr213+4O/oPnXtzmgnr+gES0sn/ehv+A80NNbJZu/wHJF0XzDor/UvRpD4BHAvxAbKU3VI6O/wPwjx1EVmL9ABZUkRveav9A3YroLh7C/oIzG/NzTqz9gvkA5+hu1v7j6/DmYkLG/OGayQEwQt79YvhaKsVuxv7IqPiKr78S/IC0wLmBFmr9wTM+DsVW2v+A3MDgFNau/oAgAC7rDpr9AXXSCqJClv5DZJMWtKrG/4MzPD/Eyrr/AAILlbICrv8hUhtqvMLa/",
          "dtype": "f8"
         },
         "yaxis": "y"
        },
        {
         "cliponaxis": true,
         "error_y": {
          "array": {
           "bdata": "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",
           "dtype": "f8"
          },
          "color": "gray",
          "type": "data",
          "width": 1
         },
         "hovertemplate": "filter_code=r<br>phase_angle=%{x}<br>phase_corrected_mag=%{y}<extra></extra>",
         "legendgroup": "r",
         "marker": {
          "color": "#EF553B",
          "symbol": "circle"
         },
         "mode": "markers",
         "name": "r",
         "orientation": "v",
         "showlegend": true,
         "type": "scatter",
         "x": {
          "bdata": "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",
          "dtype": "f8"
         },
         "xaxis": "x",
         "y": {
          "bdata": "LAjaWnCGtT/4GIP3L0iiP2AY4zW7BnE/cC2Jhp+hjj+Qm5V/HGiBv/gpWuhxLp0/LJMieekRqT9osgAvM4OjPwBJZJqfvGs/tAxy68Buwj8AoJoXamNVPxBVZ3R/c4C/+IlD3Nhgqz+ITqxMx9CRP2CiK07qXpg/5JMo3P7Voj/gk0hNqM1+P/aHe482sbA/oGwv0smAnT8AauuydriHP3jyTqD96JM/AHMD46fSQ79UX42ForqmPyA9gt8WWI2/3F1EC6mPoT8AtJDhMJE1v5Csg6oNUYc/EP0ytrj/lz/8iixP4K+tv+B5SIwnF4u/MPYCvdmIgz+M7C8zNQSgv3C849G5iJW/gHKuUQz9fb/AIweb20N+P0BJHbnYcom/AEg61rVdiD94IleBZ86pP8Avx85rM5E/AM/SqRU4Vr+QY+RJJROwP8ADe0TNcoU/gICR6UWPYr+4eRaac3mhP+ABhyV7YJ0/AFMQ6ls6Xz94DOKLOIywP5zvPvoYzLI/QBNqSsCDfL+kfKeG9yWsv0jamMG9XLE/YGRWfQh7kD+Qu4g0W0Kcv3po/GAMw6i/+OgACxbkmb8gNTjpXXt+P7hFnzGFmqU/sKaB5n4ggT+QwXCMvKGSPzjDD6V6bJS/LODqLIm3pT+w7jGkLeybPyj36vfnpqg/iCHlvKzqpD+AZyU6fet/PzAhIYvzXY4/sJnxXNTrmD9ALTQztnisPzR+pVUreaG/AH/UljF6br/YaL211l+dP4ATfS6/IJ4/QHRJtD0Pmj8A4Ma5ZsL3PoBPs+nChlg/ALU1hXvolD84lgj01fCePyCJxvaul5E/8H0Q+e9vhj9AXq15KqiTP2DoATFchq8/CNGUuJz1mj+o6ouR88WaP4Abkq+Ek3Y/fJO2pndqpb/gSNlHWXaBP4zRkyZP86c/xunNZkMMvT+QclfUZqaFvwCoEZ0YgEM/QFnDmXB2az8ApZRLZO6JPxSKDTyuGKi/A5oMMsYmub/IHYyG0NOdv8ySDDwFNsG/gK5N7G0CYT+YAubxo4SlP0h10rWFcc8/UFVb3EhOgL+4nZOCap+fPyArwwhDzYU/nHl1CFGbqD+w93cenD6SP0ALbbT0KI0/AKEFeyjrTr804UARGUWmv5DJTXMPApm/ANnCfQ+Zdb8QdZhDobaBv4AzgTk8Tow/ANWuZBsbVT/QCuLfjb2Pv0AC50rch3Q/5EjvhrJOoT9Q11Cz0E+JP6ipbO0JarE/1FV+lh5ppL9Qtm/pZ9iBv4A/q0db8XM/wPz1WNIyjj+AV0obS7pTP9Dgc9HU5Jq/KqL6vn8Fpb+Q/k8cqC+ev8CNQd7iGo6/4GyuuBlmgT/RMl+adBjAP/CGI64ru5E/4D9G+LWdfz9Mo44A3UmhPzZoeKvmJ7k/cNq64H54nD9eXqasgnawv8Axp7CoVXS/mGwHtUYrsD9Al01y4paAv8CzL+goZIM/SA0QBsnIm7+g7sW3DkZ6PwgxmHj3kqo/IIRQFY8zf7/A+hwEm+yeP7Biz4p1Q6K/gA4dBpqzbr8QV/jbaJiAP3D+zVA/Rok/AHJpJPnYlj8gsYyRq2NyP9iWQTgR4p+/WGLaR1Awmj/o8gPXL2mYP8A7BdDhTma/MKdbcKBDpz8AU6qHo1FzPwC5TQq7npK/EGhZP4XEhD+gnUvaV5V1v4BEhHsHBZy/8A8dxN35ir/w7NN41zaTv9ibgcBhZKg/IDDJ+bnKkr8ARaeyOZJtv8Ce4ySoo3m/ALXh3k69Wr8gJpXqpiafP8BujbpAOm4/DPG+MN+kqT8S/vA2IIbDP6AeGQyMIpM/oMc0PhKfkb8o7x+fraeYP8CTy9SOHo0/IFrqXRE5fr+ANHBMd1Vdv6j6qvX+1Ji/gBkTjF/zjj9IQqanCvalPwCaJBM/2aQ/ALIp42UIjL/AclbxGMKGP4CVyZDg8mY/aDvFbMikoz8gSOfVssCSvxsVshXQdrC/kIlRT2NEgD+QmTOB4legPwS+TqXP/6o/YAxbVBzOdr9AytV5tRuCP2ixFQ0x/qY/IPp+0USPcL/oxadz2g2QPwBq7G5aCYk/AFz5xr7hRb8ATAZYt2F/P7BSNLw9lIS/mPSlL96flL80pd9oMw+svwjW1vpXTJM/KPgDhFoyqT/gVgNRmHCTP0KelZDO77A/ACkjg4k2iz8YaqU9rw+WP9Do57RalIS/mPerMrSdkL8A7Szewjx+v8CV8W7tInW/6GFbA92/lD+w0LsfP6aSvzjCwQHJvJA/FPWfhvdhoT8wjrvqNHqMv/Dqncl8eJs/kCtXHo3Ln79kJAw7XY2lP+DXJBsp/oq/0OOXwIEViT9QDcTgz3qPvxD+jnyFW4s/EDetPmwwi7/gApXgPMuBP0ANSQB0Hmk/FvLEr+e2sr8A7is03MKvP4CniQfyZ3K/6BZtvYIdnL9Q0KTOokOevyScYKLO46A/KJ2bu7o/nL8Q/SsC2k+Jv+AvlWGDCnG/IBUNYg++nj+QiRTtXkyXP8DvMoOEb28/QKLIQMyklD8QbZvQmraBP8DLITz9GIs/4EE65cp3hT/gMp/jKheVv+DCaYC3hoM/gCSJ4osvkL/AA/TPW3dzvwiFSyJXlZg/wOtGnINTgT/QEb/0EaCEv5CHNyi6dYq/YMIVwxQ+cL/Qdd8N0USDPzj7/M9YEZc/qIcpXK/EkL+2e2LqhGqwP0SqPQ5mW6i/APnV6yOZSb/AGG5EyeNhv9BXfrQbGoS/wOp/injGiD+AvCSMAJagv2BqJA+nl3i/kD6MKFYPiD8A7nThnGw8P4B5Q5c0R10/4LtE0qKZdD/A+46yaPd0P+Cr6Og4VZO/3Eoh6VDvoT/4zybrVK2ev9i2X+QduZw/FH1kTBDQoj+itpDohOqwP9TBFcMzC6s/CJ7XHSpLoD8AvAPiechnvyBpg9l0ZY2/IGy6inpOjb9AgBy/TqCMv+AmNmiZG4A/4NN5EltUhL/w5B8VfRGavwShuP1tbKA/wNVVjdsokL+A0Nege8OFP6DkUzQsGY4/MCDLR62Elb8wPhd+xd6Kv+DOoQRbNXQ//ndmRGDroL/AG7MAp0d9v6BRaqtAIYm/MDtO+uatnb/Y35qqIdWQP4Dc3/VZLIe/ML/fvvs+k7/YSO7NaH26v+ari7rOpai/QJ4K7ynRhL+IY496qzmev1Jb62buJKK/sCp3NJVfnb+AQq7YG62FvzD4z4o1SIi/QBh8bL3mh79A8zuHWb2Av7iy30nrSZ+/KGiS3A+5kz9qUQiEwIiqv8r9+8rvQK2/UEjRJsQqm79QNHdC692fv4DJlxhca4K/JMWJCnVDo78Yny7ZOy2YvxCH6gEyy5m/oJwC5T4MlL8A0KBAXdI4v5CwF7kMwpw/QIgtQ788gb8g0e99H7OMPwBspBzhHn8/KGuBTxlKlb8AaJilN7ZSPzjTg274v6g/YDTMOAS7mj+IBdv6wWKXv1ACR7OZgY0/Zvw5nNyrqb/AJ/EgBdaCv7g/W7BBd6u/wDbl3VpDYT+ATUxkDldrv+A3dPuXdIk/iHMOYH5Zoz+oaKQHqGCUP2w2ONEytqQ/yHNAMvKtkb8Axkd3A0U0PyDDwxUfaoO/QKSzPlSYiD9g6ED0vESeP0CXRzyf+5W/IM224o3Vdj/kvzBtaaulP4ARLDmEG4I/YIZRSRbgcT8sxqyfavCiP7ijXQnhYJU/YGCGioFMfT/QECujDT6Uv6CStah3uns/QKarjOjFab+QRf8YHwqDv9Urf6jXwM4/oMB1YPkVlz8g5ptZqWakv1BD2gcK5Ko/AC/ds48ZTT8AVKKfaE5BP/gdAW7C1p6/ALMYupIdYD/AExlNb7Njv6BSNXqF4Ig/gBhIc6euYb/oF6VpPwadv4AfhTPzkHI/EB/kr7rRgr84I1Ebs2Kbv+CxMRVvHqe/KOYQhUmhmj8Yu+C8g9WcPwDTYO+kb3o/wILOaGeMdz/YmzG32KCeP8g0NIwZnq6/hKcJmaD2o7+4T8BPQvadP7haAcztgpg/ABeg0tFLfD9ARf9TXFN+P2gLkjvpxJI/gNdrbi87k79gqAJQO02XP2AClZXkDKC/wC0NkJG8lr+ANynmbU12P8jZZVl3y5k/oLMjTnjmhT+4OwCmNnOQv+BwEIlxUaK/AP06vNCvrj80UPR2RMGyP6Ba98LZkpO/tCS+xJicrD8AYc8TvVt6v1AAfPsjVKU/oJ2z9UrelT/AUK0GvNtsPxDIhMeunZo/GDYKxmS9uD+g1rcSVDGSv8AKX759U3M/nPqxa3h+q7+og56H7fuhP/jyi5JXhJk/ACA/ImnRR7/ArdsYR0N4v6Afdj+JwZU/wGsDTra3gb/AHXDo51uFP2iYgHwFFpS/AJwmXUzqPT8AtEVxFzGnv7BtU6Vzpow/WPtcr8OMpj9g8r6SP+mCv/wtezRToa0/LJU/DkzEoj9Auw8eIO1pvzKqZNSBbLS/QPokSaMXbj9kTr2pPyKpPyAkeD3m6aU/4HklSKAAib/QylEmJsWCP7xSFCPxJqk/nPsqhYIFqD+gSd6ZfK+CP3jO7UwdZ50/KLFg/zYKn794rCUQJI2eP2SkHMpGXaY/4HKJPCOjhz8A7BlfdJZ0P/AXrOm8xJK/lA09dD1kuL9HHjayYfy2v9gQE/AuQqE/EGHIZIJSnD/w84UXL+abv2YXlOqwjrS/ELvFuuw/mD+AQpWzZs1ov9DE3HeoTqY/UJ6OyL/jiL80SyZGxYukvwCBTaYHr5w/CN7zOI6XqT8kmCCWlYm3P4iaIliB9Z6/sMUF+2F6uL/Yl7ih9hSpv8bj/oNQrKm/UpREztFItz9QV1EVjIKGP2ht3JEQzJC/oA6l8spopT/AEA+YVbBsvwDa8k/zoDg/gFw6BEYEkz8w9pUDxxeLv1jbtk01HaK/xOtV9kjXoz/Q+92jlFOVvwCGHhvWUIC/Rda2rtF9sr94SKEthmCjv4hxAaIDdJK/HEDKfeNepr/wGrXkoymOv4gPXkgPoZ2/4Niy6hPteT+4Vgmc1N6lvzBgIni4Vqc/mpxTtbwrsL/63raepTOwvyaDmYRky7m/8CQVChkisD+A7jOSiYBWv3hHPBe6n64/wJIbmBUPkL+cD20a5Ai4P3hlcDla06k/AOO15+cCVb+gHnd9rjWGv2CIw5iddIi/ADSSFVbWK78Aix+yaxZWPyA99+qUdos/9DxJibTEob8gvLXqG6ifv8DyOaDKsJy/4DD+ebhKcj+gOs9ksKtwP3Bi72MkDqo/PEmhn9kEtL8AdVA40ulBPwgLFH2M8pO/yNsr8YYMkD/AL7014lmDP8BuxgasK40/aGtK6G/1nD/8ztEZ7Imhv0jP1C+k1Ze/wOFQECtWfD/k4nkHBFOhv3jXqhObaZW/jM22hA1sor+cKlgr0fqjv6go0I2nZpC/gMq8DmhjlL/Ax+frxrtov5xfSVLk46S/gOqTTusBa78IsQ8UcgqTPzAOPyS7R4s/gKW8VmLchL+AuG1GAJVtPwj/YXRl+Zu/YB8GVwHnj7/QFPg7pdugP0BgahoAA2U/4B0yLhRWcz9wJf3IdDaiv6Bq0kC+jYI/nDHc3Wpoob+w9sxKKIqPvwCVYF2rWUW/2IHqevUnnL/oodWCChyXv0C5yW2EoZi/0IzBp7bInb/Qb+Vw/t+UvwBd3nhnoqa/KLHOSqZHnb+gxxIm0zeHv4CyawoLSFI/NkGlmmu1o7+ANnB15/FgP6A+J9Zpd3O/kM3hsLLOh78wcsUj0GWGvwAA63en0Oa+sBKs6RsviL8g8o2xSEdxv+gH3+LpL5s/aPLEcMEdnD8gA7+h9GKiPxB/uE0V6aY/oLQE00OHgj9MGPNMfJmiP1A7xBpjOYE/ADXPJvoIbj+A7sWNMUuMPwiG1/xqBJQ/8DUQICIUkz9wAgZ7jI+FP8CIS06n5GG/RBaC6XCboL+YvEvboEmRv4Bl3BKFQ34/YM8gUMq8hb/QTizJNJmVP8BpCdbWgI4/AJIZ1WTHMj9uCJhYNC6yP+CLLp/Mo4c/cPoHRrT2lj8A14qQkMRuv3/IitXhitC/nGCemBYtqr/ATnJnxl6Ev8AefyGMdWu/AOAnayd8kr8oATwp+pqYPwQT5Vn0SKW/0My+QvJVjL/gbw9p6+d2P/AS2HHoLYe/4OBGn+ZioD9QHEO4V5mKv9AUKCZT5JG/UH6QYv6+gD8QTETAFCyjP8AxeqInDaC/AGRc8YQ6Nr/A5evAlId1vwBwj8vzUJu/wHZ3cD1Qhj8AX0bAnBSBPyi7IIDJJJg/oNh42az1l7+glcr/04uFP5BqlfFtHJM/UKAQgQk8kj8gRPRQRByRv+CQ9XWLuIK/sO1vlvgzgr/43iS6Ln6Wv1DV3D3146u/cEHZk2huiL8AF7K4Pz96P6inmo93sac/QJoqHMLodr+AEbmsDNCav8z09UtoAaa/gHaQ6AVYo7+u5CYi/5O6v2hMvS5npZC/wJPLsWU/kr9QRee5Xj+VP6SVngYWzqS/MN44kFyaj7+gaB0MZLCrv5SsgjiD+KS/ZNSVYsjTrr+wvLM883yBv955wbdghLm/dOI70hq5q7+Q3/vgGlejv6DOtiHt96K/wG+KGdUzkD8AYF+O+LFFP0BqXLGFYZC/YJ1rs3GrdL9onRMdlomlvxBY1g/BGoC/OO232l41kT+wOIpX4HGYv/6zbcMGW7I/oF9hnjiVnT/glqMg+ZKdv3/l5axsHrW/cPpO1WCDlb+QtrqOHvicv2SEBkirvcS/CGkjDsepob/QmdElKeSTv6BkMjwBqoK/gvHMHCzso79QWWs08qOCv4AjLtqZOY6/wGUoBMxBYL8A2/4K5XqIv1C4vqUagZq/WE3fWHbUkr/4fgwNBtGcv8AYE2yjUIa/mA5aOEoskD8A+aaNnOF5P1yTNRZX7Ky/YBoW+V+IjT+4GqTAScaTv1gQud4rf5O/eNK3lxdSm7+A9zI8pHNjv+CCk4UDB4q/kD6R4QN2i7/ADP6C6xdzP4o5yJVFxqK/4NPtW0w0hD/g2c/1Ymp1PyDEzDwLCJ6/4ws0b3sPsL98EjyUuAGjv6Cf7KYTiX8/0vBuhUI1qb9Cnag5q4qkv8BnoTPFZ3e/eJ7XrBsXob94ZT4KWKmgvzRH8BUxT6i/aLUNRwRZk78Iv4+qVEOtv2DR38SlFY4/0AN7Q+ljir9wbrJ+cluOv2CDLZVjbZC/wCH8qXRjhL8wrN6hPT2Ov2CZZSABkqG/mLNF9mwMqr/gz90MzhyPP0hIh3MZNJ+/QKUbSeZAjz/wJniK0bWtv4iEsMbu4aW/EI+s7euEmb/YS9pyRmylv6C/XdWJPo2/MOr3mGoOir9Id/Fenx6WPxAK0W1EF5m/YHzK4Octr7/4p6+eAMSkv5gSPq0UnKa/dGzIOeGCob/oKHkePqCfv+zZNcHLRKm/uNqg25Xzpr/AsjPIjXFvPwC89BgWNGW/oJrKC8rJfz9AUGVV9zZkP+Aja4EouXG/ABXqtduCW7+Izb3VRJ6gv0AfkPgOdGs/VNLAvmqwoL9gfVN/EDidv0gHO+BMjKW/HE5qCr8loz8AfHeqkvCevwCdAMYYdHy/gIUTlm1Ccr/ANIZ/Q2x6v5BDoSZlO5M/pBOOGOZJp7+AFbMTnwF7vwBoVQGv4Jm/MMilfiUhmT8wvzS6hVWCP8CItUJu424/IJFm6fedmr8wKz9XDRqTP4CcUBYa1mE/rEzqIzCmob+wzlrpFVipP0D8gNPUzpq/QJJ8Z4BjZb+Ewah3BZ2rPwYVNGxFfrO/UPFDwo2lm78gfU4LNm9/v2jOhQnaPa2/4BUOVmvghL/8wocE0vKiv/DYjoLFbYk/kIEtASXVoj808hKtRHKivzw/ILNZD66/IOBc+hdGs78oOAnNkkOfv6CVQ+pShq+/LPV2OUaDrb8A9zn/w5WWv0DYFRx3B4i/zIJ+/D56pb/Q+vnLtVePv5xRAWO4Wqa/WCSNmvk8sL8ofjeodHydP6BbgyWi3nA/nDoSTyIJpr96Bl7FsrS4P4BdhPCe9GM/jFgsfPbc1L/QugR/fNyCv6h11+ny0JM/QNaTZh/PkL9AS3M+++lxPzgl4q3m5qO/LI+75PaNrL827+xQhPOjv7wVb6lGtLK/0HExzzlZqL9I+Qhkk++VvxjIpjI+mae/EMyR34SJlL8weWcO7BWEv/At3ouJwp+/AIyBLjOuVT+YlVjp/Rqnv86nTMgd3aW/AKJ94y1xWL9w7GSA4CuXP/568UMBS6u/aFk6rtDIl7+0MuGJRf+lv5R7IRYxXqi/uIf5DCAhpb8QBg30ZWifv9r/8KWjs6O/AFG7YuMrTL8A0wH/7xdIv6AICd55zZa/6CUPDRNxkL+gAzNz8+uEv0DHgBQLOG2/IIUcBO3adz/g81h4rGiHv+QIsx8mQKi/0P8oV93Rhj+A9jMUN5uxP3DMyrCqfIW/xNmN9XSdqj9IJlvae9ifv6wQCrd5uKE/uKilbIvzmb8skowU8Wyrv2g4AjOrk62/IHzF0FNEl78w5Y+8EVSkv9DuG5zKT6u/pIHfLzAho7/AEZ4oPaGfv+Ck7+fk/p+/8EIsQ+sugD+YaTNbUUeXvwDG7iKmrF6/7ICF3Nxbq79wefpjjJKSvyAj6ZUosXm/AB36S1yJS78ohTDDaLKSv5CLdhErI6a/pARt+HwXp79g+A0MHu6Tv1T+ozNSV6u/gI3G+jMzcb8wrFjTJqSLvxDcFOArYpq/vsT2nkKowb9Ys7pkEAeuv7ie6RToT52/9D993Uzpq78eIChGD3O1P9Aw/+AZ1Ky/A1596JzlvL/QedCnN46YP2wFQHz6Lam/HI0eJRbkq7+Y/rYr2Jahv0DMRpm3U4Q/2NrS2RTjt7+20aas3+K7v7iMYZPBWJa/sCMddp38q78SKwaVw5KwvzB37/kSP5u/+EEaim4+o78Ea8BGg8akvwBLIRShFZ6/bIgJ8j9oqL9OJF1hyECyv9ChBJlyN5K/ACXXcfZGVL8YPPOFHmOsPzyTq/2EZbC/ikkSYlvUqr9QPbMRaiyYPw==",
          "dtype": "f8"
         },
         "yaxis": "y"
        },
        {
         "cliponaxis": true,
         "error_y": {
          "array": {
           "bdata": "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",
           "dtype": "f8"
          },
          "color": "gray",
          "type": "data",
          "width": 1
         },
         "hovertemplate": "filter_code=i<br>phase_angle=%{x}<br>phase_corrected_mag=%{y}<extra></extra>",
         "legendgroup": "i",
         "marker": {
          "color": "#00cc96",
          "symbol": "circle"
         },
         "mode": "markers",
         "name": "i",
         "orientation": "v",
         "showlegend": true,
         "type": "scatter",
         "x": {
          "bdata": "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",
          "dtype": "f8"
         },
         "xaxis": "x",
         "y": {
          "bdata": "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",
          "dtype": "f8"
         },
         "yaxis": "y"
        }
       ],
       "layout": {
        "font": {
         "color": "black",
         "family": "serif",
         "size": 16
        },
        "legend": {
         "title": {
          "text": "filter_code"
         },
         "tracegroupgap": 0
        },
        "margin": {
         "b": 70,
         "l": 80,
         "r": 30,
         "t": 70
        },
        "template": {
         "data": {
          "bar": [
           {
            "error_x": {
             "color": "#2a3f5f"
            },
            "error_y": {
             "color": "#2a3f5f"
            },
            "marker": {
             "line": {
              "color": "#E5ECF6",
              "width": 0.5
             },
             "pattern": {
              "fillmode": "overlay",
              "size": 10,
              "solidity": 0.2
             }
            },
            "type": "bar"
           }
          ],
          "barpolar": [
           {
            "marker": {
             "line": {
              "color": "#E5ECF6",
              "width": 0.5
             },
             "pattern": {
              "fillmode": "overlay",
              "size": 10,
              "solidity": 0.2
             }
            },
            "type": "barpolar"
           }
          ],
          "carpet": [
           {
            "aaxis": {
             "endlinecolor": "#2a3f5f",
             "gridcolor": "white",
             "linecolor": "white",
             "minorgridcolor": "white",
             "startlinecolor": "#2a3f5f"
            },
            "baxis": {
             "endlinecolor": "#2a3f5f",
             "gridcolor": "white",
             "linecolor": "white",
             "minorgridcolor": "white",
             "startlinecolor": "#2a3f5f"
            },
            "type": "carpet"
           }
          ],
          "choropleth": [
           {
            "colorbar": {
             "outlinewidth": 0,
             "ticks": ""
            },
            "type": "choropleth"
           }
          ],
          "contour": [
           {
            "colorbar": {
             "outlinewidth": 0,
             "ticks": ""
            },
            "colorscale": [
             [
              0,
              "#0d0887"
             ],
             [
              0.1111111111111111,
              "#46039f"
             ],
             [
              0.2222222222222222,
              "#7201a8"
             ],
             [
              0.3333333333333333,
              "#9c179e"
             ],
             [
              0.4444444444444444,
              "#bd3786"
             ],
             [
              0.5555555555555556,
              "#d8576b"
             ],
             [
              0.6666666666666666,
              "#ed7953"
             ],
             [
              0.7777777777777778,
              "#fb9f3a"
             ],
             [
              0.8888888888888888,
              "#fdca26"
             ],
             [
              1,
              "#f0f921"
             ]
            ],
            "type": "contour"
           }
          ],
          "contourcarpet": [
           {
            "colorbar": {
             "outlinewidth": 0,
             "ticks": ""
            },
            "type": "contourcarpet"
           }
          ],
          "heatmap": [
           {
            "colorbar": {
             "outlinewidth": 0,
             "ticks": ""
            },
            "colorscale": [
             [
              0,
              "#0d0887"
             ],
             [
              0.1111111111111111,
              "#46039f"
             ],
             [
              0.2222222222222222,
              "#7201a8"
             ],
             [
              0.3333333333333333,
              "#9c179e"
             ],
             [
              0.4444444444444444,
              "#bd3786"
             ],
             [
              0.5555555555555556,
              "#d8576b"
             ],
             [
              0.6666666666666666,
              "#ed7953"
             ],
             [
              0.7777777777777778,
              "#fb9f3a"
             ],
             [
              0.8888888888888888,
              "#fdca26"
             ],
             [
              1,
              "#f0f921"
             ]
            ],
            "type": "heatmap"
           }
          ],
          "histogram": [
           {
            "marker": {
             "pattern": {
              "fillmode": "overlay",
              "size": 10,
              "solidity": 0.2
             }
            },
            "type": "histogram"
           }
          ],
          "histogram2d": [
           {
            "colorbar": {
             "outlinewidth": 0,
             "ticks": ""
            },
            "colorscale": [
             [
              0,
              "#0d0887"
             ],
             [
              0.1111111111111111,
              "#46039f"
             ],
             [
              0.2222222222222222,
              "#7201a8"
             ],
             [
              0.3333333333333333,
              "#9c179e"
             ],
             [
              0.4444444444444444,
              "#bd3786"
             ],
             [
              0.5555555555555556,
              "#d8576b"
             ],
             [
              0.6666666666666666,
              "#ed7953"
             ],
             [
              0.7777777777777778,
              "#fb9f3a"
             ],
             [
              0.8888888888888888,
              "#fdca26"
             ],
             [
              1,
              "#f0f921"
             ]
            ],
            "type": "histogram2d"
           }
          ],
          "histogram2dcontour": [
           {
            "colorbar": {
             "outlinewidth": 0,
             "ticks": ""
            },
            "colorscale": [
             [
              0,
              "#0d0887"
             ],
             [
              0.1111111111111111,
              "#46039f"
             ],
             [
              0.2222222222222222,
              "#7201a8"
             ],
             [
              0.3333333333333333,
              "#9c179e"
             ],
             [
              0.4444444444444444,
              "#bd3786"
             ],
             [
              0.5555555555555556,
              "#d8576b"
             ],
             [
              0.6666666666666666,
              "#ed7953"
             ],
             [
              0.7777777777777778,
              "#fb9f3a"
             ],
             [
              0.8888888888888888,
              "#fdca26"
             ],
             [
              1,
              "#f0f921"
             ]
            ],
            "type": "histogram2dcontour"
           }
          ],
          "mesh3d": [
           {
            "colorbar": {
             "outlinewidth": 0,
             "ticks": ""
            },
            "type": "mesh3d"
           }
          ],
          "parcoords": [
           {
            "line": {
             "colorbar": {
              "outlinewidth": 0,
              "ticks": ""
             }
            },
            "type": "parcoords"
           }
          ],
          "pie": [
           {
            "automargin": true,
            "type": "pie"
           }
          ],
          "scatter": [
           {
            "fillpattern": {
             "fillmode": "overlay",
             "size": 10,
             "solidity": 0.2
            },
            "type": "scatter"
           }
          ],
          "scatter3d": [
           {
            "line": {
             "colorbar": {
              "outlinewidth": 0,
              "ticks": ""
             }
            },
            "marker": {
             "colorbar": {
              "outlinewidth": 0,
              "ticks": ""
             }
            },
            "type": "scatter3d"
           }
          ],
          "scattercarpet": [
           {
            "marker": {
             "colorbar": {
              "outlinewidth": 0,
              "ticks": ""
             }
            },
            "type": "scattercarpet"
           }
          ],
          "scattergeo": [
           {
            "marker": {
             "colorbar": {
              "outlinewidth": 0,
              "ticks": ""
             }
            },
            "type": "scattergeo"
           }
          ],
          "scattergl": [
           {
            "marker": {
             "colorbar": {
              "outlinewidth": 0,
              "ticks": ""
             }
            },
            "type": "scattergl"
           }
          ],
          "scattermap": [
           {
            "marker": {
             "colorbar": {
              "outlinewidth": 0,
              "ticks": ""
             }
            },
            "type": "scattermap"
           }
          ],
          "scattermapbox": [
           {
            "marker": {
             "colorbar": {
              "outlinewidth": 0,
              "ticks": ""
             }
            },
            "type": "scattermapbox"
           }
          ],
          "scatterpolar": [
           {
            "marker": {
             "colorbar": {
              "outlinewidth": 0,
              "ticks": ""
             }
            },
            "type": "scatterpolar"
           }
          ],
          "scatterpolargl": [
           {
            "marker": {
             "colorbar": {
              "outlinewidth": 0,
              "ticks": ""
             }
            },
            "type": "scatterpolargl"
           }
          ],
          "scatterternary": [
           {
            "marker": {
             "colorbar": {
              "outlinewidth": 0,
              "ticks": ""
             }
            },
            "type": "scatterternary"
           }
          ],
          "surface": [
           {
            "colorbar": {
             "outlinewidth": 0,
             "ticks": ""
            },
            "colorscale": [
             [
              0,
              "#0d0887"
             ],
             [
              0.1111111111111111,
              "#46039f"
             ],
             [
              0.2222222222222222,
              "#7201a8"
             ],
             [
              0.3333333333333333,
              "#9c179e"
             ],
             [
              0.4444444444444444,
              "#bd3786"
             ],
             [
              0.5555555555555556,
              "#d8576b"
             ],
             [
              0.6666666666666666,
              "#ed7953"
             ],
             [
              0.7777777777777778,
              "#fb9f3a"
             ],
             [
              0.8888888888888888,
              "#fdca26"
             ],
             [
              1,
              "#f0f921"
             ]
            ],
            "type": "surface"
           }
          ],
          "table": [
           {
            "cells": {
             "fill": {
              "color": "#EBF0F8"
             },
             "line": {
              "color": "white"
             }
            },
            "header": {
             "fill": {
              "color": "#C8D4E3"
             },
             "line": {
              "color": "white"
             }
            },
            "type": "table"
           }
          ]
         },
         "layout": {
          "annotationdefaults": {
           "arrowcolor": "#2a3f5f",
           "arrowhead": 0,
           "arrowwidth": 1
          },
          "autotypenumbers": "strict",
          "coloraxis": {
           "colorbar": {
            "outlinewidth": 0,
            "ticks": ""
           }
          },
          "colorscale": {
           "diverging": [
            [
             0,
             "#8e0152"
            ],
            [
             0.1,
             "#c51b7d"
            ],
            [
             0.2,
             "#de77ae"
            ],
            [
             0.3,
             "#f1b6da"
            ],
            [
             0.4,
             "#fde0ef"
            ],
            [
             0.5,
             "#f7f7f7"
            ],
            [
             0.6,
             "#e6f5d0"
            ],
            [
             0.7,
             "#b8e186"
            ],
            [
             0.8,
             "#7fbc41"
            ],
            [
             0.9,
             "#4d9221"
            ],
            [
             1,
             "#276419"
            ]
           ],
           "sequential": [
            [
             0,
             "#0d0887"
            ],
            [
             0.1111111111111111,
             "#46039f"
            ],
            [
             0.2222222222222222,
             "#7201a8"
            ],
            [
             0.3333333333333333,
             "#9c179e"
            ],
            [
             0.4444444444444444,
             "#bd3786"
            ],
            [
             0.5555555555555556,
             "#d8576b"
            ],
            [
             0.6666666666666666,
             "#ed7953"
            ],
            [
             0.7777777777777778,
             "#fb9f3a"
            ],
            [
             0.8888888888888888,
             "#fdca26"
            ],
            [
             1,
             "#f0f921"
            ]
           ],
           "sequentialminus": [
            [
             0,
             "#0d0887"
            ],
            [
             0.1111111111111111,
             "#46039f"
            ],
            [
             0.2222222222222222,
             "#7201a8"
            ],
            [
             0.3333333333333333,
             "#9c179e"
            ],
            [
             0.4444444444444444,
             "#bd3786"
            ],
            [
             0.5555555555555556,
             "#d8576b"
            ],
            [
             0.6666666666666666,
             "#ed7953"
            ],
            [
             0.7777777777777778,
             "#fb9f3a"
            ],
            [
             0.8888888888888888,
             "#fdca26"
            ],
            [
             1,
             "#f0f921"
            ]
           ]
          },
          "colorway": [
           "#636efa",
           "#EF553B",
           "#00cc96",
           "#ab63fa",
           "#FFA15A",
           "#19d3f3",
           "#FF6692",
           "#B6E880",
           "#FF97FF",
           "#FECB52"
          ],
          "font": {
           "color": "#2a3f5f"
          },
          "geo": {
           "bgcolor": "white",
           "lakecolor": "white",
           "landcolor": "#E5ECF6",
           "showlakes": true,
           "showland": true,
           "subunitcolor": "white"
          },
          "hoverlabel": {
           "align": "left"
          },
          "hovermode": "closest",
          "mapbox": {
           "style": "light"
          },
          "paper_bgcolor": "white",
          "plot_bgcolor": "#E5ECF6",
          "polar": {
           "angularaxis": {
            "gridcolor": "white",
            "linecolor": "white",
            "ticks": ""
           },
           "bgcolor": "#E5ECF6",
           "radialaxis": {
            "gridcolor": "white",
            "linecolor": "white",
            "ticks": ""
           }
          },
          "scene": {
           "xaxis": {
            "backgroundcolor": "#E5ECF6",
            "gridcolor": "white",
            "gridwidth": 2,
            "linecolor": "white",
            "showbackground": true,
            "ticks": "",
            "zerolinecolor": "white"
           },
           "yaxis": {
            "backgroundcolor": "#E5ECF6",
            "gridcolor": "white",
            "gridwidth": 2,
            "linecolor": "white",
            "showbackground": true,
            "ticks": "",
            "zerolinecolor": "white"
           },
           "zaxis": {
            "backgroundcolor": "#E5ECF6",
            "gridcolor": "white",
            "gridwidth": 2,
            "linecolor": "white",
            "showbackground": true,
            "ticks": "",
            "zerolinecolor": "white"
           }
          },
          "shapedefaults": {
           "line": {
            "color": "#2a3f5f"
           }
          },
          "ternary": {
           "aaxis": {
            "gridcolor": "white",
            "linecolor": "white",
            "ticks": ""
           },
           "baxis": {
            "gridcolor": "white",
            "linecolor": "white",
            "ticks": ""
           },
           "bgcolor": "#E5ECF6",
           "caxis": {
            "gridcolor": "white",
            "linecolor": "white",
            "ticks": ""
           }
          },
          "title": {
           "x": 0.05
          },
          "xaxis": {
           "automargin": true,
           "gridcolor": "white",
           "linecolor": "white",
           "ticks": "",
           "title": {
            "standoff": 15
           },
           "zerolinecolor": "white",
           "zerolinewidth": 2
          },
          "yaxis": {
           "automargin": true,
           "gridcolor": "white",
           "linecolor": "white",
           "ticks": "",
           "title": {
            "standoff": 15
           },
           "zerolinecolor": "white",
           "zerolinewidth": 2
          }
         }
        },
        "title": {
         "font": {
          "color": "black",
          "family": "serif",
          "size": 16
         },
         "text": "Haumea - all - 1631 points",
         "x": 0.5,
         "y": 0.93
        },
        "xaxis": {
         "anchor": "y",
         "domain": [
          0,
          1
         ],
         "tickfont": {
          "color": "black",
          "family": "serif",
          "size": 16
         },
         "title": {
          "font": {
           "color": "black",
           "family": "serif",
           "size": 16
          },
          "text": "Phase Angle"
         }
        },
        "yaxis": {
         "anchor": "x",
         "autorange": false,
         "domain": [
          0,
          1
         ],
         "range": [
          0.39617654089857657,
          -0.4111023887975175
         ],
         "tickfont": {
          "color": "black",
          "family": "serif",
          "size": 16
         },
         "title": {
          "font": {
           "color": "black",
           "family": "serif",
           "size": 16
          },
          "text": "Phase Corrected Mag"
         }
        }
       }
      }
     },
     "metadata": {},
     "output_type": "display_data"
    }
   ],
   "source": [
    "plots.general(x_column='phase_angle',\n",
    "              y_column='phase_corrected_mag',\n",
    "              show_yerr=True,\n",
    "              show_color=True,\n",
    "              color_column='filter_code',\n",
    "              table=merged_table_corr,\n",
    "              save_path='Haumea/plots/Haumea_phase_corrected_all_last.jpg')"
   ]
  },
  {
   "cell_type": "code",
   "execution_count": 26,
   "id": "9a754169-f43a-4330-ab6d-a2cd33d8fd08",
   "metadata": {},
   "outputs": [
    {
     "data": {
      "application/vnd.plotly.v1+json": {
       "config": {
        "plotlyServerURL": "https://plot.ly"
       },
       "data": [
        {
         "cliponaxis": true,
         "error_y": {
          "array": {
           "bdata": "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",
           "dtype": "f8"
          },
          "color": "gray",
          "type": "data",
          "width": 1
         },
         "hovertemplate": "filter_code=g<br>jd_lt_corr=%{x}<br>phase_corrected_mag=%{y}<extra></extra>",
         "legendgroup": "g",
         "marker": {
          "color": "#636efa",
          "symbol": "circle"
         },
         "mode": "markers",
         "name": "g",
         "orientation": "v",
         "showlegend": true,
         "type": "scatter",
         "x": {
          "bdata": "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",
          "dtype": "f8"
         },
         "xaxis": "x",
         "y": {
          "bdata": "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",
          "dtype": "f8"
         },
         "yaxis": "y"
        },
        {
         "cliponaxis": true,
         "error_y": {
          "array": {
           "bdata": "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",
           "dtype": "f8"
          },
          "color": "gray",
          "type": "data",
          "width": 1
         },
         "hovertemplate": "filter_code=r<br>jd_lt_corr=%{x}<br>phase_corrected_mag=%{y}<extra></extra>",
         "legendgroup": "r",
         "marker": {
          "color": "#EF553B",
          "symbol": "circle"
         },
         "mode": "markers",
         "name": "r",
         "orientation": "v",
         "showlegend": true,
         "type": "scatter",
         "x": {
          "bdata": "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",
          "dtype": "f8"
         },
         "xaxis": "x",
         "y": {
          "bdata": "LAjaWnCGtT/4GIP3L0iiP2AY4zW7BnE/cC2Jhp+hjj+Qm5V/HGiBv/gpWuhxLp0/LJMieekRqT9osgAvM4OjPwBJZJqfvGs/tAxy68Buwj8AoJoXamNVPxBVZ3R/c4C/+IlD3Nhgqz+ITqxMx9CRP2CiK07qXpg/5JMo3P7Voj/gk0hNqM1+P/aHe482sbA/oGwv0smAnT8AauuydriHP3jyTqD96JM/AHMD46fSQ79UX42ForqmPyA9gt8WWI2/3F1EC6mPoT8AtJDhMJE1v5Csg6oNUYc/EP0ytrj/lz/8iixP4K+tv+B5SIwnF4u/MPYCvdmIgz+M7C8zNQSgv3C849G5iJW/gHKuUQz9fb/AIweb20N+P0BJHbnYcom/AEg61rVdiD94IleBZ86pP8Avx85rM5E/AM/SqRU4Vr+QY+RJJROwP8ADe0TNcoU/gICR6UWPYr+4eRaac3mhP+ABhyV7YJ0/AFMQ6ls6Xz94DOKLOIywP5zvPvoYzLI/QBNqSsCDfL+kfKeG9yWsv0jamMG9XLE/YGRWfQh7kD+Qu4g0W0Kcv3po/GAMw6i/+OgACxbkmb8gNTjpXXt+P7hFnzGFmqU/sKaB5n4ggT+QwXCMvKGSPzjDD6V6bJS/LODqLIm3pT+w7jGkLeybPyj36vfnpqg/iCHlvKzqpD+AZyU6fet/PzAhIYvzXY4/sJnxXNTrmD9ALTQztnisPzR+pVUreaG/AH/UljF6br/YaL211l+dP4ATfS6/IJ4/QHRJtD0Pmj8A4Ma5ZsL3PoBPs+nChlg/ALU1hXvolD84lgj01fCePyCJxvaul5E/8H0Q+e9vhj9AXq15KqiTP2DoATFchq8/CNGUuJz1mj+o6ouR88WaP4Abkq+Ek3Y/fJO2pndqpb/gSNlHWXaBP4zRkyZP86c/xunNZkMMvT+QclfUZqaFvwCoEZ0YgEM/QFnDmXB2az8ApZRLZO6JPxSKDTyuGKi/A5oMMsYmub/IHYyG0NOdv8ySDDwFNsG/gK5N7G0CYT+YAubxo4SlP0h10rWFcc8/UFVb3EhOgL+4nZOCap+fPyArwwhDzYU/nHl1CFGbqD+w93cenD6SP0ALbbT0KI0/AKEFeyjrTr804UARGUWmv5DJTXMPApm/ANnCfQ+Zdb8QdZhDobaBv4AzgTk8Tow/ANWuZBsbVT/QCuLfjb2Pv0AC50rch3Q/5EjvhrJOoT9Q11Cz0E+JP6ipbO0JarE/1FV+lh5ppL9Qtm/pZ9iBv4A/q0db8XM/wPz1WNIyjj+AV0obS7pTP9Dgc9HU5Jq/KqL6vn8Fpb+Q/k8cqC+ev8CNQd7iGo6/4GyuuBlmgT/RMl+adBjAP/CGI64ru5E/4D9G+LWdfz9Mo44A3UmhPzZoeKvmJ7k/cNq64H54nD9eXqasgnawv8Axp7CoVXS/mGwHtUYrsD9Al01y4paAv8CzL+goZIM/SA0QBsnIm7+g7sW3DkZ6PwgxmHj3kqo/IIRQFY8zf7/A+hwEm+yeP7Biz4p1Q6K/gA4dBpqzbr8QV/jbaJiAP3D+zVA/Rok/AHJpJPnYlj8gsYyRq2NyP9iWQTgR4p+/WGLaR1Awmj/o8gPXL2mYP8A7BdDhTma/MKdbcKBDpz8AU6qHo1FzPwC5TQq7npK/EGhZP4XEhD+gnUvaV5V1v4BEhHsHBZy/8A8dxN35ir/w7NN41zaTv9ibgcBhZKg/IDDJ+bnKkr8ARaeyOZJtv8Ce4ySoo3m/ALXh3k69Wr8gJpXqpiafP8BujbpAOm4/DPG+MN+kqT8S/vA2IIbDP6AeGQyMIpM/oMc0PhKfkb8o7x+fraeYP8CTy9SOHo0/IFrqXRE5fr+ANHBMd1Vdv6j6qvX+1Ji/gBkTjF/zjj9IQqanCvalPwCaJBM/2aQ/ALIp42UIjL/AclbxGMKGP4CVyZDg8mY/aDvFbMikoz8gSOfVssCSvxsVshXQdrC/kIlRT2NEgD+QmTOB4legPwS+TqXP/6o/YAxbVBzOdr9AytV5tRuCP2ixFQ0x/qY/IPp+0USPcL/oxadz2g2QPwBq7G5aCYk/AFz5xr7hRb8ATAZYt2F/P7BSNLw9lIS/mPSlL96flL80pd9oMw+svwjW1vpXTJM/KPgDhFoyqT/gVgNRmHCTP0KelZDO77A/ACkjg4k2iz8YaqU9rw+WP9Do57RalIS/mPerMrSdkL8A7Szewjx+v8CV8W7tInW/6GFbA92/lD+w0LsfP6aSvzjCwQHJvJA/FPWfhvdhoT8wjrvqNHqMv/Dqncl8eJs/kCtXHo3Ln79kJAw7XY2lP+DXJBsp/oq/0OOXwIEViT9QDcTgz3qPvxD+jnyFW4s/EDetPmwwi7/gApXgPMuBP0ANSQB0Hmk/FvLEr+e2sr8A7is03MKvP4CniQfyZ3K/6BZtvYIdnL9Q0KTOokOevyScYKLO46A/KJ2bu7o/nL8Q/SsC2k+Jv+AvlWGDCnG/IBUNYg++nj+QiRTtXkyXP8DvMoOEb28/QKLIQMyklD8QbZvQmraBP8DLITz9GIs/4EE65cp3hT/gMp/jKheVv+DCaYC3hoM/gCSJ4osvkL/AA/TPW3dzvwiFSyJXlZg/wOtGnINTgT/QEb/0EaCEv5CHNyi6dYq/YMIVwxQ+cL/Qdd8N0USDPzj7/M9YEZc/qIcpXK/EkL+2e2LqhGqwP0SqPQ5mW6i/APnV6yOZSb/AGG5EyeNhv9BXfrQbGoS/wOp/injGiD+AvCSMAJagv2BqJA+nl3i/kD6MKFYPiD8A7nThnGw8P4B5Q5c0R10/4LtE0qKZdD/A+46yaPd0P+Cr6Og4VZO/3Eoh6VDvoT/4zybrVK2ev9i2X+QduZw/FH1kTBDQoj+itpDohOqwP9TBFcMzC6s/CJ7XHSpLoD8AvAPiechnvyBpg9l0ZY2/IGy6inpOjb9AgBy/TqCMv+AmNmiZG4A/4NN5EltUhL/w5B8VfRGavwShuP1tbKA/wNVVjdsokL+A0Nege8OFP6DkUzQsGY4/MCDLR62Elb8wPhd+xd6Kv+DOoQRbNXQ//ndmRGDroL/AG7MAp0d9v6BRaqtAIYm/MDtO+uatnb/Y35qqIdWQP4Dc3/VZLIe/ML/fvvs+k7/YSO7NaH26v+ari7rOpai/QJ4K7ynRhL+IY496qzmev1Jb62buJKK/sCp3NJVfnb+AQq7YG62FvzD4z4o1SIi/QBh8bL3mh79A8zuHWb2Av7iy30nrSZ+/KGiS3A+5kz9qUQiEwIiqv8r9+8rvQK2/UEjRJsQqm79QNHdC692fv4DJlxhca4K/JMWJCnVDo78Yny7ZOy2YvxCH6gEyy5m/oJwC5T4MlL8A0KBAXdI4v5CwF7kMwpw/QIgtQ788gb8g0e99H7OMPwBspBzhHn8/KGuBTxlKlb8AaJilN7ZSPzjTg274v6g/YDTMOAS7mj+IBdv6wWKXv1ACR7OZgY0/Zvw5nNyrqb/AJ/EgBdaCv7g/W7BBd6u/wDbl3VpDYT+ATUxkDldrv+A3dPuXdIk/iHMOYH5Zoz+oaKQHqGCUP2w2ONEytqQ/yHNAMvKtkb8Axkd3A0U0PyDDwxUfaoO/QKSzPlSYiD9g6ED0vESeP0CXRzyf+5W/IM224o3Vdj/kvzBtaaulP4ARLDmEG4I/YIZRSRbgcT8sxqyfavCiP7ijXQnhYJU/YGCGioFMfT/QECujDT6Uv6CStah3uns/QKarjOjFab+QRf8YHwqDv9Urf6jXwM4/oMB1YPkVlz8g5ptZqWakv1BD2gcK5Ko/AC/ds48ZTT8AVKKfaE5BP/gdAW7C1p6/ALMYupIdYD/AExlNb7Njv6BSNXqF4Ig/gBhIc6euYb/oF6VpPwadv4AfhTPzkHI/EB/kr7rRgr84I1Ebs2Kbv+CxMRVvHqe/KOYQhUmhmj8Yu+C8g9WcPwDTYO+kb3o/wILOaGeMdz/YmzG32KCeP8g0NIwZnq6/hKcJmaD2o7+4T8BPQvadP7haAcztgpg/ABeg0tFLfD9ARf9TXFN+P2gLkjvpxJI/gNdrbi87k79gqAJQO02XP2AClZXkDKC/wC0NkJG8lr+ANynmbU12P8jZZVl3y5k/oLMjTnjmhT+4OwCmNnOQv+BwEIlxUaK/AP06vNCvrj80UPR2RMGyP6Ba98LZkpO/tCS+xJicrD8AYc8TvVt6v1AAfPsjVKU/oJ2z9UrelT/AUK0GvNtsPxDIhMeunZo/GDYKxmS9uD+g1rcSVDGSv8AKX759U3M/nPqxa3h+q7+og56H7fuhP/jyi5JXhJk/ACA/ImnRR7/ArdsYR0N4v6Afdj+JwZU/wGsDTra3gb/AHXDo51uFP2iYgHwFFpS/AJwmXUzqPT8AtEVxFzGnv7BtU6Vzpow/WPtcr8OMpj9g8r6SP+mCv/wtezRToa0/LJU/DkzEoj9Auw8eIO1pvzKqZNSBbLS/QPokSaMXbj9kTr2pPyKpPyAkeD3m6aU/4HklSKAAib/QylEmJsWCP7xSFCPxJqk/nPsqhYIFqD+gSd6ZfK+CP3jO7UwdZ50/KLFg/zYKn794rCUQJI2eP2SkHMpGXaY/4HKJPCOjhz8A7BlfdJZ0P/AXrOm8xJK/lA09dD1kuL9HHjayYfy2v9gQE/AuQqE/EGHIZIJSnD/w84UXL+abv2YXlOqwjrS/ELvFuuw/mD+AQpWzZs1ov9DE3HeoTqY/UJ6OyL/jiL80SyZGxYukvwCBTaYHr5w/CN7zOI6XqT8kmCCWlYm3P4iaIliB9Z6/sMUF+2F6uL/Yl7ih9hSpv8bj/oNQrKm/UpREztFItz9QV1EVjIKGP2ht3JEQzJC/oA6l8spopT/AEA+YVbBsvwDa8k/zoDg/gFw6BEYEkz8w9pUDxxeLv1jbtk01HaK/xOtV9kjXoz/Q+92jlFOVvwCGHhvWUIC/Rda2rtF9sr94SKEthmCjv4hxAaIDdJK/HEDKfeNepr/wGrXkoymOv4gPXkgPoZ2/4Niy6hPteT+4Vgmc1N6lvzBgIni4Vqc/mpxTtbwrsL/63raepTOwvyaDmYRky7m/8CQVChkisD+A7jOSiYBWv3hHPBe6n64/wJIbmBUPkL+cD20a5Ai4P3hlcDla06k/AOO15+cCVb+gHnd9rjWGv2CIw5iddIi/ADSSFVbWK78Aix+yaxZWPyA99+qUdos/9DxJibTEob8gvLXqG6ifv8DyOaDKsJy/4DD+ebhKcj+gOs9ksKtwP3Bi72MkDqo/PEmhn9kEtL8AdVA40ulBPwgLFH2M8pO/yNsr8YYMkD/AL7014lmDP8BuxgasK40/aGtK6G/1nD/8ztEZ7Imhv0jP1C+k1Ze/wOFQECtWfD/k4nkHBFOhv3jXqhObaZW/jM22hA1sor+cKlgr0fqjv6go0I2nZpC/gMq8DmhjlL/Ax+frxrtov5xfSVLk46S/gOqTTusBa78IsQ8UcgqTPzAOPyS7R4s/gKW8VmLchL+AuG1GAJVtPwj/YXRl+Zu/YB8GVwHnj7/QFPg7pdugP0BgahoAA2U/4B0yLhRWcz9wJf3IdDaiv6Bq0kC+jYI/nDHc3Wpoob+w9sxKKIqPvwCVYF2rWUW/2IHqevUnnL/oodWCChyXv0C5yW2EoZi/0IzBp7bInb/Qb+Vw/t+UvwBd3nhnoqa/KLHOSqZHnb+gxxIm0zeHv4CyawoLSFI/NkGlmmu1o7+ANnB15/FgP6A+J9Zpd3O/kM3hsLLOh78wcsUj0GWGvwAA63en0Oa+sBKs6RsviL8g8o2xSEdxv+gH3+LpL5s/aPLEcMEdnD8gA7+h9GKiPxB/uE0V6aY/oLQE00OHgj9MGPNMfJmiP1A7xBpjOYE/ADXPJvoIbj+A7sWNMUuMPwiG1/xqBJQ/8DUQICIUkz9wAgZ7jI+FP8CIS06n5GG/RBaC6XCboL+YvEvboEmRv4Bl3BKFQ34/YM8gUMq8hb/QTizJNJmVP8BpCdbWgI4/AJIZ1WTHMj9uCJhYNC6yP+CLLp/Mo4c/cPoHRrT2lj8A14qQkMRuv3/IitXhitC/nGCemBYtqr/ATnJnxl6Ev8AefyGMdWu/AOAnayd8kr8oATwp+pqYPwQT5Vn0SKW/0My+QvJVjL/gbw9p6+d2P/AS2HHoLYe/4OBGn+ZioD9QHEO4V5mKv9AUKCZT5JG/UH6QYv6+gD8QTETAFCyjP8AxeqInDaC/AGRc8YQ6Nr/A5evAlId1vwBwj8vzUJu/wHZ3cD1Qhj8AX0bAnBSBPyi7IIDJJJg/oNh42az1l7+glcr/04uFP5BqlfFtHJM/UKAQgQk8kj8gRPRQRByRv+CQ9XWLuIK/sO1vlvgzgr/43iS6Ln6Wv1DV3D3146u/cEHZk2huiL8AF7K4Pz96P6inmo93sac/QJoqHMLodr+AEbmsDNCav8z09UtoAaa/gHaQ6AVYo7+u5CYi/5O6v2hMvS5npZC/wJPLsWU/kr9QRee5Xj+VP6SVngYWzqS/MN44kFyaj7+gaB0MZLCrv5SsgjiD+KS/ZNSVYsjTrr+wvLM883yBv955wbdghLm/dOI70hq5q7+Q3/vgGlejv6DOtiHt96K/wG+KGdUzkD8AYF+O+LFFP0BqXLGFYZC/YJ1rs3GrdL9onRMdlomlvxBY1g/BGoC/OO232l41kT+wOIpX4HGYv/6zbcMGW7I/oF9hnjiVnT/glqMg+ZKdv3/l5axsHrW/cPpO1WCDlb+QtrqOHvicv2SEBkirvcS/CGkjDsepob/QmdElKeSTv6BkMjwBqoK/gvHMHCzso79QWWs08qOCv4AjLtqZOY6/wGUoBMxBYL8A2/4K5XqIv1C4vqUagZq/WE3fWHbUkr/4fgwNBtGcv8AYE2yjUIa/mA5aOEoskD8A+aaNnOF5P1yTNRZX7Ky/YBoW+V+IjT+4GqTAScaTv1gQud4rf5O/eNK3lxdSm7+A9zI8pHNjv+CCk4UDB4q/kD6R4QN2i7/ADP6C6xdzP4o5yJVFxqK/4NPtW0w0hD/g2c/1Ymp1PyDEzDwLCJ6/4ws0b3sPsL98EjyUuAGjv6Cf7KYTiX8/0vBuhUI1qb9Cnag5q4qkv8BnoTPFZ3e/eJ7XrBsXob94ZT4KWKmgvzRH8BUxT6i/aLUNRwRZk78Iv4+qVEOtv2DR38SlFY4/0AN7Q+ljir9wbrJ+cluOv2CDLZVjbZC/wCH8qXRjhL8wrN6hPT2Ov2CZZSABkqG/mLNF9mwMqr/gz90MzhyPP0hIh3MZNJ+/QKUbSeZAjz/wJniK0bWtv4iEsMbu4aW/EI+s7euEmb/YS9pyRmylv6C/XdWJPo2/MOr3mGoOir9Id/Fenx6WPxAK0W1EF5m/YHzK4Octr7/4p6+eAMSkv5gSPq0UnKa/dGzIOeGCob/oKHkePqCfv+zZNcHLRKm/uNqg25Xzpr/AsjPIjXFvPwC89BgWNGW/oJrKC8rJfz9AUGVV9zZkP+Aja4EouXG/ABXqtduCW7+Izb3VRJ6gv0AfkPgOdGs/VNLAvmqwoL9gfVN/EDidv0gHO+BMjKW/HE5qCr8loz8AfHeqkvCevwCdAMYYdHy/gIUTlm1Ccr/ANIZ/Q2x6v5BDoSZlO5M/pBOOGOZJp7+AFbMTnwF7vwBoVQGv4Jm/MMilfiUhmT8wvzS6hVWCP8CItUJu424/IJFm6fedmr8wKz9XDRqTP4CcUBYa1mE/rEzqIzCmob+wzlrpFVipP0D8gNPUzpq/QJJ8Z4BjZb+Ewah3BZ2rPwYVNGxFfrO/UPFDwo2lm78gfU4LNm9/v2jOhQnaPa2/4BUOVmvghL/8wocE0vKiv/DYjoLFbYk/kIEtASXVoj808hKtRHKivzw/ILNZD66/IOBc+hdGs78oOAnNkkOfv6CVQ+pShq+/LPV2OUaDrb8A9zn/w5WWv0DYFRx3B4i/zIJ+/D56pb/Q+vnLtVePv5xRAWO4Wqa/WCSNmvk8sL8ofjeodHydP6BbgyWi3nA/nDoSTyIJpr96Bl7FsrS4P4BdhPCe9GM/jFgsfPbc1L/QugR/fNyCv6h11+ny0JM/QNaTZh/PkL9AS3M+++lxPzgl4q3m5qO/LI+75PaNrL827+xQhPOjv7wVb6lGtLK/0HExzzlZqL9I+Qhkk++VvxjIpjI+mae/EMyR34SJlL8weWcO7BWEv/At3ouJwp+/AIyBLjOuVT+YlVjp/Rqnv86nTMgd3aW/AKJ94y1xWL9w7GSA4CuXP/568UMBS6u/aFk6rtDIl7+0MuGJRf+lv5R7IRYxXqi/uIf5DCAhpb8QBg30ZWifv9r/8KWjs6O/AFG7YuMrTL8A0wH/7xdIv6AICd55zZa/6CUPDRNxkL+gAzNz8+uEv0DHgBQLOG2/IIUcBO3adz/g81h4rGiHv+QIsx8mQKi/0P8oV93Rhj+A9jMUN5uxP3DMyrCqfIW/xNmN9XSdqj9IJlvae9ifv6wQCrd5uKE/uKilbIvzmb8skowU8Wyrv2g4AjOrk62/IHzF0FNEl78w5Y+8EVSkv9DuG5zKT6u/pIHfLzAho7/AEZ4oPaGfv+Ck7+fk/p+/8EIsQ+sugD+YaTNbUUeXvwDG7iKmrF6/7ICF3Nxbq79wefpjjJKSvyAj6ZUosXm/AB36S1yJS78ohTDDaLKSv5CLdhErI6a/pARt+HwXp79g+A0MHu6Tv1T+ozNSV6u/gI3G+jMzcb8wrFjTJqSLvxDcFOArYpq/vsT2nkKowb9Ys7pkEAeuv7ie6RToT52/9D993Uzpq78eIChGD3O1P9Aw/+AZ1Ky/A1596JzlvL/QedCnN46YP2wFQHz6Lam/HI0eJRbkq7+Y/rYr2Jahv0DMRpm3U4Q/2NrS2RTjt7+20aas3+K7v7iMYZPBWJa/sCMddp38q78SKwaVw5KwvzB37/kSP5u/+EEaim4+o78Ea8BGg8akvwBLIRShFZ6/bIgJ8j9oqL9OJF1hyECyv9ChBJlyN5K/ACXXcfZGVL8YPPOFHmOsPzyTq/2EZbC/ikkSYlvUqr9QPbMRaiyYPw==",
          "dtype": "f8"
         },
         "yaxis": "y"
        },
        {
         "cliponaxis": true,
         "error_y": {
          "array": {
           "bdata": "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",
           "dtype": "f8"
          },
          "color": "gray",
          "type": "data",
          "width": 1
         },
         "hovertemplate": "filter_code=i<br>jd_lt_corr=%{x}<br>phase_corrected_mag=%{y}<extra></extra>",
         "legendgroup": "i",
         "marker": {
          "color": "#00cc96",
          "symbol": "circle"
         },
         "mode": "markers",
         "name": "i",
         "orientation": "v",
         "showlegend": true,
         "type": "scatter",
         "x": {
          "bdata": "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",
          "dtype": "f8"
         },
         "xaxis": "x",
         "y": {
          "bdata": "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",
          "dtype": "f8"
         },
         "yaxis": "y"
        }
       ],
       "layout": {
        "font": {
         "color": "black",
         "family": "serif",
         "size": 16
        },
        "legend": {
         "title": {
          "text": "filter_code"
         },
         "tracegroupgap": 0
        },
        "margin": {
         "b": 70,
         "l": 80,
         "r": 30,
         "t": 70
        },
        "template": {
         "data": {
          "bar": [
           {
            "error_x": {
             "color": "#2a3f5f"
            },
            "error_y": {
             "color": "#2a3f5f"
            },
            "marker": {
             "line": {
              "color": "#E5ECF6",
              "width": 0.5
             },
             "pattern": {
              "fillmode": "overlay",
              "size": 10,
              "solidity": 0.2
             }
            },
            "type": "bar"
           }
          ],
          "barpolar": [
           {
            "marker": {
             "line": {
              "color": "#E5ECF6",
              "width": 0.5
             },
             "pattern": {
              "fillmode": "overlay",
              "size": 10,
              "solidity": 0.2
             }
            },
            "type": "barpolar"
           }
          ],
          "carpet": [
           {
            "aaxis": {
             "endlinecolor": "#2a3f5f",
             "gridcolor": "white",
             "linecolor": "white",
             "minorgridcolor": "white",
             "startlinecolor": "#2a3f5f"
            },
            "baxis": {
             "endlinecolor": "#2a3f5f",
             "gridcolor": "white",
             "linecolor": "white",
             "minorgridcolor": "white",
             "startlinecolor": "#2a3f5f"
            },
            "type": "carpet"
           }
          ],
          "choropleth": [
           {
            "colorbar": {
             "outlinewidth": 0,
             "ticks": ""
            },
            "type": "choropleth"
           }
          ],
          "contour": [
           {
            "colorbar": {
             "outlinewidth": 0,
             "ticks": ""
            },
            "colorscale": [
             [
              0,
              "#0d0887"
             ],
             [
              0.1111111111111111,
              "#46039f"
             ],
             [
              0.2222222222222222,
              "#7201a8"
             ],
             [
              0.3333333333333333,
              "#9c179e"
             ],
             [
              0.4444444444444444,
              "#bd3786"
             ],
             [
              0.5555555555555556,
              "#d8576b"
             ],
             [
              0.6666666666666666,
              "#ed7953"
             ],
             [
              0.7777777777777778,
              "#fb9f3a"
             ],
             [
              0.8888888888888888,
              "#fdca26"
             ],
             [
              1,
              "#f0f921"
             ]
            ],
            "type": "contour"
           }
          ],
          "contourcarpet": [
           {
            "colorbar": {
             "outlinewidth": 0,
             "ticks": ""
            },
            "type": "contourcarpet"
           }
          ],
          "heatmap": [
           {
            "colorbar": {
             "outlinewidth": 0,
             "ticks": ""
            },
            "colorscale": [
             [
              0,
              "#0d0887"
             ],
             [
              0.1111111111111111,
              "#46039f"
             ],
             [
              0.2222222222222222,
              "#7201a8"
             ],
             [
              0.3333333333333333,
              "#9c179e"
             ],
             [
              0.4444444444444444,
              "#bd3786"
             ],
             [
              0.5555555555555556,
              "#d8576b"
             ],
             [
              0.6666666666666666,
              "#ed7953"
             ],
             [
              0.7777777777777778,
              "#fb9f3a"
             ],
             [
              0.8888888888888888,
              "#fdca26"
             ],
             [
              1,
              "#f0f921"
             ]
            ],
            "type": "heatmap"
           }
          ],
          "histogram": [
           {
            "marker": {
             "pattern": {
              "fillmode": "overlay",
              "size": 10,
              "solidity": 0.2
             }
            },
            "type": "histogram"
           }
          ],
          "histogram2d": [
           {
            "colorbar": {
             "outlinewidth": 0,
             "ticks": ""
            },
            "colorscale": [
             [
              0,
              "#0d0887"
             ],
             [
              0.1111111111111111,
              "#46039f"
             ],
             [
              0.2222222222222222,
              "#7201a8"
             ],
             [
              0.3333333333333333,
              "#9c179e"
             ],
             [
              0.4444444444444444,
              "#bd3786"
             ],
             [
              0.5555555555555556,
              "#d8576b"
             ],
             [
              0.6666666666666666,
              "#ed7953"
             ],
             [
              0.7777777777777778,
              "#fb9f3a"
             ],
             [
              0.8888888888888888,
              "#fdca26"
             ],
             [
              1,
              "#f0f921"
             ]
            ],
            "type": "histogram2d"
           }
          ],
          "histogram2dcontour": [
           {
            "colorbar": {
             "outlinewidth": 0,
             "ticks": ""
            },
            "colorscale": [
             [
              0,
              "#0d0887"
             ],
             [
              0.1111111111111111,
              "#46039f"
             ],
             [
              0.2222222222222222,
              "#7201a8"
             ],
             [
              0.3333333333333333,
              "#9c179e"
             ],
             [
              0.4444444444444444,
              "#bd3786"
             ],
             [
              0.5555555555555556,
              "#d8576b"
             ],
             [
              0.6666666666666666,
              "#ed7953"
             ],
             [
              0.7777777777777778,
              "#fb9f3a"
             ],
             [
              0.8888888888888888,
              "#fdca26"
             ],
             [
              1,
              "#f0f921"
             ]
            ],
            "type": "histogram2dcontour"
           }
          ],
          "mesh3d": [
           {
            "colorbar": {
             "outlinewidth": 0,
             "ticks": ""
            },
            "type": "mesh3d"
           }
          ],
          "parcoords": [
           {
            "line": {
             "colorbar": {
              "outlinewidth": 0,
              "ticks": ""
             }
            },
            "type": "parcoords"
           }
          ],
          "pie": [
           {
            "automargin": true,
            "type": "pie"
           }
          ],
          "scatter": [
           {
            "fillpattern": {
             "fillmode": "overlay",
             "size": 10,
             "solidity": 0.2
            },
            "type": "scatter"
           }
          ],
          "scatter3d": [
           {
            "line": {
             "colorbar": {
              "outlinewidth": 0,
              "ticks": ""
             }
            },
            "marker": {
             "colorbar": {
              "outlinewidth": 0,
              "ticks": ""
             }
            },
            "type": "scatter3d"
           }
          ],
          "scattercarpet": [
           {
            "marker": {
             "colorbar": {
              "outlinewidth": 0,
              "ticks": ""
             }
            },
            "type": "scattercarpet"
           }
          ],
          "scattergeo": [
           {
            "marker": {
             "colorbar": {
              "outlinewidth": 0,
              "ticks": ""
             }
            },
            "type": "scattergeo"
           }
          ],
          "scattergl": [
           {
            "marker": {
             "colorbar": {
              "outlinewidth": 0,
              "ticks": ""
             }
            },
            "type": "scattergl"
           }
          ],
          "scattermap": [
           {
            "marker": {
             "colorbar": {
              "outlinewidth": 0,
              "ticks": ""
             }
            },
            "type": "scattermap"
           }
          ],
          "scattermapbox": [
           {
            "marker": {
             "colorbar": {
              "outlinewidth": 0,
              "ticks": ""
             }
            },
            "type": "scattermapbox"
           }
          ],
          "scatterpolar": [
           {
            "marker": {
             "colorbar": {
              "outlinewidth": 0,
              "ticks": ""
             }
            },
            "type": "scatterpolar"
           }
          ],
          "scatterpolargl": [
           {
            "marker": {
             "colorbar": {
              "outlinewidth": 0,
              "ticks": ""
             }
            },
            "type": "scatterpolargl"
           }
          ],
          "scatterternary": [
           {
            "marker": {
             "colorbar": {
              "outlinewidth": 0,
              "ticks": ""
             }
            },
            "type": "scatterternary"
           }
          ],
          "surface": [
           {
            "colorbar": {
             "outlinewidth": 0,
             "ticks": ""
            },
            "colorscale": [
             [
              0,
              "#0d0887"
             ],
             [
              0.1111111111111111,
              "#46039f"
             ],
             [
              0.2222222222222222,
              "#7201a8"
             ],
             [
              0.3333333333333333,
              "#9c179e"
             ],
             [
              0.4444444444444444,
              "#bd3786"
             ],
             [
              0.5555555555555556,
              "#d8576b"
             ],
             [
              0.6666666666666666,
              "#ed7953"
             ],
             [
              0.7777777777777778,
              "#fb9f3a"
             ],
             [
              0.8888888888888888,
              "#fdca26"
             ],
             [
              1,
              "#f0f921"
             ]
            ],
            "type": "surface"
           }
          ],
          "table": [
           {
            "cells": {
             "fill": {
              "color": "#EBF0F8"
             },
             "line": {
              "color": "white"
             }
            },
            "header": {
             "fill": {
              "color": "#C8D4E3"
             },
             "line": {
              "color": "white"
             }
            },
            "type": "table"
           }
          ]
         },
         "layout": {
          "annotationdefaults": {
           "arrowcolor": "#2a3f5f",
           "arrowhead": 0,
           "arrowwidth": 1
          },
          "autotypenumbers": "strict",
          "coloraxis": {
           "colorbar": {
            "outlinewidth": 0,
            "ticks": ""
           }
          },
          "colorscale": {
           "diverging": [
            [
             0,
             "#8e0152"
            ],
            [
             0.1,
             "#c51b7d"
            ],
            [
             0.2,
             "#de77ae"
            ],
            [
             0.3,
             "#f1b6da"
            ],
            [
             0.4,
             "#fde0ef"
            ],
            [
             0.5,
             "#f7f7f7"
            ],
            [
             0.6,
             "#e6f5d0"
            ],
            [
             0.7,
             "#b8e186"
            ],
            [
             0.8,
             "#7fbc41"
            ],
            [
             0.9,
             "#4d9221"
            ],
            [
             1,
             "#276419"
            ]
           ],
           "sequential": [
            [
             0,
             "#0d0887"
            ],
            [
             0.1111111111111111,
             "#46039f"
            ],
            [
             0.2222222222222222,
             "#7201a8"
            ],
            [
             0.3333333333333333,
             "#9c179e"
            ],
            [
             0.4444444444444444,
             "#bd3786"
            ],
            [
             0.5555555555555556,
             "#d8576b"
            ],
            [
             0.6666666666666666,
             "#ed7953"
            ],
            [
             0.7777777777777778,
             "#fb9f3a"
            ],
            [
             0.8888888888888888,
             "#fdca26"
            ],
            [
             1,
             "#f0f921"
            ]
           ],
           "sequentialminus": [
            [
             0,
             "#0d0887"
            ],
            [
             0.1111111111111111,
             "#46039f"
            ],
            [
             0.2222222222222222,
             "#7201a8"
            ],
            [
             0.3333333333333333,
             "#9c179e"
            ],
            [
             0.4444444444444444,
             "#bd3786"
            ],
            [
             0.5555555555555556,
             "#d8576b"
            ],
            [
             0.6666666666666666,
             "#ed7953"
            ],
            [
             0.7777777777777778,
             "#fb9f3a"
            ],
            [
             0.8888888888888888,
             "#fdca26"
            ],
            [
             1,
             "#f0f921"
            ]
           ]
          },
          "colorway": [
           "#636efa",
           "#EF553B",
           "#00cc96",
           "#ab63fa",
           "#FFA15A",
           "#19d3f3",
           "#FF6692",
           "#B6E880",
           "#FF97FF",
           "#FECB52"
          ],
          "font": {
           "color": "#2a3f5f"
          },
          "geo": {
           "bgcolor": "white",
           "lakecolor": "white",
           "landcolor": "#E5ECF6",
           "showlakes": true,
           "showland": true,
           "subunitcolor": "white"
          },
          "hoverlabel": {
           "align": "left"
          },
          "hovermode": "closest",
          "mapbox": {
           "style": "light"
          },
          "paper_bgcolor": "white",
          "plot_bgcolor": "#E5ECF6",
          "polar": {
           "angularaxis": {
            "gridcolor": "white",
            "linecolor": "white",
            "ticks": ""
           },
           "bgcolor": "#E5ECF6",
           "radialaxis": {
            "gridcolor": "white",
            "linecolor": "white",
            "ticks": ""
           }
          },
          "scene": {
           "xaxis": {
            "backgroundcolor": "#E5ECF6",
            "gridcolor": "white",
            "gridwidth": 2,
            "linecolor": "white",
            "showbackground": true,
            "ticks": "",
            "zerolinecolor": "white"
           },
           "yaxis": {
            "backgroundcolor": "#E5ECF6",
            "gridcolor": "white",
            "gridwidth": 2,
            "linecolor": "white",
            "showbackground": true,
            "ticks": "",
            "zerolinecolor": "white"
           },
           "zaxis": {
            "backgroundcolor": "#E5ECF6",
            "gridcolor": "white",
            "gridwidth": 2,
            "linecolor": "white",
            "showbackground": true,
            "ticks": "",
            "zerolinecolor": "white"
           }
          },
          "shapedefaults": {
           "line": {
            "color": "#2a3f5f"
           }
          },
          "ternary": {
           "aaxis": {
            "gridcolor": "white",
            "linecolor": "white",
            "ticks": ""
           },
           "baxis": {
            "gridcolor": "white",
            "linecolor": "white",
            "ticks": ""
           },
           "bgcolor": "#E5ECF6",
           "caxis": {
            "gridcolor": "white",
            "linecolor": "white",
            "ticks": ""
           }
          },
          "title": {
           "x": 0.05
          },
          "xaxis": {
           "automargin": true,
           "gridcolor": "white",
           "linecolor": "white",
           "ticks": "",
           "title": {
            "standoff": 15
           },
           "zerolinecolor": "white",
           "zerolinewidth": 2
          },
          "yaxis": {
           "automargin": true,
           "gridcolor": "white",
           "linecolor": "white",
           "ticks": "",
           "title": {
            "standoff": 15
           },
           "zerolinecolor": "white",
           "zerolinewidth": 2
          }
         }
        },
        "title": {
         "font": {
          "color": "black",
          "family": "serif",
          "size": 16
         },
         "text": "Haumea - all - 1631 points",
         "x": 0.5,
         "y": 0.93
        },
        "xaxis": {
         "anchor": "y",
         "domain": [
          0,
          1
         ],
         "tickfont": {
          "color": "black",
          "family": "serif",
          "size": 16
         },
         "title": {
          "font": {
           "color": "black",
           "family": "serif",
           "size": 16
          },
          "text": "Jd Lt Corr"
         }
        },
        "yaxis": {
         "anchor": "x",
         "autorange": false,
         "domain": [
          0,
          1
         ],
         "range": [
          0.39617654089857657,
          -0.4111023887975175
         ],
         "tickfont": {
          "color": "black",
          "family": "serif",
          "size": 16
         },
         "title": {
          "font": {
           "color": "black",
           "family": "serif",
           "size": 16
          },
          "text": "Phase Corrected Mag"
         }
        }
       }
      }
     },
     "metadata": {},
     "output_type": "display_data"
    }
   ],
   "source": [
    "plots.general(x_column='jd_lt_corr',\n",
    "              y_column='phase_corrected_mag',\n",
    "              show_yerr=True,\n",
    "              show_color=True,\n",
    "              color_column='filter_code',\n",
    "              table=merged_table_corr)"
   ]
  },
  {
   "cell_type": "markdown",
   "id": "47317cbd-fbf0-4251-a3d8-5c8eb23f88c3",
   "metadata": {},
   "source": [
    "# END"
   ]
  },
  {
   "cell_type": "code",
   "execution_count": 27,
   "id": "cf62b253-ed63-4188-94e8-08b84f504068",
   "metadata": {},
   "outputs": [
    {
     "ename": "NameError",
     "evalue": "name 'ZTFrc' is not defined",
     "output_type": "error",
     "traceback": [
      "\u001b[31m---------------------------------------------------------------------------\u001b[39m",
      "\u001b[31mNameError\u001b[39m                                 Traceback (most recent call last)",
      "\u001b[36mCell\u001b[39m\u001b[36m \u001b[39m\u001b[32mIn[27]\u001b[39m\u001b[32m, line 1\u001b[39m\n\u001b[32m----> \u001b[39m\u001b[32m1\u001b[39m rotational_analysis2 = \u001b[43mZTFrc\u001b[49m.RotationalAnalysis(table=merged_table_corr, \n\u001b[32m      2\u001b[39m                                                 P_ref=\u001b[32m1187.088\u001b[39m,f_min=\u001b[32m0.01\u001b[39m,f_max=\u001b[32m0.08\u001b[39m,n_term=\u001b[32m1\u001b[39m)\n\u001b[32m      4\u001b[39m a,b,c,d = rotational_analysis2.lomb_scargle_fit(asteroid=\u001b[33m'\u001b[39m\u001b[33mHiiaka\u001b[39m\u001b[33m'\u001b[39m, \n\u001b[32m      5\u001b[39m                                      filter_code=\u001b[38;5;28;01mNone\u001b[39;00m,\n\u001b[32m      6\u001b[39m                                      use_magerr=\u001b[38;5;28;01mTrue\u001b[39;00m,\n\u001b[32m   (...)\u001b[39m\u001b[32m     15\u001b[39m                                       use_window_function=\u001b[38;5;28;01mTrue\u001b[39;00m,\n\u001b[32m     16\u001b[39m                                       table=rotational_analysis2.table)\n",
      "\u001b[31mNameError\u001b[39m: name 'ZTFrc' is not defined"
     ]
    }
   ],
   "source": [
    "rotational_analysis2 = ZTFrc.RotationalAnalysis(table=merged_table_corr, \n",
    "                                                P_ref=1187.088,f_min=0.01,f_max=0.08,n_term=1)\n",
    "\n",
    "a,b,c,d = rotational_analysis2.lomb_scargle_fit(asteroid='Hiiaka', \n",
    "                                     filter_code=None,\n",
    "                                     use_magerr=True,\n",
    "                                     save_path=string+'_Hiiaka_periodogram_broad.jpg',\n",
    "                                     legend=True, \n",
    "                                     # delta_t=6,\n",
    "                                     samples_per_peak=400,\n",
    "                                      peaks=True, \n",
    "                                      pn=3,\n",
    "                                      y_max=0.2,\n",
    "                                      n_shuffle=10,\n",
    "                                      use_window_function=True,\n",
    "                                      table=rotational_analysis2.table)"
   ]
  },
  {
   "cell_type": "code",
   "execution_count": null,
   "id": "d635008b-3d6c-4555-a70c-d89638068cc3",
   "metadata": {},
   "outputs": [],
   "source": [
    "model_params_res = rotational_analysis2.compute_phased_model(JD = np.array(rotational_analysis2.table['jd_lt_corr']), \n",
    "                                                        mag = np.array(rotational_analysis2.table['phase_corrected_mag']),\n",
    "                                                        best_freq = rotational_analysis2.best_freq ,\n",
    "                                                        epoch0=2458202.5695942747 # 2018-03-25 01:40:13 first valid data point\n",
    "                                                       )\n",
    "            \n",
    "df_res = plots.folded_lightcurve(asteroid='Residuals',\n",
    "                                table = rotational_analysis2.table,\n",
    "                                filter_codes=np.array(rotational_analysis2.table['filter_code']),\n",
    "                                JD=np.array(rotational_analysis2.table['jd_lt_corr']),  \n",
    "                                model_params=model_params_res, \n",
    "                                corrected_mag=np.array(rotational_analysis2.table['phase_corrected_mag']),\n",
    "                                mag_err=np.array(rotational_analysis2.table['mag_cal_err']),\n",
    "                                best_freq = rotational_analysis2.best_freq, \n",
    "                                save_path=string+'_Hiiaka_lightcurve_t2.jpg', \n",
    "                                shev = None,\n",
    "                                epoch_zero=2458202.5695942747, # 2018-03-25 01:40:13 first valid data point\n",
    "                                show_fig=True)"
   ]
  },
  {
   "cell_type": "code",
   "execution_count": null,
   "id": "b3373202-7c19-4d58-824b-a4649679d715",
   "metadata": {},
   "outputs": [],
   "source": [
    "df_res['residuals'] = df_res['Magnitude']-df_res['model_mag']"
   ]
  },
  {
   "cell_type": "code",
   "execution_count": null,
   "id": "1fa91742-bb9c-423d-a96b-132eef8524bf",
   "metadata": {},
   "outputs": [],
   "source": [
    "plots.plot_folded_lightcurve_with_residuals(df_res,save_path=string+'Hiiaka_folded_light_curve_with_residuals.jpg')"
   ]
  },
  {
   "cell_type": "code",
   "execution_count": null,
   "id": "be6ece57-6329-4357-b31f-cbf416319ec7",
   "metadata": {},
   "outputs": [],
   "source": [
    "def paper_periodogram_zoomed(broad, best_freq, zoom_ranges, full_xlim=None, ylim=1.0,\n",
    "                              save_path=None, error=1, shuffle_value=0.024):\n",
    "    \"\"\"\n",
    "    Plots a periodogram with one broad view and one zoomed-in panel.\n",
    "\n",
    "    Parameters\n",
    "    ----------\n",
    "    broad : array-like\n",
    "        2D array where broad[0] = frequency, broad[1] = power, broad[3] = window function.\n",
    "    best_freq : float\n",
    "        Best-fit frequency (in cycles/day).\n",
    "    zoom_ranges : list of tuple\n",
    "        List of 1 or more tuples: each (xmin, xmax) in hours for zoom panels.\n",
    "    full_xlim : tuple or list of float, optional\n",
    "        X-axis range for top panel (broad view). If None, inferred from data.\n",
    "    ylim : float\n",
    "        Maximum y-axis value.\n",
    "    save_path : str or None\n",
    "        If provided, saves the figure to this path.\n",
    "    \"\"\"\n",
    "    FF = 10  # font size\n",
    "\n",
    "    fig = plt.figure(figsize=[12, 3.75])\n",
    "    gs = gridspec.GridSpec(2, 1, hspace=0.3)\n",
    "\n",
    "    def add_subplot(row, xlim, band_text, highlights=None, show_x=False, show_lines=False):\n",
    "        ax = fig.add_subplot(gs[row, 0])\n",
    "        ax.plot(24 / broad[0], broad[1], color='r', alpha=1.0, label='Data')\n",
    "        ax.fill_between(24 / broad[0], broad[3], 0, color='gray', alpha=0.5, label='Window effect')\n",
    "        ax.axhline(0, color='k')\n",
    "        ax.set_xlim(xlim)\n",
    "        ax.set_ylim(0, ylim)\n",
    "        ax.set_ylabel('LS Power', fontsize=FF)\n",
    "        ax.tick_params(labelsize=FF)\n",
    "        ax.text(0.03, 0.90, band_text, transform=ax.transAxes, fontsize=FF, ha='left', va='center')\n",
    "\n",
    "        if highlights:\n",
    "            for x0, x1, color in highlights:\n",
    "                ax.fill_betweenx([0, ylim], x0, x1, color=color, alpha=0.2)\n",
    "\n",
    "        if show_lines:\n",
    "            ax.axvline((24 / best_freq) - error[0], linestyle=':', color='k')\n",
    "            ax.axvline((24 / best_freq) + error[0], linestyle=':', color='k')\n",
    "\n",
    "        if show_x:\n",
    "            ax.set_xlabel('Rotational Period (hours)', fontsize=FF)\n",
    "\n",
    "        if row == 0:\n",
    "            ax.axhline(shuffle_value, linestyle='--', color='darkblue')\n",
    "            ax.legend(fontsize=FF, loc='upper right', ncol=2)\n",
    "\n",
    "    # Define default full_xlim if not given\n",
    "    if full_xlim is None:\n",
    "        full_xlim = (np.min(24 / broad[0]), np.max(24 / broad[0]))\n",
    "\n",
    "    # Plot top panel (broad view) with both zoom ranges highlighted\n",
    "    highlight_colors = ['blue', 'green']\n",
    "    highlights = [\n",
    "        (zoom_ranges[0][0], zoom_ranges[0][1], highlight_colors[0]),\n",
    "        # (zoom_ranges[1][0], zoom_ranges[1][1], highlight_colors[1])\n",
    "    ]\n",
    "    add_subplot(row=0, xlim=full_xlim, band_text='A)', highlights=highlights)\n",
    "\n",
    "    # Plot only one zoomed-in panel (use first zoom_range)\n",
    "    add_subplot(row=1, xlim=zoom_ranges[0], band_text='B)', show_x=True, show_lines=True)\n",
    "\n",
    "    if save_path:\n",
    "        plt.savefig(save_path, format='jpg', dpi=300)\n",
    "    plt.show()\n"
   ]
  },
  {
   "cell_type": "code",
   "execution_count": null,
   "id": "63251370-8dee-4093-8203-259c9eb65059",
   "metadata": {},
   "outputs": [],
   "source": [
    "Data0 = np.column_stack((a, b, c, d))\n",
    "Data0 = Data0.T"
   ]
  },
  {
   "cell_type": "code",
   "execution_count": null,
   "id": "9a9cd6cd-eef9-41b0-9aed-2479503a1a30",
   "metadata": {},
   "outputs": [],
   "source": [
    "paper_periodogram_zoomed(\n",
    "        broad=Data0,\n",
    "        # full_xlim =[300,1700],\n",
    "        best_freq=rotational_analysis2.best_freq,  # cycles/day\n",
    "        zoom_ranges=[(500, 680), (1050, 1300)],  # periods in hours\n",
    "        ylim=0.15,\n",
    "        error = [9,14],\n",
    "        save_path=string+'Hiiaka_paper.jpg'\n",
    ")"
   ]
  },
  {
   "cell_type": "code",
   "execution_count": null,
   "id": "d3f53cff-9fd8-41d1-98e9-41847f2af243",
   "metadata": {},
   "outputs": [],
   "source": []
  },
  {
   "cell_type": "code",
   "execution_count": null,
   "id": "24694bfd-57fe-425d-b709-dc572f119a7b",
   "metadata": {},
   "outputs": [],
   "source": []
  }
 ],
 "metadata": {
  "kernelspec": {
   "display_name": "Python 3 (ipykernel)",
   "language": "python",
   "name": "python3"
  },
  "language_info": {
   "codemirror_mode": {
    "name": "ipython",
    "version": 3
   },
   "file_extension": ".py",
   "mimetype": "text/x-python",
   "name": "python",
   "nbconvert_exporter": "python",
   "pygments_lexer": "ipython3",
   "version": "3.13.5"
  }
 },
 "nbformat": 4,
 "nbformat_minor": 5
}
